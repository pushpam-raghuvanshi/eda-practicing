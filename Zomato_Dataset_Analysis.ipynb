{
  "nbformat": 4,
  "nbformat_minor": 0,
  "metadata": {
    "colab": {
      "name": "Zomato_Dataset_Analysis.ipynb",
      "provenance": [],
      "mount_file_id": "15mbv4UCe1qHfJ7K1sxcmM77Grl-MKQss",
      "authorship_tag": "ABX9TyNQcIe1DAVYoijhQPiIygqV"
    },
    "kernelspec": {
      "name": "python3",
      "display_name": "Python 3"
    },
    "language_info": {
      "name": "python"
    }
  },
  "cells": [
    {
      "cell_type": "markdown",
      "source": [
        "# **ZOMATO DATASET ANALYSIS**\n",
        "\n",
        "---\n",
        "\n"
      ],
      "metadata": {
        "id": "vrXN7kJzloGs"
      }
    },
    {
      "cell_type": "markdown",
      "source": [
        "### **Mounting Google Drive**"
      ],
      "metadata": {
        "id": "rVAJ9UwQoUIx"
      }
    },
    {
      "cell_type": "code",
      "source": [
        "from google.colab import drive\n",
        "drive.mount('/content/drive')"
      ],
      "metadata": {
        "id": "G1NIl1_RoZWC",
        "outputId": "4c7f7eee-df87-4266-bbd7-0e637efc6d9e",
        "colab": {
          "base_uri": "https://localhost:8080/"
        }
      },
      "execution_count": 4,
      "outputs": [
        {
          "output_type": "stream",
          "name": "stdout",
          "text": [
            "Drive already mounted at /content/drive; to attempt to forcibly remount, call drive.mount(\"/content/drive\", force_remount=True).\n"
          ]
        }
      ]
    },
    {
      "cell_type": "markdown",
      "source": [
        "### **Importing Necessary Libraries**"
      ],
      "metadata": {
        "id": "etLfzX0tmIDP"
      }
    },
    {
      "cell_type": "code",
      "execution_count": 3,
      "metadata": {
        "id": "S1h15yxjjG2d"
      },
      "outputs": [],
      "source": [
        "import numpy as np\n",
        "import pandas as pd\n",
        "import matplotlib.pyplot as plt\n",
        "import seaborn as sns\n",
        "\n",
        "plt.style.use('dark_background')"
      ]
    },
    {
      "cell_type": "code",
      "source": [
        ""
      ],
      "metadata": {
        "id": "DhQIGpUrmuif"
      },
      "execution_count": null,
      "outputs": []
    }
  ]
}