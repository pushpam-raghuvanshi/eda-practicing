{
  "nbformat": 4,
  "nbformat_minor": 0,
  "metadata": {
    "colab": {
      "name": "Zomato_Dataset_Analysis.ipynb",
      "provenance": [],
      "collapsed_sections": [],
      "mount_file_id": "15mbv4UCe1qHfJ7K1sxcmM77Grl-MKQss",
      "authorship_tag": "ABX9TyOUY/PTgANFTZi/yZjzLDb6"
    },
    "kernelspec": {
      "name": "python3",
      "display_name": "Python 3"
    },
    "language_info": {
      "name": "python"
    }
  },
  "cells": [
    {
      "cell_type": "markdown",
      "source": [
        "# **ZOMATO DATASET ANALYSIS**\n",
        "---\n",
        "\n"
      ],
      "metadata": {
        "id": "vrXN7kJzloGs"
      }
    },
    {
      "cell_type": "markdown",
      "source": [
        "![Zomato-logo.png](data:image/png;base64,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)"
      ],
      "metadata": {
        "id": "AXafrSWfTVCm"
      }
    },
    {
      "cell_type": "markdown",
      "source": [
        "### **Mounting Google Drive**"
      ],
      "metadata": {
        "id": "rVAJ9UwQoUIx"
      }
    },
    {
      "cell_type": "code",
      "source": [
        "from google.colab import drive\n",
        "drive.mount('/content/drive')"
      ],
      "metadata": {
        "colab": {
          "base_uri": "https://localhost:8080/"
        },
        "id": "G1NIl1_RoZWC",
        "outputId": "239d3916-6816-42cf-841e-d845f528ae27"
      },
      "execution_count": 268,
      "outputs": [
        {
          "output_type": "stream",
          "name": "stdout",
          "text": [
            "Drive already mounted at /content/drive; to attempt to forcibly remount, call drive.mount(\"/content/drive\", force_remount=True).\n"
          ]
        }
      ]
    },
    {
      "cell_type": "markdown",
      "source": [
        "### **Importing Necessary Libraries**"
      ],
      "metadata": {
        "id": "etLfzX0tmIDP"
      }
    },
    {
      "cell_type": "code",
      "execution_count": 269,
      "metadata": {
        "id": "S1h15yxjjG2d"
      },
      "outputs": [],
      "source": [
        "import numpy as np\n",
        "import pandas as pd\n",
        "import matplotlib.pyplot as plt\n",
        "import seaborn as sns\n",
        "\n",
        "# plt.style.use('dark_background')"
      ]
    },
    {
      "cell_type": "markdown",
      "source": [
        "### **Loading Zomato Dataset**"
      ],
      "metadata": {
        "id": "gCBIqpDmpV1H"
      }
    },
    {
      "cell_type": "code",
      "source": [
        "file_path = '/content/drive/MyDrive/AlmaBetter/Exploratory Data Analysis Practice/Zomato_Dataset_Analysis/zomato/zomato.csv'\n",
        "zomato = pd.read_csv(file_path)"
      ],
      "metadata": {
        "id": "DhQIGpUrmuif"
      },
      "execution_count": 270,
      "outputs": []
    },
    {
      "cell_type": "markdown",
      "source": [
        "### **Reading Zomato Dataset**"
      ],
      "metadata": {
        "id": "YZ6r0P5hp2Qt"
      }
    },
    {
      "cell_type": "code",
      "source": [
        "zomato.head()"
      ],
      "metadata": {
        "colab": {
          "base_uri": "https://localhost:8080/",
          "height": 652
        },
        "id": "6vTK8dq0pvsJ",
        "outputId": "fee90823-2bea-453d-996d-875a3deba026"
      },
      "execution_count": 271,
      "outputs": [
        {
          "output_type": "execute_result",
          "data": {
            "text/plain": [
              "                                                 url  \\\n",
              "0  https://www.zomato.com/bangalore/jalsa-banasha...   \n",
              "1  https://www.zomato.com/bangalore/spice-elephan...   \n",
              "2  https://www.zomato.com/SanchurroBangalore?cont...   \n",
              "3  https://www.zomato.com/bangalore/addhuri-udupi...   \n",
              "4  https://www.zomato.com/bangalore/grand-village...   \n",
              "\n",
              "                                             address                   name  \\\n",
              "0  942, 21st Main Road, 2nd Stage, Banashankari, ...                  Jalsa   \n",
              "1  2nd Floor, 80 Feet Road, Near Big Bazaar, 6th ...         Spice Elephant   \n",
              "2  1112, Next to KIMS Medical College, 17th Cross...        San Churro Cafe   \n",
              "3  1st Floor, Annakuteera, 3rd Stage, Banashankar...  Addhuri Udupi Bhojana   \n",
              "4  10, 3rd Floor, Lakshmi Associates, Gandhi Baza...          Grand Village   \n",
              "\n",
              "  online_order book_table   rate  votes                             phone  \\\n",
              "0          Yes        Yes  4.1/5    775    080 42297555\\r\\n+91 9743772233   \n",
              "1          Yes         No  4.1/5    787                      080 41714161   \n",
              "2          Yes         No  3.8/5    918                    +91 9663487993   \n",
              "3           No         No  3.7/5     88                    +91 9620009302   \n",
              "4           No         No  3.8/5    166  +91 8026612447\\r\\n+91 9901210005   \n",
              "\n",
              "       location            rest_type  \\\n",
              "0  Banashankari        Casual Dining   \n",
              "1  Banashankari        Casual Dining   \n",
              "2  Banashankari  Cafe, Casual Dining   \n",
              "3  Banashankari          Quick Bites   \n",
              "4  Basavanagudi        Casual Dining   \n",
              "\n",
              "                                          dish_liked  \\\n",
              "0  Pasta, Lunch Buffet, Masala Papad, Paneer Laja...   \n",
              "1  Momos, Lunch Buffet, Chocolate Nirvana, Thai G...   \n",
              "2  Churros, Cannelloni, Minestrone Soup, Hot Choc...   \n",
              "3                                        Masala Dosa   \n",
              "4                                Panipuri, Gol Gappe   \n",
              "\n",
              "                         cuisines approx_cost(for two people)  \\\n",
              "0  North Indian, Mughlai, Chinese                         800   \n",
              "1     Chinese, North Indian, Thai                         800   \n",
              "2          Cafe, Mexican, Italian                         800   \n",
              "3      South Indian, North Indian                         300   \n",
              "4        North Indian, Rajasthani                         600   \n",
              "\n",
              "                                        reviews_list menu_item  \\\n",
              "0  [('Rated 4.0', 'RATED\\n  A beautiful place to ...        []   \n",
              "1  [('Rated 4.0', 'RATED\\n  Had been here for din...        []   \n",
              "2  [('Rated 3.0', \"RATED\\n  Ambience is not that ...        []   \n",
              "3  [('Rated 4.0', \"RATED\\n  Great food and proper...        []   \n",
              "4  [('Rated 4.0', 'RATED\\n  Very good restaurant ...        []   \n",
              "\n",
              "  listed_in(type) listed_in(city)  \n",
              "0          Buffet    Banashankari  \n",
              "1          Buffet    Banashankari  \n",
              "2          Buffet    Banashankari  \n",
              "3          Buffet    Banashankari  \n",
              "4          Buffet    Banashankari  "
            ],
            "text/html": [
              "\n",
              "  <div id=\"df-008f38cd-bc73-44cd-8e3b-fcc21f93151b\">\n",
              "    <div class=\"colab-df-container\">\n",
              "      <div>\n",
              "<style scoped>\n",
              "    .dataframe tbody tr th:only-of-type {\n",
              "        vertical-align: middle;\n",
              "    }\n",
              "\n",
              "    .dataframe tbody tr th {\n",
              "        vertical-align: top;\n",
              "    }\n",
              "\n",
              "    .dataframe thead th {\n",
              "        text-align: right;\n",
              "    }\n",
              "</style>\n",
              "<table border=\"1\" class=\"dataframe\">\n",
              "  <thead>\n",
              "    <tr style=\"text-align: right;\">\n",
              "      <th></th>\n",
              "      <th>url</th>\n",
              "      <th>address</th>\n",
              "      <th>name</th>\n",
              "      <th>online_order</th>\n",
              "      <th>book_table</th>\n",
              "      <th>rate</th>\n",
              "      <th>votes</th>\n",
              "      <th>phone</th>\n",
              "      <th>location</th>\n",
              "      <th>rest_type</th>\n",
              "      <th>dish_liked</th>\n",
              "      <th>cuisines</th>\n",
              "      <th>approx_cost(for two people)</th>\n",
              "      <th>reviews_list</th>\n",
              "      <th>menu_item</th>\n",
              "      <th>listed_in(type)</th>\n",
              "      <th>listed_in(city)</th>\n",
              "    </tr>\n",
              "  </thead>\n",
              "  <tbody>\n",
              "    <tr>\n",
              "      <th>0</th>\n",
              "      <td>https://www.zomato.com/bangalore/jalsa-banasha...</td>\n",
              "      <td>942, 21st Main Road, 2nd Stage, Banashankari, ...</td>\n",
              "      <td>Jalsa</td>\n",
              "      <td>Yes</td>\n",
              "      <td>Yes</td>\n",
              "      <td>4.1/5</td>\n",
              "      <td>775</td>\n",
              "      <td>080 42297555\\r\\n+91 9743772233</td>\n",
              "      <td>Banashankari</td>\n",
              "      <td>Casual Dining</td>\n",
              "      <td>Pasta, Lunch Buffet, Masala Papad, Paneer Laja...</td>\n",
              "      <td>North Indian, Mughlai, Chinese</td>\n",
              "      <td>800</td>\n",
              "      <td>[('Rated 4.0', 'RATED\\n  A beautiful place to ...</td>\n",
              "      <td>[]</td>\n",
              "      <td>Buffet</td>\n",
              "      <td>Banashankari</td>\n",
              "    </tr>\n",
              "    <tr>\n",
              "      <th>1</th>\n",
              "      <td>https://www.zomato.com/bangalore/spice-elephan...</td>\n",
              "      <td>2nd Floor, 80 Feet Road, Near Big Bazaar, 6th ...</td>\n",
              "      <td>Spice Elephant</td>\n",
              "      <td>Yes</td>\n",
              "      <td>No</td>\n",
              "      <td>4.1/5</td>\n",
              "      <td>787</td>\n",
              "      <td>080 41714161</td>\n",
              "      <td>Banashankari</td>\n",
              "      <td>Casual Dining</td>\n",
              "      <td>Momos, Lunch Buffet, Chocolate Nirvana, Thai G...</td>\n",
              "      <td>Chinese, North Indian, Thai</td>\n",
              "      <td>800</td>\n",
              "      <td>[('Rated 4.0', 'RATED\\n  Had been here for din...</td>\n",
              "      <td>[]</td>\n",
              "      <td>Buffet</td>\n",
              "      <td>Banashankari</td>\n",
              "    </tr>\n",
              "    <tr>\n",
              "      <th>2</th>\n",
              "      <td>https://www.zomato.com/SanchurroBangalore?cont...</td>\n",
              "      <td>1112, Next to KIMS Medical College, 17th Cross...</td>\n",
              "      <td>San Churro Cafe</td>\n",
              "      <td>Yes</td>\n",
              "      <td>No</td>\n",
              "      <td>3.8/5</td>\n",
              "      <td>918</td>\n",
              "      <td>+91 9663487993</td>\n",
              "      <td>Banashankari</td>\n",
              "      <td>Cafe, Casual Dining</td>\n",
              "      <td>Churros, Cannelloni, Minestrone Soup, Hot Choc...</td>\n",
              "      <td>Cafe, Mexican, Italian</td>\n",
              "      <td>800</td>\n",
              "      <td>[('Rated 3.0', \"RATED\\n  Ambience is not that ...</td>\n",
              "      <td>[]</td>\n",
              "      <td>Buffet</td>\n",
              "      <td>Banashankari</td>\n",
              "    </tr>\n",
              "    <tr>\n",
              "      <th>3</th>\n",
              "      <td>https://www.zomato.com/bangalore/addhuri-udupi...</td>\n",
              "      <td>1st Floor, Annakuteera, 3rd Stage, Banashankar...</td>\n",
              "      <td>Addhuri Udupi Bhojana</td>\n",
              "      <td>No</td>\n",
              "      <td>No</td>\n",
              "      <td>3.7/5</td>\n",
              "      <td>88</td>\n",
              "      <td>+91 9620009302</td>\n",
              "      <td>Banashankari</td>\n",
              "      <td>Quick Bites</td>\n",
              "      <td>Masala Dosa</td>\n",
              "      <td>South Indian, North Indian</td>\n",
              "      <td>300</td>\n",
              "      <td>[('Rated 4.0', \"RATED\\n  Great food and proper...</td>\n",
              "      <td>[]</td>\n",
              "      <td>Buffet</td>\n",
              "      <td>Banashankari</td>\n",
              "    </tr>\n",
              "    <tr>\n",
              "      <th>4</th>\n",
              "      <td>https://www.zomato.com/bangalore/grand-village...</td>\n",
              "      <td>10, 3rd Floor, Lakshmi Associates, Gandhi Baza...</td>\n",
              "      <td>Grand Village</td>\n",
              "      <td>No</td>\n",
              "      <td>No</td>\n",
              "      <td>3.8/5</td>\n",
              "      <td>166</td>\n",
              "      <td>+91 8026612447\\r\\n+91 9901210005</td>\n",
              "      <td>Basavanagudi</td>\n",
              "      <td>Casual Dining</td>\n",
              "      <td>Panipuri, Gol Gappe</td>\n",
              "      <td>North Indian, Rajasthani</td>\n",
              "      <td>600</td>\n",
              "      <td>[('Rated 4.0', 'RATED\\n  Very good restaurant ...</td>\n",
              "      <td>[]</td>\n",
              "      <td>Buffet</td>\n",
              "      <td>Banashankari</td>\n",
              "    </tr>\n",
              "  </tbody>\n",
              "</table>\n",
              "</div>\n",
              "      <button class=\"colab-df-convert\" onclick=\"convertToInteractive('df-008f38cd-bc73-44cd-8e3b-fcc21f93151b')\"\n",
              "              title=\"Convert this dataframe to an interactive table.\"\n",
              "              style=\"display:none;\">\n",
              "        \n",
              "  <svg xmlns=\"http://www.w3.org/2000/svg\" height=\"24px\"viewBox=\"0 0 24 24\"\n",
              "       width=\"24px\">\n",
              "    <path d=\"M0 0h24v24H0V0z\" fill=\"none\"/>\n",
              "    <path d=\"M18.56 5.44l.94 2.06.94-2.06 2.06-.94-2.06-.94-.94-2.06-.94 2.06-2.06.94zm-11 1L8.5 8.5l.94-2.06 2.06-.94-2.06-.94L8.5 2.5l-.94 2.06-2.06.94zm10 10l.94 2.06.94-2.06 2.06-.94-2.06-.94-.94-2.06-.94 2.06-2.06.94z\"/><path d=\"M17.41 7.96l-1.37-1.37c-.4-.4-.92-.59-1.43-.59-.52 0-1.04.2-1.43.59L10.3 9.45l-7.72 7.72c-.78.78-.78 2.05 0 2.83L4 21.41c.39.39.9.59 1.41.59.51 0 1.02-.2 1.41-.59l7.78-7.78 2.81-2.81c.8-.78.8-2.07 0-2.86zM5.41 20L4 18.59l7.72-7.72 1.47 1.35L5.41 20z\"/>\n",
              "  </svg>\n",
              "      </button>\n",
              "      \n",
              "  <style>\n",
              "    .colab-df-container {\n",
              "      display:flex;\n",
              "      flex-wrap:wrap;\n",
              "      gap: 12px;\n",
              "    }\n",
              "\n",
              "    .colab-df-convert {\n",
              "      background-color: #E8F0FE;\n",
              "      border: none;\n",
              "      border-radius: 50%;\n",
              "      cursor: pointer;\n",
              "      display: none;\n",
              "      fill: #1967D2;\n",
              "      height: 32px;\n",
              "      padding: 0 0 0 0;\n",
              "      width: 32px;\n",
              "    }\n",
              "\n",
              "    .colab-df-convert:hover {\n",
              "      background-color: #E2EBFA;\n",
              "      box-shadow: 0px 1px 2px rgba(60, 64, 67, 0.3), 0px 1px 3px 1px rgba(60, 64, 67, 0.15);\n",
              "      fill: #174EA6;\n",
              "    }\n",
              "\n",
              "    [theme=dark] .colab-df-convert {\n",
              "      background-color: #3B4455;\n",
              "      fill: #D2E3FC;\n",
              "    }\n",
              "\n",
              "    [theme=dark] .colab-df-convert:hover {\n",
              "      background-color: #434B5C;\n",
              "      box-shadow: 0px 1px 3px 1px rgba(0, 0, 0, 0.15);\n",
              "      filter: drop-shadow(0px 1px 2px rgba(0, 0, 0, 0.3));\n",
              "      fill: #FFFFFF;\n",
              "    }\n",
              "  </style>\n",
              "\n",
              "      <script>\n",
              "        const buttonEl =\n",
              "          document.querySelector('#df-008f38cd-bc73-44cd-8e3b-fcc21f93151b button.colab-df-convert');\n",
              "        buttonEl.style.display =\n",
              "          google.colab.kernel.accessAllowed ? 'block' : 'none';\n",
              "\n",
              "        async function convertToInteractive(key) {\n",
              "          const element = document.querySelector('#df-008f38cd-bc73-44cd-8e3b-fcc21f93151b');\n",
              "          const dataTable =\n",
              "            await google.colab.kernel.invokeFunction('convertToInteractive',\n",
              "                                                     [key], {});\n",
              "          if (!dataTable) return;\n",
              "\n",
              "          const docLinkHtml = 'Like what you see? Visit the ' +\n",
              "            '<a target=\"_blank\" href=https://colab.research.google.com/notebooks/data_table.ipynb>data table notebook</a>'\n",
              "            + ' to learn more about interactive tables.';\n",
              "          element.innerHTML = '';\n",
              "          dataTable['output_type'] = 'display_data';\n",
              "          await google.colab.output.renderOutput(dataTable, element);\n",
              "          const docLink = document.createElement('div');\n",
              "          docLink.innerHTML = docLinkHtml;\n",
              "          element.appendChild(docLink);\n",
              "        }\n",
              "      </script>\n",
              "    </div>\n",
              "  </div>\n",
              "  "
            ]
          },
          "metadata": {},
          "execution_count": 271
        }
      ]
    },
    {
      "cell_type": "code",
      "source": [
        "zomato.shape"
      ],
      "metadata": {
        "colab": {
          "base_uri": "https://localhost:8080/"
        },
        "id": "BBe64BrH5oLN",
        "outputId": "14805804-348d-47bc-adac-913d369529a7"
      },
      "execution_count": 272,
      "outputs": [
        {
          "output_type": "execute_result",
          "data": {
            "text/plain": [
              "(51717, 17)"
            ]
          },
          "metadata": {},
          "execution_count": 272
        }
      ]
    },
    {
      "cell_type": "code",
      "source": [
        "zomato.columns"
      ],
      "metadata": {
        "colab": {
          "base_uri": "https://localhost:8080/"
        },
        "id": "lYr_UIPm56dX",
        "outputId": "9a65abd1-0c5a-4a2d-d742-682b13db9670"
      },
      "execution_count": 273,
      "outputs": [
        {
          "output_type": "execute_result",
          "data": {
            "text/plain": [
              "Index(['url', 'address', 'name', 'online_order', 'book_table', 'rate', 'votes',\n",
              "       'phone', 'location', 'rest_type', 'dish_liked', 'cuisines',\n",
              "       'approx_cost(for two people)', 'reviews_list', 'menu_item',\n",
              "       'listed_in(type)', 'listed_in(city)'],\n",
              "      dtype='object')"
            ]
          },
          "metadata": {},
          "execution_count": 273
        }
      ]
    },
    {
      "cell_type": "markdown",
      "source": [
        "### **Data Cleaning**"
      ],
      "metadata": {
        "id": "-dPnMMwQ6Fih"
      }
    },
    {
      "cell_type": "code",
      "source": [
        "zomato = zomato.drop(['url', 'address', 'phone', 'menu_item', 'dish_liked', 'reviews_list'], axis=1)\n",
        "zomato.head()"
      ],
      "metadata": {
        "id": "5IoO-tZAq59D",
        "colab": {
          "base_uri": "https://localhost:8080/",
          "height": 354
        },
        "outputId": "12e791c1-18f7-4ea0-f8be-539a56f45c5f"
      },
      "execution_count": 274,
      "outputs": [
        {
          "output_type": "execute_result",
          "data": {
            "text/plain": [
              "                    name online_order book_table   rate  votes      location  \\\n",
              "0                  Jalsa          Yes        Yes  4.1/5    775  Banashankari   \n",
              "1         Spice Elephant          Yes         No  4.1/5    787  Banashankari   \n",
              "2        San Churro Cafe          Yes         No  3.8/5    918  Banashankari   \n",
              "3  Addhuri Udupi Bhojana           No         No  3.7/5     88  Banashankari   \n",
              "4          Grand Village           No         No  3.8/5    166  Basavanagudi   \n",
              "\n",
              "             rest_type                        cuisines  \\\n",
              "0        Casual Dining  North Indian, Mughlai, Chinese   \n",
              "1        Casual Dining     Chinese, North Indian, Thai   \n",
              "2  Cafe, Casual Dining          Cafe, Mexican, Italian   \n",
              "3          Quick Bites      South Indian, North Indian   \n",
              "4        Casual Dining        North Indian, Rajasthani   \n",
              "\n",
              "  approx_cost(for two people) listed_in(type) listed_in(city)  \n",
              "0                         800          Buffet    Banashankari  \n",
              "1                         800          Buffet    Banashankari  \n",
              "2                         800          Buffet    Banashankari  \n",
              "3                         300          Buffet    Banashankari  \n",
              "4                         600          Buffet    Banashankari  "
            ],
            "text/html": [
              "\n",
              "  <div id=\"df-21dcfd78-afb7-4616-95a1-ffa35136faf1\">\n",
              "    <div class=\"colab-df-container\">\n",
              "      <div>\n",
              "<style scoped>\n",
              "    .dataframe tbody tr th:only-of-type {\n",
              "        vertical-align: middle;\n",
              "    }\n",
              "\n",
              "    .dataframe tbody tr th {\n",
              "        vertical-align: top;\n",
              "    }\n",
              "\n",
              "    .dataframe thead th {\n",
              "        text-align: right;\n",
              "    }\n",
              "</style>\n",
              "<table border=\"1\" class=\"dataframe\">\n",
              "  <thead>\n",
              "    <tr style=\"text-align: right;\">\n",
              "      <th></th>\n",
              "      <th>name</th>\n",
              "      <th>online_order</th>\n",
              "      <th>book_table</th>\n",
              "      <th>rate</th>\n",
              "      <th>votes</th>\n",
              "      <th>location</th>\n",
              "      <th>rest_type</th>\n",
              "      <th>cuisines</th>\n",
              "      <th>approx_cost(for two people)</th>\n",
              "      <th>listed_in(type)</th>\n",
              "      <th>listed_in(city)</th>\n",
              "    </tr>\n",
              "  </thead>\n",
              "  <tbody>\n",
              "    <tr>\n",
              "      <th>0</th>\n",
              "      <td>Jalsa</td>\n",
              "      <td>Yes</td>\n",
              "      <td>Yes</td>\n",
              "      <td>4.1/5</td>\n",
              "      <td>775</td>\n",
              "      <td>Banashankari</td>\n",
              "      <td>Casual Dining</td>\n",
              "      <td>North Indian, Mughlai, Chinese</td>\n",
              "      <td>800</td>\n",
              "      <td>Buffet</td>\n",
              "      <td>Banashankari</td>\n",
              "    </tr>\n",
              "    <tr>\n",
              "      <th>1</th>\n",
              "      <td>Spice Elephant</td>\n",
              "      <td>Yes</td>\n",
              "      <td>No</td>\n",
              "      <td>4.1/5</td>\n",
              "      <td>787</td>\n",
              "      <td>Banashankari</td>\n",
              "      <td>Casual Dining</td>\n",
              "      <td>Chinese, North Indian, Thai</td>\n",
              "      <td>800</td>\n",
              "      <td>Buffet</td>\n",
              "      <td>Banashankari</td>\n",
              "    </tr>\n",
              "    <tr>\n",
              "      <th>2</th>\n",
              "      <td>San Churro Cafe</td>\n",
              "      <td>Yes</td>\n",
              "      <td>No</td>\n",
              "      <td>3.8/5</td>\n",
              "      <td>918</td>\n",
              "      <td>Banashankari</td>\n",
              "      <td>Cafe, Casual Dining</td>\n",
              "      <td>Cafe, Mexican, Italian</td>\n",
              "      <td>800</td>\n",
              "      <td>Buffet</td>\n",
              "      <td>Banashankari</td>\n",
              "    </tr>\n",
              "    <tr>\n",
              "      <th>3</th>\n",
              "      <td>Addhuri Udupi Bhojana</td>\n",
              "      <td>No</td>\n",
              "      <td>No</td>\n",
              "      <td>3.7/5</td>\n",
              "      <td>88</td>\n",
              "      <td>Banashankari</td>\n",
              "      <td>Quick Bites</td>\n",
              "      <td>South Indian, North Indian</td>\n",
              "      <td>300</td>\n",
              "      <td>Buffet</td>\n",
              "      <td>Banashankari</td>\n",
              "    </tr>\n",
              "    <tr>\n",
              "      <th>4</th>\n",
              "      <td>Grand Village</td>\n",
              "      <td>No</td>\n",
              "      <td>No</td>\n",
              "      <td>3.8/5</td>\n",
              "      <td>166</td>\n",
              "      <td>Basavanagudi</td>\n",
              "      <td>Casual Dining</td>\n",
              "      <td>North Indian, Rajasthani</td>\n",
              "      <td>600</td>\n",
              "      <td>Buffet</td>\n",
              "      <td>Banashankari</td>\n",
              "    </tr>\n",
              "  </tbody>\n",
              "</table>\n",
              "</div>\n",
              "      <button class=\"colab-df-convert\" onclick=\"convertToInteractive('df-21dcfd78-afb7-4616-95a1-ffa35136faf1')\"\n",
              "              title=\"Convert this dataframe to an interactive table.\"\n",
              "              style=\"display:none;\">\n",
              "        \n",
              "  <svg xmlns=\"http://www.w3.org/2000/svg\" height=\"24px\"viewBox=\"0 0 24 24\"\n",
              "       width=\"24px\">\n",
              "    <path d=\"M0 0h24v24H0V0z\" fill=\"none\"/>\n",
              "    <path d=\"M18.56 5.44l.94 2.06.94-2.06 2.06-.94-2.06-.94-.94-2.06-.94 2.06-2.06.94zm-11 1L8.5 8.5l.94-2.06 2.06-.94-2.06-.94L8.5 2.5l-.94 2.06-2.06.94zm10 10l.94 2.06.94-2.06 2.06-.94-2.06-.94-.94-2.06-.94 2.06-2.06.94z\"/><path d=\"M17.41 7.96l-1.37-1.37c-.4-.4-.92-.59-1.43-.59-.52 0-1.04.2-1.43.59L10.3 9.45l-7.72 7.72c-.78.78-.78 2.05 0 2.83L4 21.41c.39.39.9.59 1.41.59.51 0 1.02-.2 1.41-.59l7.78-7.78 2.81-2.81c.8-.78.8-2.07 0-2.86zM5.41 20L4 18.59l7.72-7.72 1.47 1.35L5.41 20z\"/>\n",
              "  </svg>\n",
              "      </button>\n",
              "      \n",
              "  <style>\n",
              "    .colab-df-container {\n",
              "      display:flex;\n",
              "      flex-wrap:wrap;\n",
              "      gap: 12px;\n",
              "    }\n",
              "\n",
              "    .colab-df-convert {\n",
              "      background-color: #E8F0FE;\n",
              "      border: none;\n",
              "      border-radius: 50%;\n",
              "      cursor: pointer;\n",
              "      display: none;\n",
              "      fill: #1967D2;\n",
              "      height: 32px;\n",
              "      padding: 0 0 0 0;\n",
              "      width: 32px;\n",
              "    }\n",
              "\n",
              "    .colab-df-convert:hover {\n",
              "      background-color: #E2EBFA;\n",
              "      box-shadow: 0px 1px 2px rgba(60, 64, 67, 0.3), 0px 1px 3px 1px rgba(60, 64, 67, 0.15);\n",
              "      fill: #174EA6;\n",
              "    }\n",
              "\n",
              "    [theme=dark] .colab-df-convert {\n",
              "      background-color: #3B4455;\n",
              "      fill: #D2E3FC;\n",
              "    }\n",
              "\n",
              "    [theme=dark] .colab-df-convert:hover {\n",
              "      background-color: #434B5C;\n",
              "      box-shadow: 0px 1px 3px 1px rgba(0, 0, 0, 0.15);\n",
              "      filter: drop-shadow(0px 1px 2px rgba(0, 0, 0, 0.3));\n",
              "      fill: #FFFFFF;\n",
              "    }\n",
              "  </style>\n",
              "\n",
              "      <script>\n",
              "        const buttonEl =\n",
              "          document.querySelector('#df-21dcfd78-afb7-4616-95a1-ffa35136faf1 button.colab-df-convert');\n",
              "        buttonEl.style.display =\n",
              "          google.colab.kernel.accessAllowed ? 'block' : 'none';\n",
              "\n",
              "        async function convertToInteractive(key) {\n",
              "          const element = document.querySelector('#df-21dcfd78-afb7-4616-95a1-ffa35136faf1');\n",
              "          const dataTable =\n",
              "            await google.colab.kernel.invokeFunction('convertToInteractive',\n",
              "                                                     [key], {});\n",
              "          if (!dataTable) return;\n",
              "\n",
              "          const docLinkHtml = 'Like what you see? Visit the ' +\n",
              "            '<a target=\"_blank\" href=https://colab.research.google.com/notebooks/data_table.ipynb>data table notebook</a>'\n",
              "            + ' to learn more about interactive tables.';\n",
              "          element.innerHTML = '';\n",
              "          dataTable['output_type'] = 'display_data';\n",
              "          await google.colab.output.renderOutput(dataTable, element);\n",
              "          const docLink = document.createElement('div');\n",
              "          docLink.innerHTML = docLinkHtml;\n",
              "          element.appendChild(docLink);\n",
              "        }\n",
              "      </script>\n",
              "    </div>\n",
              "  </div>\n",
              "  "
            ]
          },
          "metadata": {},
          "execution_count": 274
        }
      ]
    },
    {
      "cell_type": "code",
      "source": [
        "zomato.shape"
      ],
      "metadata": {
        "colab": {
          "base_uri": "https://localhost:8080/"
        },
        "id": "4ONO3eVB6f_Y",
        "outputId": "f553c4a1-83cf-44ca-dc44-727de426de21"
      },
      "execution_count": 275,
      "outputs": [
        {
          "output_type": "execute_result",
          "data": {
            "text/plain": [
              "(51717, 11)"
            ]
          },
          "metadata": {},
          "execution_count": 275
        }
      ]
    },
    {
      "cell_type": "code",
      "source": [
        "zomato.info()"
      ],
      "metadata": {
        "colab": {
          "base_uri": "https://localhost:8080/"
        },
        "id": "Ceq8zXEe69IL",
        "outputId": "27f200fa-450d-4a0e-f30a-c5211bc946f0"
      },
      "execution_count": 276,
      "outputs": [
        {
          "output_type": "stream",
          "name": "stdout",
          "text": [
            "<class 'pandas.core.frame.DataFrame'>\n",
            "RangeIndex: 51717 entries, 0 to 51716\n",
            "Data columns (total 11 columns):\n",
            " #   Column                       Non-Null Count  Dtype \n",
            "---  ------                       --------------  ----- \n",
            " 0   name                         51717 non-null  object\n",
            " 1   online_order                 51717 non-null  object\n",
            " 2   book_table                   51717 non-null  object\n",
            " 3   rate                         43942 non-null  object\n",
            " 4   votes                        51717 non-null  int64 \n",
            " 5   location                     51696 non-null  object\n",
            " 6   rest_type                    51490 non-null  object\n",
            " 7   cuisines                     51672 non-null  object\n",
            " 8   approx_cost(for two people)  51371 non-null  object\n",
            " 9   listed_in(type)              51717 non-null  object\n",
            " 10  listed_in(city)              51717 non-null  object\n",
            "dtypes: int64(1), object(10)\n",
            "memory usage: 4.3+ MB\n"
          ]
        }
      ]
    },
    {
      "cell_type": "markdown",
      "source": [
        "### **Dropping Duplicates**"
      ],
      "metadata": {
        "id": "nkWaw0rM7V_L"
      }
    },
    {
      "cell_type": "code",
      "source": [
        "zomato.drop_duplicates(inplace = True)\n",
        "zomato.shape"
      ],
      "metadata": {
        "colab": {
          "base_uri": "https://localhost:8080/"
        },
        "id": "okBsPCLH7Dw-",
        "outputId": "aac31ecb-f778-42b7-a971-aaf6b6f5b108"
      },
      "execution_count": 277,
      "outputs": [
        {
          "output_type": "execute_result",
          "data": {
            "text/plain": [
              "(51609, 11)"
            ]
          },
          "metadata": {},
          "execution_count": 277
        }
      ]
    },
    {
      "cell_type": "code",
      "source": [
        "zomato.info()"
      ],
      "metadata": {
        "colab": {
          "base_uri": "https://localhost:8080/"
        },
        "id": "sphL6Fnk7jQL",
        "outputId": "30e0d047-6eb9-4f85-885b-154ebf75f392"
      },
      "execution_count": 278,
      "outputs": [
        {
          "output_type": "stream",
          "name": "stdout",
          "text": [
            "<class 'pandas.core.frame.DataFrame'>\n",
            "Int64Index: 51609 entries, 0 to 51716\n",
            "Data columns (total 11 columns):\n",
            " #   Column                       Non-Null Count  Dtype \n",
            "---  ------                       --------------  ----- \n",
            " 0   name                         51609 non-null  object\n",
            " 1   online_order                 51609 non-null  object\n",
            " 2   book_table                   51609 non-null  object\n",
            " 3   rate                         43854 non-null  object\n",
            " 4   votes                        51609 non-null  int64 \n",
            " 5   location                     51588 non-null  object\n",
            " 6   rest_type                    51382 non-null  object\n",
            " 7   cuisines                     51564 non-null  object\n",
            " 8   approx_cost(for two people)  51265 non-null  object\n",
            " 9   listed_in(type)              51609 non-null  object\n",
            " 10  listed_in(city)              51609 non-null  object\n",
            "dtypes: int64(1), object(10)\n",
            "memory usage: 4.7+ MB\n"
          ]
        }
      ]
    },
    {
      "cell_type": "markdown",
      "source": [
        "### **Working with Rate column**"
      ],
      "metadata": {
        "id": "o_phHHt18J41"
      }
    },
    {
      "cell_type": "code",
      "source": [
        "zomato['rate'].unique()"
      ],
      "metadata": {
        "colab": {
          "base_uri": "https://localhost:8080/"
        },
        "id": "WVWoKXZO72Mx",
        "outputId": "a5dbdd1a-a36e-47d8-f51f-860cd95a6519"
      },
      "execution_count": 279,
      "outputs": [
        {
          "output_type": "execute_result",
          "data": {
            "text/plain": [
              "array(['4.1/5', '3.8/5', '3.7/5', '3.6/5', '4.6/5', '4.0/5', '4.2/5',\n",
              "       '3.9/5', '3.1/5', '3.0/5', '3.2/5', '3.3/5', '2.8/5', '4.4/5',\n",
              "       '4.3/5', 'NEW', '2.9/5', '3.5/5', nan, '2.6/5', '3.8 /5', '3.4/5',\n",
              "       '4.5/5', '2.5/5', '2.7/5', '4.7/5', '2.4/5', '2.2/5', '2.3/5',\n",
              "       '3.4 /5', '-', '3.6 /5', '4.8/5', '3.9 /5', '4.2 /5', '4.0 /5',\n",
              "       '4.1 /5', '3.7 /5', '3.1 /5', '2.9 /5', '3.3 /5', '2.8 /5',\n",
              "       '3.5 /5', '2.7 /5', '2.5 /5', '3.2 /5', '2.6 /5', '4.5 /5',\n",
              "       '4.3 /5', '4.4 /5', '4.9/5', '2.1/5', '2.0/5', '1.8/5', '4.6 /5',\n",
              "       '4.9 /5', '3.0 /5', '4.8 /5', '2.3 /5', '4.7 /5', '2.4 /5',\n",
              "       '2.1 /5', '2.2 /5', '2.0 /5', '1.8 /5'], dtype=object)"
            ]
          },
          "metadata": {},
          "execution_count": 279
        }
      ]
    },
    {
      "cell_type": "code",
      "source": [
        "# Removing '/5' , '-' and 'NEW' from the rate column\n",
        "def modifyrate(value):\n",
        "   if(value == 'NEW' or value == '-'):\n",
        "    return np.nan\n",
        "   else:\n",
        "     value = str(value).split('/')\n",
        "     value = value[0]\n",
        "     return float(value)"
      ],
      "metadata": {
        "id": "TV-8QqaZ8UBG"
      },
      "execution_count": 280,
      "outputs": []
    },
    {
      "cell_type": "code",
      "source": [
        "zomato['rate'] = zomato['rate'].apply(modifyrate)"
      ],
      "metadata": {
        "id": "srN7iov79pHA"
      },
      "execution_count": 281,
      "outputs": []
    },
    {
      "cell_type": "code",
      "source": [
        "zomato['rate']"
      ],
      "metadata": {
        "colab": {
          "base_uri": "https://localhost:8080/"
        },
        "id": "5Grg-XXF-IP6",
        "outputId": "500d18f8-8d4b-46ff-e09d-8e1a5695c4b9"
      },
      "execution_count": 282,
      "outputs": [
        {
          "output_type": "execute_result",
          "data": {
            "text/plain": [
              "0        4.1\n",
              "1        4.1\n",
              "2        3.8\n",
              "3        3.7\n",
              "4        3.8\n",
              "        ... \n",
              "51712    3.6\n",
              "51713    NaN\n",
              "51714    NaN\n",
              "51715    4.3\n",
              "51716    3.4\n",
              "Name: rate, Length: 51609, dtype: float64"
            ]
          },
          "metadata": {},
          "execution_count": 282
        }
      ]
    },
    {
      "cell_type": "code",
      "source": [
        "zomato['rate'].isnull().sum()"
      ],
      "metadata": {
        "colab": {
          "base_uri": "https://localhost:8080/"
        },
        "id": "WmfQOs-_AYME",
        "outputId": "1537e652-e6d0-4b95-832c-b00c44c2f424"
      },
      "execution_count": 283,
      "outputs": [
        {
          "output_type": "execute_result",
          "data": {
            "text/plain": [
              "10019"
            ]
          },
          "metadata": {},
          "execution_count": 283
        }
      ]
    },
    {
      "cell_type": "code",
      "source": [
        "# Filling Null values with mean of rate column\n",
        "zomato['rate'].fillna(zomato['rate'].mean(), inplace = True)\n",
        "zomato['rate'].isnull()\n"
      ],
      "metadata": {
        "colab": {
          "base_uri": "https://localhost:8080/"
        },
        "id": "wW1LUUvX-K7T",
        "outputId": "0ac61fc0-3bda-48e3-e4c2-ba46a287ba50"
      },
      "execution_count": 284,
      "outputs": [
        {
          "output_type": "execute_result",
          "data": {
            "text/plain": [
              "0        False\n",
              "1        False\n",
              "2        False\n",
              "3        False\n",
              "4        False\n",
              "         ...  \n",
              "51712    False\n",
              "51713    False\n",
              "51714    False\n",
              "51715    False\n",
              "51716    False\n",
              "Name: rate, Length: 51609, dtype: bool"
            ]
          },
          "metadata": {},
          "execution_count": 284
        }
      ]
    },
    {
      "cell_type": "code",
      "source": [
        "zomato['rate'].isnull().sum()"
      ],
      "metadata": {
        "colab": {
          "base_uri": "https://localhost:8080/"
        },
        "id": "GLKFErebAA54",
        "outputId": "2c01e871-2103-4a61-b1cd-a4ebcda4f4d3"
      },
      "execution_count": 285,
      "outputs": [
        {
          "output_type": "execute_result",
          "data": {
            "text/plain": [
              "0"
            ]
          },
          "metadata": {},
          "execution_count": 285
        }
      ]
    },
    {
      "cell_type": "code",
      "source": [
        "zomato.info()"
      ],
      "metadata": {
        "colab": {
          "base_uri": "https://localhost:8080/"
        },
        "id": "kIzOE6MrAmJR",
        "outputId": "5304e8dc-e854-4bd5-8232-94b2ac0d6468"
      },
      "execution_count": 286,
      "outputs": [
        {
          "output_type": "stream",
          "name": "stdout",
          "text": [
            "<class 'pandas.core.frame.DataFrame'>\n",
            "Int64Index: 51609 entries, 0 to 51716\n",
            "Data columns (total 11 columns):\n",
            " #   Column                       Non-Null Count  Dtype  \n",
            "---  ------                       --------------  -----  \n",
            " 0   name                         51609 non-null  object \n",
            " 1   online_order                 51609 non-null  object \n",
            " 2   book_table                   51609 non-null  object \n",
            " 3   rate                         51609 non-null  float64\n",
            " 4   votes                        51609 non-null  int64  \n",
            " 5   location                     51588 non-null  object \n",
            " 6   rest_type                    51382 non-null  object \n",
            " 7   cuisines                     51564 non-null  object \n",
            " 8   approx_cost(for two people)  51265 non-null  object \n",
            " 9   listed_in(type)              51609 non-null  object \n",
            " 10  listed_in(city)              51609 non-null  object \n",
            "dtypes: float64(1), int64(1), object(9)\n",
            "memory usage: 4.7+ MB\n"
          ]
        }
      ]
    },
    {
      "cell_type": "code",
      "source": [
        "# Dropping Null Values for other columns as they are not large in number\n",
        "zomato.dropna(inplace = True)\n",
        "zomato.info()"
      ],
      "metadata": {
        "colab": {
          "base_uri": "https://localhost:8080/"
        },
        "id": "PlJaJTjmCtoc",
        "outputId": "bd307b2d-3377-47da-ee92-9afc6df6c54f"
      },
      "execution_count": 287,
      "outputs": [
        {
          "output_type": "stream",
          "name": "stdout",
          "text": [
            "<class 'pandas.core.frame.DataFrame'>\n",
            "Int64Index: 51042 entries, 0 to 51716\n",
            "Data columns (total 11 columns):\n",
            " #   Column                       Non-Null Count  Dtype  \n",
            "---  ------                       --------------  -----  \n",
            " 0   name                         51042 non-null  object \n",
            " 1   online_order                 51042 non-null  object \n",
            " 2   book_table                   51042 non-null  object \n",
            " 3   rate                         51042 non-null  float64\n",
            " 4   votes                        51042 non-null  int64  \n",
            " 5   location                     51042 non-null  object \n",
            " 6   rest_type                    51042 non-null  object \n",
            " 7   cuisines                     51042 non-null  object \n",
            " 8   approx_cost(for two people)  51042 non-null  object \n",
            " 9   listed_in(type)              51042 non-null  object \n",
            " 10  listed_in(city)              51042 non-null  object \n",
            "dtypes: float64(1), int64(1), object(9)\n",
            "memory usage: 4.7+ MB\n"
          ]
        }
      ]
    },
    {
      "cell_type": "code",
      "source": [
        "# Renaming some columns\n",
        "zomato.rename(columns = {'approx_cost(for two people)':'cost2plates', 'listed_in(type)':'type'}, inplace = True)\n",
        "zomato.head()"
      ],
      "metadata": {
        "colab": {
          "base_uri": "https://localhost:8080/",
          "height": 250
        },
        "id": "QJb0vsqXDICh",
        "outputId": "4a89910f-03c5-4e06-c13c-fbbdc3414030"
      },
      "execution_count": 288,
      "outputs": [
        {
          "output_type": "execute_result",
          "data": {
            "text/plain": [
              "                    name online_order book_table  rate  votes      location  \\\n",
              "0                  Jalsa          Yes        Yes   4.1    775  Banashankari   \n",
              "1         Spice Elephant          Yes         No   4.1    787  Banashankari   \n",
              "2        San Churro Cafe          Yes         No   3.8    918  Banashankari   \n",
              "3  Addhuri Udupi Bhojana           No         No   3.7     88  Banashankari   \n",
              "4          Grand Village           No         No   3.8    166  Basavanagudi   \n",
              "\n",
              "             rest_type                        cuisines cost2plates    type  \\\n",
              "0        Casual Dining  North Indian, Mughlai, Chinese         800  Buffet   \n",
              "1        Casual Dining     Chinese, North Indian, Thai         800  Buffet   \n",
              "2  Cafe, Casual Dining          Cafe, Mexican, Italian         800  Buffet   \n",
              "3          Quick Bites      South Indian, North Indian         300  Buffet   \n",
              "4        Casual Dining        North Indian, Rajasthani         600  Buffet   \n",
              "\n",
              "  listed_in(city)  \n",
              "0    Banashankari  \n",
              "1    Banashankari  \n",
              "2    Banashankari  \n",
              "3    Banashankari  \n",
              "4    Banashankari  "
            ],
            "text/html": [
              "\n",
              "  <div id=\"df-fcad07ed-18c2-4b85-bd0a-aac6d205fd19\">\n",
              "    <div class=\"colab-df-container\">\n",
              "      <div>\n",
              "<style scoped>\n",
              "    .dataframe tbody tr th:only-of-type {\n",
              "        vertical-align: middle;\n",
              "    }\n",
              "\n",
              "    .dataframe tbody tr th {\n",
              "        vertical-align: top;\n",
              "    }\n",
              "\n",
              "    .dataframe thead th {\n",
              "        text-align: right;\n",
              "    }\n",
              "</style>\n",
              "<table border=\"1\" class=\"dataframe\">\n",
              "  <thead>\n",
              "    <tr style=\"text-align: right;\">\n",
              "      <th></th>\n",
              "      <th>name</th>\n",
              "      <th>online_order</th>\n",
              "      <th>book_table</th>\n",
              "      <th>rate</th>\n",
              "      <th>votes</th>\n",
              "      <th>location</th>\n",
              "      <th>rest_type</th>\n",
              "      <th>cuisines</th>\n",
              "      <th>cost2plates</th>\n",
              "      <th>type</th>\n",
              "      <th>listed_in(city)</th>\n",
              "    </tr>\n",
              "  </thead>\n",
              "  <tbody>\n",
              "    <tr>\n",
              "      <th>0</th>\n",
              "      <td>Jalsa</td>\n",
              "      <td>Yes</td>\n",
              "      <td>Yes</td>\n",
              "      <td>4.1</td>\n",
              "      <td>775</td>\n",
              "      <td>Banashankari</td>\n",
              "      <td>Casual Dining</td>\n",
              "      <td>North Indian, Mughlai, Chinese</td>\n",
              "      <td>800</td>\n",
              "      <td>Buffet</td>\n",
              "      <td>Banashankari</td>\n",
              "    </tr>\n",
              "    <tr>\n",
              "      <th>1</th>\n",
              "      <td>Spice Elephant</td>\n",
              "      <td>Yes</td>\n",
              "      <td>No</td>\n",
              "      <td>4.1</td>\n",
              "      <td>787</td>\n",
              "      <td>Banashankari</td>\n",
              "      <td>Casual Dining</td>\n",
              "      <td>Chinese, North Indian, Thai</td>\n",
              "      <td>800</td>\n",
              "      <td>Buffet</td>\n",
              "      <td>Banashankari</td>\n",
              "    </tr>\n",
              "    <tr>\n",
              "      <th>2</th>\n",
              "      <td>San Churro Cafe</td>\n",
              "      <td>Yes</td>\n",
              "      <td>No</td>\n",
              "      <td>3.8</td>\n",
              "      <td>918</td>\n",
              "      <td>Banashankari</td>\n",
              "      <td>Cafe, Casual Dining</td>\n",
              "      <td>Cafe, Mexican, Italian</td>\n",
              "      <td>800</td>\n",
              "      <td>Buffet</td>\n",
              "      <td>Banashankari</td>\n",
              "    </tr>\n",
              "    <tr>\n",
              "      <th>3</th>\n",
              "      <td>Addhuri Udupi Bhojana</td>\n",
              "      <td>No</td>\n",
              "      <td>No</td>\n",
              "      <td>3.7</td>\n",
              "      <td>88</td>\n",
              "      <td>Banashankari</td>\n",
              "      <td>Quick Bites</td>\n",
              "      <td>South Indian, North Indian</td>\n",
              "      <td>300</td>\n",
              "      <td>Buffet</td>\n",
              "      <td>Banashankari</td>\n",
              "    </tr>\n",
              "    <tr>\n",
              "      <th>4</th>\n",
              "      <td>Grand Village</td>\n",
              "      <td>No</td>\n",
              "      <td>No</td>\n",
              "      <td>3.8</td>\n",
              "      <td>166</td>\n",
              "      <td>Basavanagudi</td>\n",
              "      <td>Casual Dining</td>\n",
              "      <td>North Indian, Rajasthani</td>\n",
              "      <td>600</td>\n",
              "      <td>Buffet</td>\n",
              "      <td>Banashankari</td>\n",
              "    </tr>\n",
              "  </tbody>\n",
              "</table>\n",
              "</div>\n",
              "      <button class=\"colab-df-convert\" onclick=\"convertToInteractive('df-fcad07ed-18c2-4b85-bd0a-aac6d205fd19')\"\n",
              "              title=\"Convert this dataframe to an interactive table.\"\n",
              "              style=\"display:none;\">\n",
              "        \n",
              "  <svg xmlns=\"http://www.w3.org/2000/svg\" height=\"24px\"viewBox=\"0 0 24 24\"\n",
              "       width=\"24px\">\n",
              "    <path d=\"M0 0h24v24H0V0z\" fill=\"none\"/>\n",
              "    <path d=\"M18.56 5.44l.94 2.06.94-2.06 2.06-.94-2.06-.94-.94-2.06-.94 2.06-2.06.94zm-11 1L8.5 8.5l.94-2.06 2.06-.94-2.06-.94L8.5 2.5l-.94 2.06-2.06.94zm10 10l.94 2.06.94-2.06 2.06-.94-2.06-.94-.94-2.06-.94 2.06-2.06.94z\"/><path d=\"M17.41 7.96l-1.37-1.37c-.4-.4-.92-.59-1.43-.59-.52 0-1.04.2-1.43.59L10.3 9.45l-7.72 7.72c-.78.78-.78 2.05 0 2.83L4 21.41c.39.39.9.59 1.41.59.51 0 1.02-.2 1.41-.59l7.78-7.78 2.81-2.81c.8-.78.8-2.07 0-2.86zM5.41 20L4 18.59l7.72-7.72 1.47 1.35L5.41 20z\"/>\n",
              "  </svg>\n",
              "      </button>\n",
              "      \n",
              "  <style>\n",
              "    .colab-df-container {\n",
              "      display:flex;\n",
              "      flex-wrap:wrap;\n",
              "      gap: 12px;\n",
              "    }\n",
              "\n",
              "    .colab-df-convert {\n",
              "      background-color: #E8F0FE;\n",
              "      border: none;\n",
              "      border-radius: 50%;\n",
              "      cursor: pointer;\n",
              "      display: none;\n",
              "      fill: #1967D2;\n",
              "      height: 32px;\n",
              "      padding: 0 0 0 0;\n",
              "      width: 32px;\n",
              "    }\n",
              "\n",
              "    .colab-df-convert:hover {\n",
              "      background-color: #E2EBFA;\n",
              "      box-shadow: 0px 1px 2px rgba(60, 64, 67, 0.3), 0px 1px 3px 1px rgba(60, 64, 67, 0.15);\n",
              "      fill: #174EA6;\n",
              "    }\n",
              "\n",
              "    [theme=dark] .colab-df-convert {\n",
              "      background-color: #3B4455;\n",
              "      fill: #D2E3FC;\n",
              "    }\n",
              "\n",
              "    [theme=dark] .colab-df-convert:hover {\n",
              "      background-color: #434B5C;\n",
              "      box-shadow: 0px 1px 3px 1px rgba(0, 0, 0, 0.15);\n",
              "      filter: drop-shadow(0px 1px 2px rgba(0, 0, 0, 0.3));\n",
              "      fill: #FFFFFF;\n",
              "    }\n",
              "  </style>\n",
              "\n",
              "      <script>\n",
              "        const buttonEl =\n",
              "          document.querySelector('#df-fcad07ed-18c2-4b85-bd0a-aac6d205fd19 button.colab-df-convert');\n",
              "        buttonEl.style.display =\n",
              "          google.colab.kernel.accessAllowed ? 'block' : 'none';\n",
              "\n",
              "        async function convertToInteractive(key) {\n",
              "          const element = document.querySelector('#df-fcad07ed-18c2-4b85-bd0a-aac6d205fd19');\n",
              "          const dataTable =\n",
              "            await google.colab.kernel.invokeFunction('convertToInteractive',\n",
              "                                                     [key], {});\n",
              "          if (!dataTable) return;\n",
              "\n",
              "          const docLinkHtml = 'Like what you see? Visit the ' +\n",
              "            '<a target=\"_blank\" href=https://colab.research.google.com/notebooks/data_table.ipynb>data table notebook</a>'\n",
              "            + ' to learn more about interactive tables.';\n",
              "          element.innerHTML = '';\n",
              "          dataTable['output_type'] = 'display_data';\n",
              "          await google.colab.output.renderOutput(dataTable, element);\n",
              "          const docLink = document.createElement('div');\n",
              "          docLink.innerHTML = docLinkHtml;\n",
              "          element.appendChild(docLink);\n",
              "        }\n",
              "      </script>\n",
              "    </div>\n",
              "  </div>\n",
              "  "
            ]
          },
          "metadata": {},
          "execution_count": 288
        }
      ]
    },
    {
      "cell_type": "code",
      "source": [
        "zomato['location'].nunique()"
      ],
      "metadata": {
        "colab": {
          "base_uri": "https://localhost:8080/"
        },
        "id": "3fwGLME8EiQp",
        "outputId": "0149a15d-f52f-47d5-b7f0-4a1e91be0491"
      },
      "execution_count": 289,
      "outputs": [
        {
          "output_type": "execute_result",
          "data": {
            "text/plain": [
              "93"
            ]
          },
          "metadata": {},
          "execution_count": 289
        }
      ]
    },
    {
      "cell_type": "code",
      "source": [
        "zomato['listed_in(city)'].nunique()"
      ],
      "metadata": {
        "colab": {
          "base_uri": "https://localhost:8080/"
        },
        "id": "oAHfCPVJE-oq",
        "outputId": "7f6094ac-83bb-432f-80da-ed3f3c1c6528"
      },
      "execution_count": 290,
      "outputs": [
        {
          "output_type": "execute_result",
          "data": {
            "text/plain": [
              "30"
            ]
          },
          "metadata": {},
          "execution_count": 290
        }
      ]
    },
    {
      "cell_type": "code",
      "source": [
        "# Dropping 'listed_in(city)' column\n",
        "zomato = zomato.drop(['listed_in(city)'], axis=1)\n",
        "zomato.head()"
      ],
      "metadata": {
        "colab": {
          "base_uri": "https://localhost:8080/",
          "height": 206
        },
        "id": "13mm_7sNFLJX",
        "outputId": "a2052a11-13ad-4e0a-d478-51c6e88a2163"
      },
      "execution_count": 291,
      "outputs": [
        {
          "output_type": "execute_result",
          "data": {
            "text/plain": [
              "                    name online_order book_table  rate  votes      location  \\\n",
              "0                  Jalsa          Yes        Yes   4.1    775  Banashankari   \n",
              "1         Spice Elephant          Yes         No   4.1    787  Banashankari   \n",
              "2        San Churro Cafe          Yes         No   3.8    918  Banashankari   \n",
              "3  Addhuri Udupi Bhojana           No         No   3.7     88  Banashankari   \n",
              "4          Grand Village           No         No   3.8    166  Basavanagudi   \n",
              "\n",
              "             rest_type                        cuisines cost2plates    type  \n",
              "0        Casual Dining  North Indian, Mughlai, Chinese         800  Buffet  \n",
              "1        Casual Dining     Chinese, North Indian, Thai         800  Buffet  \n",
              "2  Cafe, Casual Dining          Cafe, Mexican, Italian         800  Buffet  \n",
              "3          Quick Bites      South Indian, North Indian         300  Buffet  \n",
              "4        Casual Dining        North Indian, Rajasthani         600  Buffet  "
            ],
            "text/html": [
              "\n",
              "  <div id=\"df-f72803a1-3f09-46e9-932f-eee74232fa86\">\n",
              "    <div class=\"colab-df-container\">\n",
              "      <div>\n",
              "<style scoped>\n",
              "    .dataframe tbody tr th:only-of-type {\n",
              "        vertical-align: middle;\n",
              "    }\n",
              "\n",
              "    .dataframe tbody tr th {\n",
              "        vertical-align: top;\n",
              "    }\n",
              "\n",
              "    .dataframe thead th {\n",
              "        text-align: right;\n",
              "    }\n",
              "</style>\n",
              "<table border=\"1\" class=\"dataframe\">\n",
              "  <thead>\n",
              "    <tr style=\"text-align: right;\">\n",
              "      <th></th>\n",
              "      <th>name</th>\n",
              "      <th>online_order</th>\n",
              "      <th>book_table</th>\n",
              "      <th>rate</th>\n",
              "      <th>votes</th>\n",
              "      <th>location</th>\n",
              "      <th>rest_type</th>\n",
              "      <th>cuisines</th>\n",
              "      <th>cost2plates</th>\n",
              "      <th>type</th>\n",
              "    </tr>\n",
              "  </thead>\n",
              "  <tbody>\n",
              "    <tr>\n",
              "      <th>0</th>\n",
              "      <td>Jalsa</td>\n",
              "      <td>Yes</td>\n",
              "      <td>Yes</td>\n",
              "      <td>4.1</td>\n",
              "      <td>775</td>\n",
              "      <td>Banashankari</td>\n",
              "      <td>Casual Dining</td>\n",
              "      <td>North Indian, Mughlai, Chinese</td>\n",
              "      <td>800</td>\n",
              "      <td>Buffet</td>\n",
              "    </tr>\n",
              "    <tr>\n",
              "      <th>1</th>\n",
              "      <td>Spice Elephant</td>\n",
              "      <td>Yes</td>\n",
              "      <td>No</td>\n",
              "      <td>4.1</td>\n",
              "      <td>787</td>\n",
              "      <td>Banashankari</td>\n",
              "      <td>Casual Dining</td>\n",
              "      <td>Chinese, North Indian, Thai</td>\n",
              "      <td>800</td>\n",
              "      <td>Buffet</td>\n",
              "    </tr>\n",
              "    <tr>\n",
              "      <th>2</th>\n",
              "      <td>San Churro Cafe</td>\n",
              "      <td>Yes</td>\n",
              "      <td>No</td>\n",
              "      <td>3.8</td>\n",
              "      <td>918</td>\n",
              "      <td>Banashankari</td>\n",
              "      <td>Cafe, Casual Dining</td>\n",
              "      <td>Cafe, Mexican, Italian</td>\n",
              "      <td>800</td>\n",
              "      <td>Buffet</td>\n",
              "    </tr>\n",
              "    <tr>\n",
              "      <th>3</th>\n",
              "      <td>Addhuri Udupi Bhojana</td>\n",
              "      <td>No</td>\n",
              "      <td>No</td>\n",
              "      <td>3.7</td>\n",
              "      <td>88</td>\n",
              "      <td>Banashankari</td>\n",
              "      <td>Quick Bites</td>\n",
              "      <td>South Indian, North Indian</td>\n",
              "      <td>300</td>\n",
              "      <td>Buffet</td>\n",
              "    </tr>\n",
              "    <tr>\n",
              "      <th>4</th>\n",
              "      <td>Grand Village</td>\n",
              "      <td>No</td>\n",
              "      <td>No</td>\n",
              "      <td>3.8</td>\n",
              "      <td>166</td>\n",
              "      <td>Basavanagudi</td>\n",
              "      <td>Casual Dining</td>\n",
              "      <td>North Indian, Rajasthani</td>\n",
              "      <td>600</td>\n",
              "      <td>Buffet</td>\n",
              "    </tr>\n",
              "  </tbody>\n",
              "</table>\n",
              "</div>\n",
              "      <button class=\"colab-df-convert\" onclick=\"convertToInteractive('df-f72803a1-3f09-46e9-932f-eee74232fa86')\"\n",
              "              title=\"Convert this dataframe to an interactive table.\"\n",
              "              style=\"display:none;\">\n",
              "        \n",
              "  <svg xmlns=\"http://www.w3.org/2000/svg\" height=\"24px\"viewBox=\"0 0 24 24\"\n",
              "       width=\"24px\">\n",
              "    <path d=\"M0 0h24v24H0V0z\" fill=\"none\"/>\n",
              "    <path d=\"M18.56 5.44l.94 2.06.94-2.06 2.06-.94-2.06-.94-.94-2.06-.94 2.06-2.06.94zm-11 1L8.5 8.5l.94-2.06 2.06-.94-2.06-.94L8.5 2.5l-.94 2.06-2.06.94zm10 10l.94 2.06.94-2.06 2.06-.94-2.06-.94-.94-2.06-.94 2.06-2.06.94z\"/><path d=\"M17.41 7.96l-1.37-1.37c-.4-.4-.92-.59-1.43-.59-.52 0-1.04.2-1.43.59L10.3 9.45l-7.72 7.72c-.78.78-.78 2.05 0 2.83L4 21.41c.39.39.9.59 1.41.59.51 0 1.02-.2 1.41-.59l7.78-7.78 2.81-2.81c.8-.78.8-2.07 0-2.86zM5.41 20L4 18.59l7.72-7.72 1.47 1.35L5.41 20z\"/>\n",
              "  </svg>\n",
              "      </button>\n",
              "      \n",
              "  <style>\n",
              "    .colab-df-container {\n",
              "      display:flex;\n",
              "      flex-wrap:wrap;\n",
              "      gap: 12px;\n",
              "    }\n",
              "\n",
              "    .colab-df-convert {\n",
              "      background-color: #E8F0FE;\n",
              "      border: none;\n",
              "      border-radius: 50%;\n",
              "      cursor: pointer;\n",
              "      display: none;\n",
              "      fill: #1967D2;\n",
              "      height: 32px;\n",
              "      padding: 0 0 0 0;\n",
              "      width: 32px;\n",
              "    }\n",
              "\n",
              "    .colab-df-convert:hover {\n",
              "      background-color: #E2EBFA;\n",
              "      box-shadow: 0px 1px 2px rgba(60, 64, 67, 0.3), 0px 1px 3px 1px rgba(60, 64, 67, 0.15);\n",
              "      fill: #174EA6;\n",
              "    }\n",
              "\n",
              "    [theme=dark] .colab-df-convert {\n",
              "      background-color: #3B4455;\n",
              "      fill: #D2E3FC;\n",
              "    }\n",
              "\n",
              "    [theme=dark] .colab-df-convert:hover {\n",
              "      background-color: #434B5C;\n",
              "      box-shadow: 0px 1px 3px 1px rgba(0, 0, 0, 0.15);\n",
              "      filter: drop-shadow(0px 1px 2px rgba(0, 0, 0, 0.3));\n",
              "      fill: #FFFFFF;\n",
              "    }\n",
              "  </style>\n",
              "\n",
              "      <script>\n",
              "        const buttonEl =\n",
              "          document.querySelector('#df-f72803a1-3f09-46e9-932f-eee74232fa86 button.colab-df-convert');\n",
              "        buttonEl.style.display =\n",
              "          google.colab.kernel.accessAllowed ? 'block' : 'none';\n",
              "\n",
              "        async function convertToInteractive(key) {\n",
              "          const element = document.querySelector('#df-f72803a1-3f09-46e9-932f-eee74232fa86');\n",
              "          const dataTable =\n",
              "            await google.colab.kernel.invokeFunction('convertToInteractive',\n",
              "                                                     [key], {});\n",
              "          if (!dataTable) return;\n",
              "\n",
              "          const docLinkHtml = 'Like what you see? Visit the ' +\n",
              "            '<a target=\"_blank\" href=https://colab.research.google.com/notebooks/data_table.ipynb>data table notebook</a>'\n",
              "            + ' to learn more about interactive tables.';\n",
              "          element.innerHTML = '';\n",
              "          dataTable['output_type'] = 'display_data';\n",
              "          await google.colab.output.renderOutput(dataTable, element);\n",
              "          const docLink = document.createElement('div');\n",
              "          docLink.innerHTML = docLinkHtml;\n",
              "          element.appendChild(docLink);\n",
              "        }\n",
              "      </script>\n",
              "    </div>\n",
              "  </div>\n",
              "  "
            ]
          },
          "metadata": {},
          "execution_count": 291
        }
      ]
    },
    {
      "cell_type": "code",
      "source": [
        "zomato['cost2plates'].unique()"
      ],
      "metadata": {
        "colab": {
          "base_uri": "https://localhost:8080/"
        },
        "id": "dmaWzQdoFmoW",
        "outputId": "15baf086-ed46-41a3-87fc-def54e8af6ae"
      },
      "execution_count": 292,
      "outputs": [
        {
          "output_type": "execute_result",
          "data": {
            "text/plain": [
              "array(['800', '300', '600', '700', '550', '500', '450', '650', '400',\n",
              "       '900', '200', '750', '150', '850', '100', '1,200', '350', '250',\n",
              "       '950', '1,000', '1,500', '1,300', '199', '80', '1,100', '160',\n",
              "       '1,600', '230', '130', '50', '190', '1,700', '1,400', '180',\n",
              "       '1,350', '2,200', '2,000', '1,800', '1,900', '330', '2,500',\n",
              "       '2,100', '3,000', '2,800', '3,400', '40', '1,250', '3,500',\n",
              "       '4,000', '2,400', '2,600', '120', '1,450', '469', '70', '3,200',\n",
              "       '60', '560', '240', '360', '6,000', '1,050', '2,300', '4,100',\n",
              "       '5,000', '3,700', '1,650', '2,700', '4,500', '140'], dtype=object)"
            ]
          },
          "metadata": {},
          "execution_count": 292
        }
      ]
    },
    {
      "cell_type": "code",
      "source": [
        "# Removing ',' from cost2plates column\n",
        "def removeco(x):\n",
        "  x = str(x)\n",
        "  if ',' in x:\n",
        "    x = x.replace(',', '')\n",
        "    return float(x)\n",
        "  else:\n",
        "    return float(x)"
      ],
      "metadata": {
        "id": "o3L7Uo0OFtNk"
      },
      "execution_count": 293,
      "outputs": []
    },
    {
      "cell_type": "code",
      "source": [
        "zomato['cost2plates'] = zomato['cost2plates'].apply(removeco)"
      ],
      "metadata": {
        "id": "9iGoJHzsHTCb"
      },
      "execution_count": 294,
      "outputs": []
    },
    {
      "cell_type": "code",
      "source": [
        "zomato['cost2plates'].unique()"
      ],
      "metadata": {
        "colab": {
          "base_uri": "https://localhost:8080/"
        },
        "id": "4RRPr8ybHmnB",
        "outputId": "8381eb60-1b80-46f0-eae1-457b772286da"
      },
      "execution_count": 295,
      "outputs": [
        {
          "output_type": "execute_result",
          "data": {
            "text/plain": [
              "array([ 800.,  300.,  600.,  700.,  550.,  500.,  450.,  650.,  400.,\n",
              "        900.,  200.,  750.,  150.,  850.,  100., 1200.,  350.,  250.,\n",
              "        950., 1000., 1500., 1300.,  199.,   80., 1100.,  160., 1600.,\n",
              "        230.,  130.,   50.,  190., 1700., 1400.,  180., 1350., 2200.,\n",
              "       2000., 1800., 1900.,  330., 2500., 2100., 3000., 2800., 3400.,\n",
              "         40., 1250., 3500., 4000., 2400., 2600.,  120., 1450.,  469.,\n",
              "         70., 3200.,   60.,  560.,  240.,  360., 6000., 1050., 2300.,\n",
              "       4100., 5000., 3700., 1650., 2700., 4500.,  140.])"
            ]
          },
          "metadata": {},
          "execution_count": 295
        }
      ]
    },
    {
      "cell_type": "code",
      "source": [
        "zomato.head()"
      ],
      "metadata": {
        "colab": {
          "base_uri": "https://localhost:8080/",
          "height": 206
        },
        "id": "wyWaaiisHwrW",
        "outputId": "b8335443-0d84-4f15-8d95-da033ce1c08c"
      },
      "execution_count": 296,
      "outputs": [
        {
          "output_type": "execute_result",
          "data": {
            "text/plain": [
              "                    name online_order book_table  rate  votes      location  \\\n",
              "0                  Jalsa          Yes        Yes   4.1    775  Banashankari   \n",
              "1         Spice Elephant          Yes         No   4.1    787  Banashankari   \n",
              "2        San Churro Cafe          Yes         No   3.8    918  Banashankari   \n",
              "3  Addhuri Udupi Bhojana           No         No   3.7     88  Banashankari   \n",
              "4          Grand Village           No         No   3.8    166  Basavanagudi   \n",
              "\n",
              "             rest_type                        cuisines  cost2plates    type  \n",
              "0        Casual Dining  North Indian, Mughlai, Chinese        800.0  Buffet  \n",
              "1        Casual Dining     Chinese, North Indian, Thai        800.0  Buffet  \n",
              "2  Cafe, Casual Dining          Cafe, Mexican, Italian        800.0  Buffet  \n",
              "3          Quick Bites      South Indian, North Indian        300.0  Buffet  \n",
              "4        Casual Dining        North Indian, Rajasthani        600.0  Buffet  "
            ],
            "text/html": [
              "\n",
              "  <div id=\"df-ed05302d-a9f8-43b9-91e5-d995325a72a6\">\n",
              "    <div class=\"colab-df-container\">\n",
              "      <div>\n",
              "<style scoped>\n",
              "    .dataframe tbody tr th:only-of-type {\n",
              "        vertical-align: middle;\n",
              "    }\n",
              "\n",
              "    .dataframe tbody tr th {\n",
              "        vertical-align: top;\n",
              "    }\n",
              "\n",
              "    .dataframe thead th {\n",
              "        text-align: right;\n",
              "    }\n",
              "</style>\n",
              "<table border=\"1\" class=\"dataframe\">\n",
              "  <thead>\n",
              "    <tr style=\"text-align: right;\">\n",
              "      <th></th>\n",
              "      <th>name</th>\n",
              "      <th>online_order</th>\n",
              "      <th>book_table</th>\n",
              "      <th>rate</th>\n",
              "      <th>votes</th>\n",
              "      <th>location</th>\n",
              "      <th>rest_type</th>\n",
              "      <th>cuisines</th>\n",
              "      <th>cost2plates</th>\n",
              "      <th>type</th>\n",
              "    </tr>\n",
              "  </thead>\n",
              "  <tbody>\n",
              "    <tr>\n",
              "      <th>0</th>\n",
              "      <td>Jalsa</td>\n",
              "      <td>Yes</td>\n",
              "      <td>Yes</td>\n",
              "      <td>4.1</td>\n",
              "      <td>775</td>\n",
              "      <td>Banashankari</td>\n",
              "      <td>Casual Dining</td>\n",
              "      <td>North Indian, Mughlai, Chinese</td>\n",
              "      <td>800.0</td>\n",
              "      <td>Buffet</td>\n",
              "    </tr>\n",
              "    <tr>\n",
              "      <th>1</th>\n",
              "      <td>Spice Elephant</td>\n",
              "      <td>Yes</td>\n",
              "      <td>No</td>\n",
              "      <td>4.1</td>\n",
              "      <td>787</td>\n",
              "      <td>Banashankari</td>\n",
              "      <td>Casual Dining</td>\n",
              "      <td>Chinese, North Indian, Thai</td>\n",
              "      <td>800.0</td>\n",
              "      <td>Buffet</td>\n",
              "    </tr>\n",
              "    <tr>\n",
              "      <th>2</th>\n",
              "      <td>San Churro Cafe</td>\n",
              "      <td>Yes</td>\n",
              "      <td>No</td>\n",
              "      <td>3.8</td>\n",
              "      <td>918</td>\n",
              "      <td>Banashankari</td>\n",
              "      <td>Cafe, Casual Dining</td>\n",
              "      <td>Cafe, Mexican, Italian</td>\n",
              "      <td>800.0</td>\n",
              "      <td>Buffet</td>\n",
              "    </tr>\n",
              "    <tr>\n",
              "      <th>3</th>\n",
              "      <td>Addhuri Udupi Bhojana</td>\n",
              "      <td>No</td>\n",
              "      <td>No</td>\n",
              "      <td>3.7</td>\n",
              "      <td>88</td>\n",
              "      <td>Banashankari</td>\n",
              "      <td>Quick Bites</td>\n",
              "      <td>South Indian, North Indian</td>\n",
              "      <td>300.0</td>\n",
              "      <td>Buffet</td>\n",
              "    </tr>\n",
              "    <tr>\n",
              "      <th>4</th>\n",
              "      <td>Grand Village</td>\n",
              "      <td>No</td>\n",
              "      <td>No</td>\n",
              "      <td>3.8</td>\n",
              "      <td>166</td>\n",
              "      <td>Basavanagudi</td>\n",
              "      <td>Casual Dining</td>\n",
              "      <td>North Indian, Rajasthani</td>\n",
              "      <td>600.0</td>\n",
              "      <td>Buffet</td>\n",
              "    </tr>\n",
              "  </tbody>\n",
              "</table>\n",
              "</div>\n",
              "      <button class=\"colab-df-convert\" onclick=\"convertToInteractive('df-ed05302d-a9f8-43b9-91e5-d995325a72a6')\"\n",
              "              title=\"Convert this dataframe to an interactive table.\"\n",
              "              style=\"display:none;\">\n",
              "        \n",
              "  <svg xmlns=\"http://www.w3.org/2000/svg\" height=\"24px\"viewBox=\"0 0 24 24\"\n",
              "       width=\"24px\">\n",
              "    <path d=\"M0 0h24v24H0V0z\" fill=\"none\"/>\n",
              "    <path d=\"M18.56 5.44l.94 2.06.94-2.06 2.06-.94-2.06-.94-.94-2.06-.94 2.06-2.06.94zm-11 1L8.5 8.5l.94-2.06 2.06-.94-2.06-.94L8.5 2.5l-.94 2.06-2.06.94zm10 10l.94 2.06.94-2.06 2.06-.94-2.06-.94-.94-2.06-.94 2.06-2.06.94z\"/><path d=\"M17.41 7.96l-1.37-1.37c-.4-.4-.92-.59-1.43-.59-.52 0-1.04.2-1.43.59L10.3 9.45l-7.72 7.72c-.78.78-.78 2.05 0 2.83L4 21.41c.39.39.9.59 1.41.59.51 0 1.02-.2 1.41-.59l7.78-7.78 2.81-2.81c.8-.78.8-2.07 0-2.86zM5.41 20L4 18.59l7.72-7.72 1.47 1.35L5.41 20z\"/>\n",
              "  </svg>\n",
              "      </button>\n",
              "      \n",
              "  <style>\n",
              "    .colab-df-container {\n",
              "      display:flex;\n",
              "      flex-wrap:wrap;\n",
              "      gap: 12px;\n",
              "    }\n",
              "\n",
              "    .colab-df-convert {\n",
              "      background-color: #E8F0FE;\n",
              "      border: none;\n",
              "      border-radius: 50%;\n",
              "      cursor: pointer;\n",
              "      display: none;\n",
              "      fill: #1967D2;\n",
              "      height: 32px;\n",
              "      padding: 0 0 0 0;\n",
              "      width: 32px;\n",
              "    }\n",
              "\n",
              "    .colab-df-convert:hover {\n",
              "      background-color: #E2EBFA;\n",
              "      box-shadow: 0px 1px 2px rgba(60, 64, 67, 0.3), 0px 1px 3px 1px rgba(60, 64, 67, 0.15);\n",
              "      fill: #174EA6;\n",
              "    }\n",
              "\n",
              "    [theme=dark] .colab-df-convert {\n",
              "      background-color: #3B4455;\n",
              "      fill: #D2E3FC;\n",
              "    }\n",
              "\n",
              "    [theme=dark] .colab-df-convert:hover {\n",
              "      background-color: #434B5C;\n",
              "      box-shadow: 0px 1px 3px 1px rgba(0, 0, 0, 0.15);\n",
              "      filter: drop-shadow(0px 1px 2px rgba(0, 0, 0, 0.3));\n",
              "      fill: #FFFFFF;\n",
              "    }\n",
              "  </style>\n",
              "\n",
              "      <script>\n",
              "        const buttonEl =\n",
              "          document.querySelector('#df-ed05302d-a9f8-43b9-91e5-d995325a72a6 button.colab-df-convert');\n",
              "        buttonEl.style.display =\n",
              "          google.colab.kernel.accessAllowed ? 'block' : 'none';\n",
              "\n",
              "        async function convertToInteractive(key) {\n",
              "          const element = document.querySelector('#df-ed05302d-a9f8-43b9-91e5-d995325a72a6');\n",
              "          const dataTable =\n",
              "            await google.colab.kernel.invokeFunction('convertToInteractive',\n",
              "                                                     [key], {});\n",
              "          if (!dataTable) return;\n",
              "\n",
              "          const docLinkHtml = 'Like what you see? Visit the ' +\n",
              "            '<a target=\"_blank\" href=https://colab.research.google.com/notebooks/data_table.ipynb>data table notebook</a>'\n",
              "            + ' to learn more about interactive tables.';\n",
              "          element.innerHTML = '';\n",
              "          dataTable['output_type'] = 'display_data';\n",
              "          await google.colab.output.renderOutput(dataTable, element);\n",
              "          const docLink = document.createElement('div');\n",
              "          docLink.innerHTML = docLinkHtml;\n",
              "          element.appendChild(docLink);\n",
              "        }\n",
              "      </script>\n",
              "    </div>\n",
              "  </div>\n",
              "  "
            ]
          },
          "metadata": {},
          "execution_count": 296
        }
      ]
    },
    {
      "cell_type": "markdown",
      "source": [
        "### **Working with rest_type column**"
      ],
      "metadata": {
        "id": "K-480A4qJV1z"
      }
    },
    {
      "cell_type": "code",
      "source": [
        "zomato['rest_type'].unique()"
      ],
      "metadata": {
        "colab": {
          "base_uri": "https://localhost:8080/"
        },
        "id": "4zWdDANlIUby",
        "outputId": "468fdc80-b802-483b-84a6-4877eadd8ee1"
      },
      "execution_count": 297,
      "outputs": [
        {
          "output_type": "execute_result",
          "data": {
            "text/plain": [
              "array(['Casual Dining', 'Cafe, Casual Dining', 'Quick Bites',\n",
              "       'Casual Dining, Cafe', 'Cafe', 'Quick Bites, Cafe',\n",
              "       'Cafe, Quick Bites', 'Delivery', 'Mess', 'Dessert Parlor',\n",
              "       'Bakery, Dessert Parlor', 'Pub', 'Bakery', 'Takeaway, Delivery',\n",
              "       'Fine Dining', 'Beverage Shop', 'Sweet Shop', 'Bar',\n",
              "       'Beverage Shop, Quick Bites', 'Confectionery',\n",
              "       'Quick Bites, Beverage Shop', 'Dessert Parlor, Sweet Shop',\n",
              "       'Bakery, Quick Bites', 'Sweet Shop, Quick Bites', 'Kiosk',\n",
              "       'Food Truck', 'Quick Bites, Dessert Parlor',\n",
              "       'Beverage Shop, Dessert Parlor', 'Takeaway', 'Pub, Casual Dining',\n",
              "       'Casual Dining, Bar', 'Dessert Parlor, Beverage Shop',\n",
              "       'Quick Bites, Bakery', 'Dessert Parlor, Quick Bites',\n",
              "       'Microbrewery, Casual Dining', 'Lounge', 'Bar, Casual Dining',\n",
              "       'Food Court', 'Cafe, Bakery', 'Dhaba', 'Quick Bites, Sweet Shop',\n",
              "       'Microbrewery', 'Food Court, Quick Bites', 'Pub, Bar',\n",
              "       'Casual Dining, Pub', 'Lounge, Bar', 'Food Court, Dessert Parlor',\n",
              "       'Casual Dining, Sweet Shop', 'Food Court, Casual Dining',\n",
              "       'Casual Dining, Microbrewery', 'Sweet Shop, Dessert Parlor',\n",
              "       'Bakery, Beverage Shop', 'Lounge, Casual Dining',\n",
              "       'Cafe, Food Court', 'Beverage Shop, Cafe', 'Cafe, Dessert Parlor',\n",
              "       'Dessert Parlor, Cafe', 'Dessert Parlor, Bakery',\n",
              "       'Microbrewery, Pub', 'Bakery, Food Court', 'Club',\n",
              "       'Quick Bites, Food Court', 'Bakery, Cafe', 'Bar, Cafe',\n",
              "       'Pub, Cafe', 'Casual Dining, Irani Cafee', 'Fine Dining, Lounge',\n",
              "       'Bar, Quick Bites', 'Bakery, Kiosk', 'Pub, Microbrewery',\n",
              "       'Microbrewery, Lounge', 'Fine Dining, Microbrewery',\n",
              "       'Fine Dining, Bar', 'Mess, Quick Bites', 'Dessert Parlor, Kiosk',\n",
              "       'Bhojanalya', 'Casual Dining, Quick Bites', 'Pop Up', 'Cafe, Bar',\n",
              "       'Casual Dining, Lounge', 'Bakery, Sweet Shop', 'Microbrewery, Bar',\n",
              "       'Cafe, Lounge', 'Bar, Pub', 'Lounge, Cafe', 'Club, Casual Dining',\n",
              "       'Quick Bites, Mess', 'Quick Bites, Meat Shop',\n",
              "       'Quick Bites, Kiosk', 'Lounge, Microbrewery',\n",
              "       'Food Court, Beverage Shop', 'Dessert Parlor, Food Court',\n",
              "       'Bar, Lounge'], dtype=object)"
            ]
          },
          "metadata": {},
          "execution_count": 297
        }
      ]
    },
    {
      "cell_type": "code",
      "source": [
        "zomato['rest_type'].nunique()"
      ],
      "metadata": {
        "colab": {
          "base_uri": "https://localhost:8080/"
        },
        "id": "iqhFqMwOKDn6",
        "outputId": "1c18770d-9c0d-4ee7-8961-852be0323ae4"
      },
      "execution_count": 298,
      "outputs": [
        {
          "output_type": "execute_result",
          "data": {
            "text/plain": [
              "93"
            ]
          },
          "metadata": {},
          "execution_count": 298
        }
      ]
    },
    {
      "cell_type": "code",
      "source": [
        "rest_types = zomato['rest_type'].value_counts(ascending = False)\n",
        "rest_types"
      ],
      "metadata": {
        "colab": {
          "base_uri": "https://localhost:8080/"
        },
        "id": "Uf1oMQoXJf-T",
        "outputId": "dd9d2a80-5e15-4ca4-d758-d53ec72ed88c"
      },
      "execution_count": 299,
      "outputs": [
        {
          "output_type": "execute_result",
          "data": {
            "text/plain": [
              "Quick Bites                   19010\n",
              "Casual Dining                 10253\n",
              "Cafe                           3682\n",
              "Delivery                       2574\n",
              "Dessert Parlor                 2242\n",
              "                              ...  \n",
              "Dessert Parlor, Kiosk             2\n",
              "Food Court, Beverage Shop         2\n",
              "Dessert Parlor, Food Court        2\n",
              "Quick Bites, Kiosk                1\n",
              "Sweet Shop, Dessert Parlor        1\n",
              "Name: rest_type, Length: 93, dtype: int64"
            ]
          },
          "metadata": {},
          "execution_count": 299
        }
      ]
    },
    {
      "cell_type": "code",
      "source": [
        "rest_types_lessthan1000 = rest_types[rest_types < 1000]\n",
        "rest_types_lessthan1000"
      ],
      "metadata": {
        "colab": {
          "base_uri": "https://localhost:8080/"
        },
        "id": "Dfh_rmK7J7lY",
        "outputId": "95d95d35-ad32-4f6a-ab72-a8f9603d085f"
      },
      "execution_count": 300,
      "outputs": [
        {
          "output_type": "execute_result",
          "data": {
            "text/plain": [
              "Beverage Shop                 863\n",
              "Bar                           686\n",
              "Food Court                    616\n",
              "Sweet Shop                    468\n",
              "Bar, Casual Dining            411\n",
              "                             ... \n",
              "Dessert Parlor, Kiosk           2\n",
              "Food Court, Beverage Shop       2\n",
              "Dessert Parlor, Food Court      2\n",
              "Quick Bites, Kiosk              1\n",
              "Sweet Shop, Dessert Parlor      1\n",
              "Name: rest_type, Length: 85, dtype: int64"
            ]
          },
          "metadata": {},
          "execution_count": 300
        }
      ]
    },
    {
      "cell_type": "code",
      "source": [
        "# Making Rest Types less than 1000 in frequency as others\n",
        "def handle_rest_type(value):\n",
        "  if(value in rest_types_lessthan1000):\n",
        "    return 'others'\n",
        "  else:\n",
        "    return value"
      ],
      "metadata": {
        "id": "3FvE25dnM133"
      },
      "execution_count": 301,
      "outputs": []
    },
    {
      "cell_type": "code",
      "source": [
        "zomato['rest_type'] = zomato['rest_type'].apply(handle_rest_type)\n",
        "zomato['rest_type'].value_counts()"
      ],
      "metadata": {
        "colab": {
          "base_uri": "https://localhost:8080/"
        },
        "id": "hhIE9fi5N5Dr",
        "outputId": "b3b1bc2f-34a4-4765-e34e-de5e369e67ca"
      },
      "execution_count": 302,
      "outputs": [
        {
          "output_type": "execute_result",
          "data": {
            "text/plain": [
              "Quick Bites           19010\n",
              "Casual Dining         10253\n",
              "others                 9003\n",
              "Cafe                   3682\n",
              "Delivery               2574\n",
              "Dessert Parlor         2242\n",
              "Takeaway, Delivery     2008\n",
              "Bakery                 1140\n",
              "Casual Dining, Bar     1130\n",
              "Name: rest_type, dtype: int64"
            ]
          },
          "metadata": {},
          "execution_count": 302
        }
      ]
    },
    {
      "cell_type": "markdown",
      "source": [
        "### **Working with location column**"
      ],
      "metadata": {
        "id": "V0wO7kYlO2Me"
      }
    },
    {
      "cell_type": "code",
      "source": [
        "location = zomato['location'].value_counts()\n",
        "location"
      ],
      "metadata": {
        "colab": {
          "base_uri": "https://localhost:8080/"
        },
        "id": "4uQcgqdPOHd4",
        "outputId": "6faa4eb1-c16c-4765-e939-518a61a1c200"
      },
      "execution_count": 303,
      "outputs": [
        {
          "output_type": "execute_result",
          "data": {
            "text/plain": [
              "BTM                      5056\n",
              "HSR                      2494\n",
              "Koramangala 5th Block    2479\n",
              "JP Nagar                 2218\n",
              "Whitefield               2105\n",
              "                         ... \n",
              "West Bangalore              6\n",
              "Yelahanka                   5\n",
              "Jakkur                      3\n",
              "Rajarajeshwari Nagar        2\n",
              "Peenya                      1\n",
              "Name: location, Length: 93, dtype: int64"
            ]
          },
          "metadata": {},
          "execution_count": 303
        }
      ]
    },
    {
      "cell_type": "code",
      "source": [
        "location_lessthan300 = location[location < 300]\n",
        "location_lessthan300"
      ],
      "metadata": {
        "colab": {
          "base_uri": "https://localhost:8080/"
        },
        "id": "cXzHrymbPEaG",
        "outputId": "5b67aecb-739a-49a8-ec06-f4090931dd7c"
      },
      "execution_count": 304,
      "outputs": [
        {
          "output_type": "execute_result",
          "data": {
            "text/plain": [
              "Koramangala 8th Block            294\n",
              "Vasanth Nagar                    293\n",
              "Jeevan Bhima Nagar               268\n",
              "Wilson Garden                    246\n",
              "Bommanahalli                     236\n",
              "Koramangala 3rd Block            215\n",
              "Thippasandra                     191\n",
              "Kumaraswamy Layout               191\n",
              "Nagawara                         187\n",
              "Basaveshwara Nagar               187\n",
              "Seshadripuram                    165\n",
              "Hennur                           159\n",
              "Majestic                         155\n",
              "HBR Layout                       153\n",
              "Infantry Road                    150\n",
              "Race Course Road                 139\n",
              "City Market                      122\n",
              "Yeshwantpur                      119\n",
              "ITPL Main Road, Whitefield       113\n",
              "Varthur Main Road, Whitefield    109\n",
              "South Bangalore                  107\n",
              "Koramangala 2nd Block            102\n",
              "Kaggadasapura                    101\n",
              "Hosur Road                        98\n",
              "CV Raman Nagar                    89\n",
              "Vijay Nagar                       78\n",
              "RT Nagar                          78\n",
              "Sanjay Nagar                      76\n",
              "Sadashiv Nagar                    63\n",
              "Sahakara Nagar                    53\n",
              "Koramangala                       48\n",
              "East Bangalore                    43\n",
              "Jalahalli                         38\n",
              "Magadi Road                       34\n",
              "Rammurthy Nagar                   32\n",
              "Langford Town                     27\n",
              "Sankey Road                       27\n",
              "Old Madras Road                   22\n",
              "Mysore Road                       22\n",
              "Kanakapura Road                   19\n",
              "KR Puram                          18\n",
              "Uttarahalli                       17\n",
              "Hebbal                            14\n",
              "North Bangalore                   14\n",
              "Nagarbhavi                         9\n",
              "Kengeri                            8\n",
              "Central Bangalore                  8\n",
              "West Bangalore                     6\n",
              "Yelahanka                          5\n",
              "Jakkur                             3\n",
              "Rajarajeshwari Nagar               2\n",
              "Peenya                             1\n",
              "Name: location, dtype: int64"
            ]
          },
          "metadata": {},
          "execution_count": 304
        }
      ]
    },
    {
      "cell_type": "code",
      "source": [
        "def handle_location(value):\n",
        "  if(value in location_lessthan300):\n",
        "    return 'others'\n",
        "  else:\n",
        "    return value\n",
        "\n",
        "zomato['location'] = zomato['location'].apply(handle_location)\n",
        "zomato['location'].value_counts()"
      ],
      "metadata": {
        "colab": {
          "base_uri": "https://localhost:8080/"
        },
        "id": "HHWF_JAXPbRD",
        "outputId": "0805ef53-92cc-4f6a-ef71-cf53917ab799"
      },
      "execution_count": 305,
      "outputs": [
        {
          "output_type": "execute_result",
          "data": {
            "text/plain": [
              "BTM                      5056\n",
              "others                   4954\n",
              "HSR                      2494\n",
              "Koramangala 5th Block    2479\n",
              "JP Nagar                 2218\n",
              "Whitefield               2105\n",
              "Indiranagar              2026\n",
              "Jayanagar                1916\n",
              "Marathahalli             1805\n",
              "Bannerghatta Road        1609\n",
              "Bellandur                1268\n",
              "Electronic City          1246\n",
              "Koramangala 1st Block    1236\n",
              "Brigade Road             1210\n",
              "Koramangala 7th Block    1174\n",
              "Koramangala 6th Block    1127\n",
              "Sarjapur Road            1047\n",
              "Koramangala 4th Block    1017\n",
              "Ulsoor                   1011\n",
              "Banashankari              902\n",
              "MG Road                   893\n",
              "Kalyan Nagar              841\n",
              "Richmond Road             803\n",
              "Malleshwaram              721\n",
              "Frazer Town               714\n",
              "Basavanagudi              684\n",
              "Residency Road            671\n",
              "Brookefield               656\n",
              "New BEL Road              644\n",
              "Banaswadi                 640\n",
              "Kammanahalli              639\n",
              "Rajajinagar               591\n",
              "Church Street             566\n",
              "Lavelle Road              518\n",
              "Shanti Nagar              508\n",
              "Shivajinagar              498\n",
              "Cunningham Road           490\n",
              "Domlur                    482\n",
              "Old Airport Road          437\n",
              "Ejipura                   433\n",
              "Commercial Street         370\n",
              "St. Marks Road            343\n",
              "Name: location, dtype: int64"
            ]
          },
          "metadata": {},
          "execution_count": 305
        }
      ]
    },
    {
      "cell_type": "code",
      "source": [
        "zomato.head()"
      ],
      "metadata": {
        "colab": {
          "base_uri": "https://localhost:8080/",
          "height": 206
        },
        "id": "v49LyQ0UYjeO",
        "outputId": "49123512-10c8-4621-db5a-808211634f53"
      },
      "execution_count": 306,
      "outputs": [
        {
          "output_type": "execute_result",
          "data": {
            "text/plain": [
              "                    name online_order book_table  rate  votes      location  \\\n",
              "0                  Jalsa          Yes        Yes   4.1    775  Banashankari   \n",
              "1         Spice Elephant          Yes         No   4.1    787  Banashankari   \n",
              "2        San Churro Cafe          Yes         No   3.8    918  Banashankari   \n",
              "3  Addhuri Udupi Bhojana           No         No   3.7     88  Banashankari   \n",
              "4          Grand Village           No         No   3.8    166  Basavanagudi   \n",
              "\n",
              "       rest_type                        cuisines  cost2plates    type  \n",
              "0  Casual Dining  North Indian, Mughlai, Chinese        800.0  Buffet  \n",
              "1  Casual Dining     Chinese, North Indian, Thai        800.0  Buffet  \n",
              "2         others          Cafe, Mexican, Italian        800.0  Buffet  \n",
              "3    Quick Bites      South Indian, North Indian        300.0  Buffet  \n",
              "4  Casual Dining        North Indian, Rajasthani        600.0  Buffet  "
            ],
            "text/html": [
              "\n",
              "  <div id=\"df-945e8c22-93db-40f5-a20c-25461b7602a7\">\n",
              "    <div class=\"colab-df-container\">\n",
              "      <div>\n",
              "<style scoped>\n",
              "    .dataframe tbody tr th:only-of-type {\n",
              "        vertical-align: middle;\n",
              "    }\n",
              "\n",
              "    .dataframe tbody tr th {\n",
              "        vertical-align: top;\n",
              "    }\n",
              "\n",
              "    .dataframe thead th {\n",
              "        text-align: right;\n",
              "    }\n",
              "</style>\n",
              "<table border=\"1\" class=\"dataframe\">\n",
              "  <thead>\n",
              "    <tr style=\"text-align: right;\">\n",
              "      <th></th>\n",
              "      <th>name</th>\n",
              "      <th>online_order</th>\n",
              "      <th>book_table</th>\n",
              "      <th>rate</th>\n",
              "      <th>votes</th>\n",
              "      <th>location</th>\n",
              "      <th>rest_type</th>\n",
              "      <th>cuisines</th>\n",
              "      <th>cost2plates</th>\n",
              "      <th>type</th>\n",
              "    </tr>\n",
              "  </thead>\n",
              "  <tbody>\n",
              "    <tr>\n",
              "      <th>0</th>\n",
              "      <td>Jalsa</td>\n",
              "      <td>Yes</td>\n",
              "      <td>Yes</td>\n",
              "      <td>4.1</td>\n",
              "      <td>775</td>\n",
              "      <td>Banashankari</td>\n",
              "      <td>Casual Dining</td>\n",
              "      <td>North Indian, Mughlai, Chinese</td>\n",
              "      <td>800.0</td>\n",
              "      <td>Buffet</td>\n",
              "    </tr>\n",
              "    <tr>\n",
              "      <th>1</th>\n",
              "      <td>Spice Elephant</td>\n",
              "      <td>Yes</td>\n",
              "      <td>No</td>\n",
              "      <td>4.1</td>\n",
              "      <td>787</td>\n",
              "      <td>Banashankari</td>\n",
              "      <td>Casual Dining</td>\n",
              "      <td>Chinese, North Indian, Thai</td>\n",
              "      <td>800.0</td>\n",
              "      <td>Buffet</td>\n",
              "    </tr>\n",
              "    <tr>\n",
              "      <th>2</th>\n",
              "      <td>San Churro Cafe</td>\n",
              "      <td>Yes</td>\n",
              "      <td>No</td>\n",
              "      <td>3.8</td>\n",
              "      <td>918</td>\n",
              "      <td>Banashankari</td>\n",
              "      <td>others</td>\n",
              "      <td>Cafe, Mexican, Italian</td>\n",
              "      <td>800.0</td>\n",
              "      <td>Buffet</td>\n",
              "    </tr>\n",
              "    <tr>\n",
              "      <th>3</th>\n",
              "      <td>Addhuri Udupi Bhojana</td>\n",
              "      <td>No</td>\n",
              "      <td>No</td>\n",
              "      <td>3.7</td>\n",
              "      <td>88</td>\n",
              "      <td>Banashankari</td>\n",
              "      <td>Quick Bites</td>\n",
              "      <td>South Indian, North Indian</td>\n",
              "      <td>300.0</td>\n",
              "      <td>Buffet</td>\n",
              "    </tr>\n",
              "    <tr>\n",
              "      <th>4</th>\n",
              "      <td>Grand Village</td>\n",
              "      <td>No</td>\n",
              "      <td>No</td>\n",
              "      <td>3.8</td>\n",
              "      <td>166</td>\n",
              "      <td>Basavanagudi</td>\n",
              "      <td>Casual Dining</td>\n",
              "      <td>North Indian, Rajasthani</td>\n",
              "      <td>600.0</td>\n",
              "      <td>Buffet</td>\n",
              "    </tr>\n",
              "  </tbody>\n",
              "</table>\n",
              "</div>\n",
              "      <button class=\"colab-df-convert\" onclick=\"convertToInteractive('df-945e8c22-93db-40f5-a20c-25461b7602a7')\"\n",
              "              title=\"Convert this dataframe to an interactive table.\"\n",
              "              style=\"display:none;\">\n",
              "        \n",
              "  <svg xmlns=\"http://www.w3.org/2000/svg\" height=\"24px\"viewBox=\"0 0 24 24\"\n",
              "       width=\"24px\">\n",
              "    <path d=\"M0 0h24v24H0V0z\" fill=\"none\"/>\n",
              "    <path d=\"M18.56 5.44l.94 2.06.94-2.06 2.06-.94-2.06-.94-.94-2.06-.94 2.06-2.06.94zm-11 1L8.5 8.5l.94-2.06 2.06-.94-2.06-.94L8.5 2.5l-.94 2.06-2.06.94zm10 10l.94 2.06.94-2.06 2.06-.94-2.06-.94-.94-2.06-.94 2.06-2.06.94z\"/><path d=\"M17.41 7.96l-1.37-1.37c-.4-.4-.92-.59-1.43-.59-.52 0-1.04.2-1.43.59L10.3 9.45l-7.72 7.72c-.78.78-.78 2.05 0 2.83L4 21.41c.39.39.9.59 1.41.59.51 0 1.02-.2 1.41-.59l7.78-7.78 2.81-2.81c.8-.78.8-2.07 0-2.86zM5.41 20L4 18.59l7.72-7.72 1.47 1.35L5.41 20z\"/>\n",
              "  </svg>\n",
              "      </button>\n",
              "      \n",
              "  <style>\n",
              "    .colab-df-container {\n",
              "      display:flex;\n",
              "      flex-wrap:wrap;\n",
              "      gap: 12px;\n",
              "    }\n",
              "\n",
              "    .colab-df-convert {\n",
              "      background-color: #E8F0FE;\n",
              "      border: none;\n",
              "      border-radius: 50%;\n",
              "      cursor: pointer;\n",
              "      display: none;\n",
              "      fill: #1967D2;\n",
              "      height: 32px;\n",
              "      padding: 0 0 0 0;\n",
              "      width: 32px;\n",
              "    }\n",
              "\n",
              "    .colab-df-convert:hover {\n",
              "      background-color: #E2EBFA;\n",
              "      box-shadow: 0px 1px 2px rgba(60, 64, 67, 0.3), 0px 1px 3px 1px rgba(60, 64, 67, 0.15);\n",
              "      fill: #174EA6;\n",
              "    }\n",
              "\n",
              "    [theme=dark] .colab-df-convert {\n",
              "      background-color: #3B4455;\n",
              "      fill: #D2E3FC;\n",
              "    }\n",
              "\n",
              "    [theme=dark] .colab-df-convert:hover {\n",
              "      background-color: #434B5C;\n",
              "      box-shadow: 0px 1px 3px 1px rgba(0, 0, 0, 0.15);\n",
              "      filter: drop-shadow(0px 1px 2px rgba(0, 0, 0, 0.3));\n",
              "      fill: #FFFFFF;\n",
              "    }\n",
              "  </style>\n",
              "\n",
              "      <script>\n",
              "        const buttonEl =\n",
              "          document.querySelector('#df-945e8c22-93db-40f5-a20c-25461b7602a7 button.colab-df-convert');\n",
              "        buttonEl.style.display =\n",
              "          google.colab.kernel.accessAllowed ? 'block' : 'none';\n",
              "\n",
              "        async function convertToInteractive(key) {\n",
              "          const element = document.querySelector('#df-945e8c22-93db-40f5-a20c-25461b7602a7');\n",
              "          const dataTable =\n",
              "            await google.colab.kernel.invokeFunction('convertToInteractive',\n",
              "                                                     [key], {});\n",
              "          if (!dataTable) return;\n",
              "\n",
              "          const docLinkHtml = 'Like what you see? Visit the ' +\n",
              "            '<a target=\"_blank\" href=https://colab.research.google.com/notebooks/data_table.ipynb>data table notebook</a>'\n",
              "            + ' to learn more about interactive tables.';\n",
              "          element.innerHTML = '';\n",
              "          dataTable['output_type'] = 'display_data';\n",
              "          await google.colab.output.renderOutput(dataTable, element);\n",
              "          const docLink = document.createElement('div');\n",
              "          docLink.innerHTML = docLinkHtml;\n",
              "          element.appendChild(docLink);\n",
              "        }\n",
              "      </script>\n",
              "    </div>\n",
              "  </div>\n",
              "  "
            ]
          },
          "metadata": {},
          "execution_count": 306
        }
      ]
    },
    {
      "cell_type": "markdown",
      "source": [
        "### **Working with Cuisines column**"
      ],
      "metadata": {
        "id": "0J6p66zzQawu"
      }
    },
    {
      "cell_type": "code",
      "source": [
        "cuisines = zomato['cuisines'].value_counts()\n",
        "cuisines"
      ],
      "metadata": {
        "colab": {
          "base_uri": "https://localhost:8080/"
        },
        "id": "kQrykiknP5Hh",
        "outputId": "eeb4b0d5-9973-471b-ccae-c46cc28c1dfc"
      },
      "execution_count": 307,
      "outputs": [
        {
          "output_type": "execute_result",
          "data": {
            "text/plain": [
              "North Indian                                2852\n",
              "North Indian, Chinese                       2351\n",
              "South Indian                                1820\n",
              "Biryani                                      903\n",
              "Bakery, Desserts                             898\n",
              "                                            ... \n",
              "North Indian, Chinese, Oriya, Mithai           1\n",
              "Beverages, Burger                              1\n",
              "North Indian, Mughlai, Lucknowi                1\n",
              "Continental, Thai, North Indian, Chinese       1\n",
              "North Indian, Chinese, Arabian, Momos          1\n",
              "Name: cuisines, Length: 2704, dtype: int64"
            ]
          },
          "metadata": {},
          "execution_count": 307
        }
      ]
    },
    {
      "cell_type": "code",
      "source": [
        "cuisines_lessthan100 = cuisines[cuisines < 100]\n",
        "cuisines_lessthan100"
      ],
      "metadata": {
        "colab": {
          "base_uri": "https://localhost:8080/"
        },
        "id": "bnWwxhviYshG",
        "outputId": "1cd1fa32-3327-4de3-e16a-e983844de021"
      },
      "execution_count": 308,
      "outputs": [
        {
          "output_type": "execute_result",
          "data": {
            "text/plain": [
              "North Indian, Continental, Chinese          97\n",
              "Juices                                      94\n",
              "Fast Food, North Indian                     93\n",
              "Bengali, North Indian                       93\n",
              "Beverages, Juices                           90\n",
              "                                            ..\n",
              "North Indian, Chinese, Oriya, Mithai         1\n",
              "Beverages, Burger                            1\n",
              "North Indian, Mughlai, Lucknowi              1\n",
              "Continental, Thai, North Indian, Chinese     1\n",
              "North Indian, Chinese, Arabian, Momos        1\n",
              "Name: cuisines, Length: 2635, dtype: int64"
            ]
          },
          "metadata": {},
          "execution_count": 308
        }
      ]
    },
    {
      "cell_type": "code",
      "source": [
        "def handlecuis(value):\n",
        "  if value in cuisines_lessthan100:\n",
        "    return 'others'\n",
        "  else:\n",
        "    return value"
      ],
      "metadata": {
        "id": "rFKEIRiWZIoU"
      },
      "execution_count": 309,
      "outputs": []
    },
    {
      "cell_type": "code",
      "source": [
        "zomato['cuisines'] = zomato['cuisines'].apply(handlecuis)\n",
        "zomato['cuisines'].value_counts()"
      ],
      "metadata": {
        "colab": {
          "base_uri": "https://localhost:8080/"
        },
        "id": "e8LwJFTMZZOS",
        "outputId": "b437a590-cb03-4817-bf42-61d3d363c08c"
      },
      "execution_count": 310,
      "outputs": [
        {
          "output_type": "execute_result",
          "data": {
            "text/plain": [
              "others                                 26159\n",
              "North Indian                            2852\n",
              "North Indian, Chinese                   2351\n",
              "South Indian                            1820\n",
              "Biryani                                  903\n",
              "                                       ...  \n",
              "South Indian, Chinese, North Indian      105\n",
              "North Indian, Mughlai, Chinese           104\n",
              "South Indian, Fast Food                  104\n",
              "Italian, Pizza                           102\n",
              "North Indian, Chinese, Seafood           102\n",
              "Name: cuisines, Length: 70, dtype: int64"
            ]
          },
          "metadata": {},
          "execution_count": 310
        }
      ]
    },
    {
      "cell_type": "code",
      "source": [
        "# No need to modify type column as it is already cleaned\n",
        "zomato['type'].value_counts()"
      ],
      "metadata": {
        "colab": {
          "base_uri": "https://localhost:8080/"
        },
        "id": "CKl8U826Zoc_",
        "outputId": "95a21fb8-530a-48ef-8ff8-e07a43ce530c"
      },
      "execution_count": 311,
      "outputs": [
        {
          "output_type": "execute_result",
          "data": {
            "text/plain": [
              "Delivery              25579\n",
              "Dine-out              17562\n",
              "Desserts               3559\n",
              "Cafes                  1703\n",
              "Drinks & nightlife     1084\n",
              "Buffet                  869\n",
              "Pubs and bars           686\n",
              "Name: type, dtype: int64"
            ]
          },
          "metadata": {},
          "execution_count": 311
        }
      ]
    },
    {
      "cell_type": "markdown",
      "source": [
        "# **Data Analysis and Visualization**\n",
        "\n",
        "\n",
        "\n"
      ],
      "metadata": {
        "id": "6zbVQ2O-U-zp"
      }
    },
    {
      "cell_type": "markdown",
      "source": [
        "## **Count Plot of Various Locations**"
      ],
      "metadata": {
        "id": "HToo8lQDVxhW"
      }
    },
    {
      "cell_type": "code",
      "source": [
        "plt.figure(figsize = (15,9))\n",
        "C = sns.countplot(zomato['location'])\n",
        "plt.xticks(rotation = 90)"
      ],
      "metadata": {
        "colab": {
          "base_uri": "https://localhost:8080/",
          "height": 781
        },
        "id": "LCUYUPBdVfYS",
        "outputId": "2460da17-436a-42f2-a3ad-5c7b359e5a0d"
      },
      "execution_count": 312,
      "outputs": [
        {
          "output_type": "stream",
          "name": "stderr",
          "text": [
            "/usr/local/lib/python3.7/dist-packages/seaborn/_decorators.py:43: FutureWarning: Pass the following variable as a keyword arg: x. From version 0.12, the only valid positional argument will be `data`, and passing other arguments without an explicit keyword will result in an error or misinterpretation.\n",
            "  FutureWarning\n"
          ]
        },
        {
          "output_type": "execute_result",
          "data": {
            "text/plain": [
              "(array([ 0,  1,  2,  3,  4,  5,  6,  7,  8,  9, 10, 11, 12, 13, 14, 15, 16,\n",
              "        17, 18, 19, 20, 21, 22, 23, 24, 25, 26, 27, 28, 29, 30, 31, 32, 33,\n",
              "        34, 35, 36, 37, 38, 39, 40, 41]),\n",
              " <a list of 42 Text major ticklabel objects>)"
            ]
          },
          "metadata": {},
          "execution_count": 312
        },
        {
          "output_type": "display_data",
          "data": {
            "text/plain": [
              "<Figure size 1080x648 with 1 Axes>"
            ],
            "image/png": "[encoded data removed]"
          },
          "metadata": {}
        }
      ]
    },
    {
      "cell_type": "markdown",
      "source": [
        "## **Visualising Online Order**"
      ],
      "metadata": {
        "id": "zTXyZzTEXRjK"
      }
    },
    {
      "cell_type": "code",
      "source": [
        "plt.figure(figsize=(6,6))\n",
        "sns.countplot(zomato['online_order'], palette='inferno')"
      ],
      "metadata": {
        "colab": {
          "base_uri": "https://localhost:8080/",
          "height": 461
        },
        "id": "gF4XdGErWWGR",
        "outputId": "f5a6853a-3b0d-408c-c3a5-0bb0cdba7c74"
      },
      "execution_count": 313,
      "outputs": [
        {
          "output_type": "stream",
          "name": "stderr",
          "text": [
            "/usr/local/lib/python3.7/dist-packages/seaborn/_decorators.py:43: FutureWarning: Pass the following variable as a keyword arg: x. From version 0.12, the only valid positional argument will be `data`, and passing other arguments without an explicit keyword will result in an error or misinterpretation.\n",
            "  FutureWarning\n"
          ]
        },
        {
          "output_type": "execute_result",
          "data": {
            "text/plain": [
              "<matplotlib.axes._subplots.AxesSubplot at 0x7fa4334fe050>"
            ]
          },
          "metadata": {},
          "execution_count": 313
        },
        {
          "output_type": "display_data",
          "data": {
            "text/plain": [
              "<Figure size 432x432 with 1 Axes>"
            ],
            "image/png": "[encoded data removed]"
          },
          "metadata": {}
        }
      ]
    },
    {
      "cell_type": "markdown",
      "source": [
        "## **Visualising Booking Table**"
      ],
      "metadata": {
        "id": "Kym9R542YWmt"
      }
    },
    {
      "cell_type": "code",
      "source": [
        "plt.figure(figsize=(6,6))\n",
        "sns.countplot(zomato['book_table'], palette='rainbow')"
      ],
      "metadata": {
        "colab": {
          "base_uri": "https://localhost:8080/",
          "height": 461
        },
        "id": "-lvWU_G9X9F5",
        "outputId": "10784add-5f74-4f2a-e59c-81f44848de26"
      },
      "execution_count": 314,
      "outputs": [
        {
          "output_type": "stream",
          "name": "stderr",
          "text": [
            "/usr/local/lib/python3.7/dist-packages/seaborn/_decorators.py:43: FutureWarning: Pass the following variable as a keyword arg: x. From version 0.12, the only valid positional argument will be `data`, and passing other arguments without an explicit keyword will result in an error or misinterpretation.\n",
            "  FutureWarning\n"
          ]
        },
        {
          "output_type": "execute_result",
          "data": {
            "text/plain": [
              "<matplotlib.axes._subplots.AxesSubplot at 0x7fa4332cb0d0>"
            ]
          },
          "metadata": {},
          "execution_count": 314
        },
        {
          "output_type": "display_data",
          "data": {
            "text/plain": [
              "<Figure size 432x432 with 1 Axes>"
            ],
            "image/png": "[encoded data removed]"
          },
          "metadata": {}
        }
      ]
    },
    {
      "cell_type": "markdown",
      "source": [
        "## **Visualizing Online Order VS Rate**"
      ],
      "metadata": {
        "id": "AQUWBCC0Y36M"
      }
    },
    {
      "cell_type": "code",
      "source": [
        "plt.figure(figsize=(6,6))\n",
        "sns.boxplot(x = 'online_order', y = 'rate', data = zomato)"
      ],
      "metadata": {
        "colab": {
          "base_uri": "https://localhost:8080/",
          "height": 406
        },
        "id": "lscaG5WrYnoA",
        "outputId": "f4f324c6-8d0f-44d5-bbcc-bc397de003b4"
      },
      "execution_count": 315,
      "outputs": [
        {
          "output_type": "execute_result",
          "data": {
            "text/plain": [
              "<matplotlib.axes._subplots.AxesSubplot at 0x7fa43346c610>"
            ]
          },
          "metadata": {},
          "execution_count": 315
        },
        {
          "output_type": "display_data",
          "data": {
            "text/plain": [
              "<Figure size 432x432 with 1 Axes>"
            ],
            "image/png": "[encoded data removed]"
          },
          "metadata": {}
        }
      ]
    },
    {
      "cell_type": "markdown",
      "source": [
        "## **Visualizing Book Table VS Rate**"
      ],
      "metadata": {
        "id": "h5MSWlxraCel"
      }
    },
    {
      "cell_type": "code",
      "source": [
        "plt.figure(figsize=(6,6))\n",
        "sns.boxplot(x = 'book_table', y = 'rate', data = zomato)"
      ],
      "metadata": {
        "colab": {
          "base_uri": "https://localhost:8080/",
          "height": 406
        },
        "id": "5H0nZOhwZfZO",
        "outputId": "b420fa84-8b7d-4257-9499-bdd879435022"
      },
      "execution_count": 316,
      "outputs": [
        {
          "output_type": "execute_result",
          "data": {
            "text/plain": [
              "<matplotlib.axes._subplots.AxesSubplot at 0x7fa43329d210>"
            ]
          },
          "metadata": {},
          "execution_count": 316
        },
        {
          "output_type": "display_data",
          "data": {
            "text/plain": [
              "<Figure size 432x432 with 1 Axes>"
            ],
            "image/png": "[encoded data removed]"
          },
          "metadata": {}
        }
      ]
    },
    {
      "cell_type": "markdown",
      "source": [
        "## **Visualizing Online Order Facility Location Wise**"
      ],
      "metadata": {
        "id": "IbL9gAsRagFI"
      }
    },
    {
      "cell_type": "code",
      "source": [
        "d1 = zomato.groupby(['location', 'online_order'])['name'].count()\n",
        "d1.to_csv('location_online.csv')\n",
        "d1 = pd.read_csv('location_online.csv')"
      ],
      "metadata": {
        "id": "rpvIJtbuaUJu"
      },
      "execution_count": 317,
      "outputs": []
    },
    {
      "cell_type": "code",
      "source": [
        "d1 = pd.pivot_table(d1, values=None, index=['location'], columns=['online_order'], fill_value=0, aggfunc=np.sum)\n",
        "d1"
      ],
      "metadata": {
        "colab": {
          "base_uri": "https://localhost:8080/",
          "height": 1000
        },
        "id": "wRZB0aL-bFRJ",
        "outputId": "4ea903ca-0403-40f3-ff90-c39a7a478e8e"
      },
      "execution_count": 318,
      "outputs": [
        {
          "output_type": "execute_result",
          "data": {
            "text/plain": [
              "                       name      \n",
              "online_order             No   Yes\n",
              "location                         \n",
              "BTM                    1763  3293\n",
              "Banashankari            397   505\n",
              "Banaswadi               302   338\n",
              "Bannerghatta Road       685   924\n",
              "Basavanagudi            243   441\n",
              "Bellandur               517   751\n",
              "Brigade Road            552   658\n",
              "Brookefield             239   417\n",
              "Church Street           226   340\n",
              "Commercial Street       228   142\n",
              "Cunningham Road         168   322\n",
              "Domlur                  247   235\n",
              "Ejipura                 214   219\n",
              "Electronic City         676   570\n",
              "Frazer Town             287   427\n",
              "HSR                     584  1910\n",
              "Indiranagar             697  1329\n",
              "JP Nagar                911  1307\n",
              "Jayanagar               552  1364\n",
              "Kalyan Nagar            350   491\n",
              "Kammanahalli            264   375\n",
              "Koramangala 1st Block   384   852\n",
              "Koramangala 4th Block   459   558\n",
              "Koramangala 5th Block   866  1613\n",
              "Koramangala 6th Block   445   682\n",
              "Koramangala 7th Block   389   785\n",
              "Lavelle Road            315   203\n",
              "MG Road                 520   373\n",
              "Malleshwaram            309   412\n",
              "Marathahalli            701  1104\n",
              "New BEL Road            255   389\n",
              "Old Airport Road        221   216\n",
              "Rajajinagar             286   305\n",
              "Residency Road          424   247\n",
              "Richmond Road           557   246\n",
              "Sarjapur Road           323   724\n",
              "Shanti Nagar            289   219\n",
              "Shivajinagar            354   144\n",
              "St. Marks Road          176   167\n",
              "Ulsoor                  389   622\n",
              "Whitefield              986  1119\n",
              "others                 2064  2890"
            ],
            "text/html": [
              "\n",
              "  <div id=\"df-fcce5684-2767-42f8-8e84-197f638a57ca\">\n",
              "    <div class=\"colab-df-container\">\n",
              "      <div>\n",
              "<style scoped>\n",
              "    .dataframe tbody tr th:only-of-type {\n",
              "        vertical-align: middle;\n",
              "    }\n",
              "\n",
              "    .dataframe tbody tr th {\n",
              "        vertical-align: top;\n",
              "    }\n",
              "\n",
              "    .dataframe thead tr th {\n",
              "        text-align: left;\n",
              "    }\n",
              "\n",
              "    .dataframe thead tr:last-of-type th {\n",
              "        text-align: right;\n",
              "    }\n",
              "</style>\n",
              "<table border=\"1\" class=\"dataframe\">\n",
              "  <thead>\n",
              "    <tr>\n",
              "      <th></th>\n",
              "      <th colspan=\"2\" halign=\"left\">name</th>\n",
              "    </tr>\n",
              "    <tr>\n",
              "      <th>online_order</th>\n",
              "      <th>No</th>\n",
              "      <th>Yes</th>\n",
              "    </tr>\n",
              "    <tr>\n",
              "      <th>location</th>\n",
              "      <th></th>\n",
              "      <th></th>\n",
              "    </tr>\n",
              "  </thead>\n",
              "  <tbody>\n",
              "    <tr>\n",
              "      <th>BTM</th>\n",
              "      <td>1763</td>\n",
              "      <td>3293</td>\n",
              "    </tr>\n",
              "    <tr>\n",
              "      <th>Banashankari</th>\n",
              "      <td>397</td>\n",
              "      <td>505</td>\n",
              "    </tr>\n",
              "    <tr>\n",
              "      <th>Banaswadi</th>\n",
              "      <td>302</td>\n",
              "      <td>338</td>\n",
              "    </tr>\n",
              "    <tr>\n",
              "      <th>Bannerghatta Road</th>\n",
              "      <td>685</td>\n",
              "      <td>924</td>\n",
              "    </tr>\n",
              "    <tr>\n",
              "      <th>Basavanagudi</th>\n",
              "      <td>243</td>\n",
              "      <td>441</td>\n",
              "    </tr>\n",
              "    <tr>\n",
              "      <th>Bellandur</th>\n",
              "      <td>517</td>\n",
              "      <td>751</td>\n",
              "    </tr>\n",
              "    <tr>\n",
              "      <th>Brigade Road</th>\n",
              "      <td>552</td>\n",
              "      <td>658</td>\n",
              "    </tr>\n",
              "    <tr>\n",
              "      <th>Brookefield</th>\n",
              "      <td>239</td>\n",
              "      <td>417</td>\n",
              "    </tr>\n",
              "    <tr>\n",
              "      <th>Church Street</th>\n",
              "      <td>226</td>\n",
              "      <td>340</td>\n",
              "    </tr>\n",
              "    <tr>\n",
              "      <th>Commercial Street</th>\n",
              "      <td>228</td>\n",
              "      <td>142</td>\n",
              "    </tr>\n",
              "    <tr>\n",
              "      <th>Cunningham Road</th>\n",
              "      <td>168</td>\n",
              "      <td>322</td>\n",
              "    </tr>\n",
              "    <tr>\n",
              "      <th>Domlur</th>\n",
              "      <td>247</td>\n",
              "      <td>235</td>\n",
              "    </tr>\n",
              "    <tr>\n",
              "      <th>Ejipura</th>\n",
              "      <td>214</td>\n",
              "      <td>219</td>\n",
              "    </tr>\n",
              "    <tr>\n",
              "      <th>Electronic City</th>\n",
              "      <td>676</td>\n",
              "      <td>570</td>\n",
              "    </tr>\n",
              "    <tr>\n",
              "      <th>Frazer Town</th>\n",
              "      <td>287</td>\n",
              "      <td>427</td>\n",
              "    </tr>\n",
              "    <tr>\n",
              "      <th>HSR</th>\n",
              "      <td>584</td>\n",
              "      <td>1910</td>\n",
              "    </tr>\n",
              "    <tr>\n",
              "      <th>Indiranagar</th>\n",
              "      <td>697</td>\n",
              "      <td>1329</td>\n",
              "    </tr>\n",
              "    <tr>\n",
              "      <th>JP Nagar</th>\n",
              "      <td>911</td>\n",
              "      <td>1307</td>\n",
              "    </tr>\n",
              "    <tr>\n",
              "      <th>Jayanagar</th>\n",
              "      <td>552</td>\n",
              "      <td>1364</td>\n",
              "    </tr>\n",
              "    <tr>\n",
              "      <th>Kalyan Nagar</th>\n",
              "      <td>350</td>\n",
              "      <td>491</td>\n",
              "    </tr>\n",
              "    <tr>\n",
              "      <th>Kammanahalli</th>\n",
              "      <td>264</td>\n",
              "      <td>375</td>\n",
              "    </tr>\n",
              "    <tr>\n",
              "      <th>Koramangala 1st Block</th>\n",
              "      <td>384</td>\n",
              "      <td>852</td>\n",
              "    </tr>\n",
              "    <tr>\n",
              "      <th>Koramangala 4th Block</th>\n",
              "      <td>459</td>\n",
              "      <td>558</td>\n",
              "    </tr>\n",
              "    <tr>\n",
              "      <th>Koramangala 5th Block</th>\n",
              "      <td>866</td>\n",
              "      <td>1613</td>\n",
              "    </tr>\n",
              "    <tr>\n",
              "      <th>Koramangala 6th Block</th>\n",
              "      <td>445</td>\n",
              "      <td>682</td>\n",
              "    </tr>\n",
              "    <tr>\n",
              "      <th>Koramangala 7th Block</th>\n",
              "      <td>389</td>\n",
              "      <td>785</td>\n",
              "    </tr>\n",
              "    <tr>\n",
              "      <th>Lavelle Road</th>\n",
              "      <td>315</td>\n",
              "      <td>203</td>\n",
              "    </tr>\n",
              "    <tr>\n",
              "      <th>MG Road</th>\n",
              "      <td>520</td>\n",
              "      <td>373</td>\n",
              "    </tr>\n",
              "    <tr>\n",
              "      <th>Malleshwaram</th>\n",
              "      <td>309</td>\n",
              "      <td>412</td>\n",
              "    </tr>\n",
              "    <tr>\n",
              "      <th>Marathahalli</th>\n",
              "      <td>701</td>\n",
              "      <td>1104</td>\n",
              "    </tr>\n",
              "    <tr>\n",
              "      <th>New BEL Road</th>\n",
              "      <td>255</td>\n",
              "      <td>389</td>\n",
              "    </tr>\n",
              "    <tr>\n",
              "      <th>Old Airport Road</th>\n",
              "      <td>221</td>\n",
              "      <td>216</td>\n",
              "    </tr>\n",
              "    <tr>\n",
              "      <th>Rajajinagar</th>\n",
              "      <td>286</td>\n",
              "      <td>305</td>\n",
              "    </tr>\n",
              "    <tr>\n",
              "      <th>Residency Road</th>\n",
              "      <td>424</td>\n",
              "      <td>247</td>\n",
              "    </tr>\n",
              "    <tr>\n",
              "      <th>Richmond Road</th>\n",
              "      <td>557</td>\n",
              "      <td>246</td>\n",
              "    </tr>\n",
              "    <tr>\n",
              "      <th>Sarjapur Road</th>\n",
              "      <td>323</td>\n",
              "      <td>724</td>\n",
              "    </tr>\n",
              "    <tr>\n",
              "      <th>Shanti Nagar</th>\n",
              "      <td>289</td>\n",
              "      <td>219</td>\n",
              "    </tr>\n",
              "    <tr>\n",
              "      <th>Shivajinagar</th>\n",
              "      <td>354</td>\n",
              "      <td>144</td>\n",
              "    </tr>\n",
              "    <tr>\n",
              "      <th>St. Marks Road</th>\n",
              "      <td>176</td>\n",
              "      <td>167</td>\n",
              "    </tr>\n",
              "    <tr>\n",
              "      <th>Ulsoor</th>\n",
              "      <td>389</td>\n",
              "      <td>622</td>\n",
              "    </tr>\n",
              "    <tr>\n",
              "      <th>Whitefield</th>\n",
              "      <td>986</td>\n",
              "      <td>1119</td>\n",
              "    </tr>\n",
              "    <tr>\n",
              "      <th>others</th>\n",
              "      <td>2064</td>\n",
              "      <td>2890</td>\n",
              "    </tr>\n",
              "  </tbody>\n",
              "</table>\n",
              "</div>\n",
              "      <button class=\"colab-df-convert\" onclick=\"convertToInteractive('df-fcce5684-2767-42f8-8e84-197f638a57ca')\"\n",
              "              title=\"Convert this dataframe to an interactive table.\"\n",
              "              style=\"display:none;\">\n",
              "        \n",
              "  <svg xmlns=\"http://www.w3.org/2000/svg\" height=\"24px\"viewBox=\"0 0 24 24\"\n",
              "       width=\"24px\">\n",
              "    <path d=\"M0 0h24v24H0V0z\" fill=\"none\"/>\n",
              "    <path d=\"M18.56 5.44l.94 2.06.94-2.06 2.06-.94-2.06-.94-.94-2.06-.94 2.06-2.06.94zm-11 1L8.5 8.5l.94-2.06 2.06-.94-2.06-.94L8.5 2.5l-.94 2.06-2.06.94zm10 10l.94 2.06.94-2.06 2.06-.94-2.06-.94-.94-2.06-.94 2.06-2.06.94z\"/><path d=\"M17.41 7.96l-1.37-1.37c-.4-.4-.92-.59-1.43-.59-.52 0-1.04.2-1.43.59L10.3 9.45l-7.72 7.72c-.78.78-.78 2.05 0 2.83L4 21.41c.39.39.9.59 1.41.59.51 0 1.02-.2 1.41-.59l7.78-7.78 2.81-2.81c.8-.78.8-2.07 0-2.86zM5.41 20L4 18.59l7.72-7.72 1.47 1.35L5.41 20z\"/>\n",
              "  </svg>\n",
              "      </button>\n",
              "      \n",
              "  <style>\n",
              "    .colab-df-container {\n",
              "      display:flex;\n",
              "      flex-wrap:wrap;\n",
              "      gap: 12px;\n",
              "    }\n",
              "\n",
              "    .colab-df-convert {\n",
              "      background-color: #E8F0FE;\n",
              "      border: none;\n",
              "      border-radius: 50%;\n",
              "      cursor: pointer;\n",
              "      display: none;\n",
              "      fill: #1967D2;\n",
              "      height: 32px;\n",
              "      padding: 0 0 0 0;\n",
              "      width: 32px;\n",
              "    }\n",
              "\n",
              "    .colab-df-convert:hover {\n",
              "      background-color: #E2EBFA;\n",
              "      box-shadow: 0px 1px 2px rgba(60, 64, 67, 0.3), 0px 1px 3px 1px rgba(60, 64, 67, 0.15);\n",
              "      fill: #174EA6;\n",
              "    }\n",
              "\n",
              "    [theme=dark] .colab-df-convert {\n",
              "      background-color: #3B4455;\n",
              "      fill: #D2E3FC;\n",
              "    }\n",
              "\n",
              "    [theme=dark] .colab-df-convert:hover {\n",
              "      background-color: #434B5C;\n",
              "      box-shadow: 0px 1px 3px 1px rgba(0, 0, 0, 0.15);\n",
              "      filter: drop-shadow(0px 1px 2px rgba(0, 0, 0, 0.3));\n",
              "      fill: #FFFFFF;\n",
              "    }\n",
              "  </style>\n",
              "\n",
              "      <script>\n",
              "        const buttonEl =\n",
              "          document.querySelector('#df-fcce5684-2767-42f8-8e84-197f638a57ca button.colab-df-convert');\n",
              "        buttonEl.style.display =\n",
              "          google.colab.kernel.accessAllowed ? 'block' : 'none';\n",
              "\n",
              "        async function convertToInteractive(key) {\n",
              "          const element = document.querySelector('#df-fcce5684-2767-42f8-8e84-197f638a57ca');\n",
              "          const dataTable =\n",
              "            await google.colab.kernel.invokeFunction('convertToInteractive',\n",
              "                                                     [key], {});\n",
              "          if (!dataTable) return;\n",
              "\n",
              "          const docLinkHtml = 'Like what you see? Visit the ' +\n",
              "            '<a target=\"_blank\" href=https://colab.research.google.com/notebooks/data_table.ipynb>data table notebook</a>'\n",
              "            + ' to learn more about interactive tables.';\n",
              "          element.innerHTML = '';\n",
              "          dataTable['output_type'] = 'display_data';\n",
              "          await google.colab.output.renderOutput(dataTable, element);\n",
              "          const docLink = document.createElement('div');\n",
              "          docLink.innerHTML = docLinkHtml;\n",
              "          element.appendChild(docLink);\n",
              "        }\n",
              "      </script>\n",
              "    </div>\n",
              "  </div>\n",
              "  "
            ]
          },
          "metadata": {},
          "execution_count": 318
        }
      ]
    },
    {
      "cell_type": "code",
      "source": [
        "d1.plot(kind='bar', figsize=(20,8))"
      ],
      "metadata": {
        "colab": {
          "base_uri": "https://localhost:8080/",
          "height": 620
        },
        "id": "rvxNmaJMcIWV",
        "outputId": "a8dd1a50-fad5-46f3-b51b-50f856d5c961"
      },
      "execution_count": 319,
      "outputs": [
        {
          "output_type": "execute_result",
          "data": {
            "text/plain": [
              "<matplotlib.axes._subplots.AxesSubplot at 0x7fa4331b5410>"
            ]
          },
          "metadata": {},
          "execution_count": 319
        },
        {
          "output_type": "display_data",
          "data": {
            "text/plain": [
              "<Figure size 1440x576 with 1 Axes>"
            ],
            "image/png": "[encoded data removed]"
          },
          "metadata": {}
        }
      ]
    },
    {
      "cell_type": "markdown",
      "source": [
        "## **Visualizing Book Table Facility Location Wise**"
      ],
      "metadata": {
        "id": "8d4ZHTE8jhvX"
      }
    },
    {
      "cell_type": "code",
      "source": [
        "d2 = zomato.groupby(['location', 'book_table'])['name'].count()\n",
        "d2.to_csv('location_booktable.csv')\n",
        "d2 = pd.read_csv('location_booktable.csv')"
      ],
      "metadata": {
        "id": "skeS7wvIgFo2"
      },
      "execution_count": 320,
      "outputs": []
    },
    {
      "cell_type": "code",
      "source": [
        "d2 = pd.pivot_table(d2, values=None, index=['location'], columns=['book_table'], fill_value=0, aggfunc=np.sum)\n",
        "d2"
      ],
      "metadata": {
        "colab": {
          "base_uri": "https://localhost:8080/",
          "height": 1000
        },
        "id": "Hyiff_2RkA__",
        "outputId": "4768fbce-ae8d-4c3f-f101-17b24db4144f"
      },
      "execution_count": 321,
      "outputs": [
        {
          "output_type": "execute_result",
          "data": {
            "text/plain": [
              "                       name     \n",
              "book_table               No  Yes\n",
              "location                        \n",
              "BTM                    4889  167\n",
              "Banashankari            839   63\n",
              "Banaswadi               632    8\n",
              "Bannerghatta Road      1510   99\n",
              "Basavanagudi            668   16\n",
              "Bellandur              1170   98\n",
              "Brigade Road           1034  176\n",
              "Brookefield             582   74\n",
              "Church Street           385  181\n",
              "Commercial Street       370    0\n",
              "Cunningham Road         315  175\n",
              "Domlur                  427   55\n",
              "Ejipura                 433    0\n",
              "Electronic City        1148   98\n",
              "Frazer Town             706    8\n",
              "HSR                    2277  217\n",
              "Indiranagar            1578  448\n",
              "JP Nagar               1903  315\n",
              "Jayanagar              1637  279\n",
              "Kalyan Nagar            692  149\n",
              "Kammanahalli            590   49\n",
              "Koramangala 1st Block  1186   50\n",
              "Koramangala 4th Block   695  322\n",
              "Koramangala 5th Block  1787  692\n",
              "Koramangala 6th Block  1015  112\n",
              "Koramangala 7th Block  1012  162\n",
              "Lavelle Road            290  228\n",
              "MG Road                 546  347\n",
              "Malleshwaram            632   89\n",
              "Marathahalli           1642  163\n",
              "New BEL Road            588   56\n",
              "Old Airport Road        378   59\n",
              "Rajajinagar             550   41\n",
              "Residency Road          522  149\n",
              "Richmond Road           687  116\n",
              "Sarjapur Road           893  154\n",
              "Shanti Nagar            451   57\n",
              "Shivajinagar            475   23\n",
              "St. Marks Road          219  124\n",
              "Ulsoor                  834  177\n",
              "Whitefield             1852  253\n",
              "others                 4587  367"
            ],
            "text/html": [
              "\n",
              "  <div id=\"df-49731307-a935-4644-9fbb-0b5eb16ff3fc\">\n",
              "    <div class=\"colab-df-container\">\n",
              "      <div>\n",
              "<style scoped>\n",
              "    .dataframe tbody tr th:only-of-type {\n",
              "        vertical-align: middle;\n",
              "    }\n",
              "\n",
              "    .dataframe tbody tr th {\n",
              "        vertical-align: top;\n",
              "    }\n",
              "\n",
              "    .dataframe thead tr th {\n",
              "        text-align: left;\n",
              "    }\n",
              "\n",
              "    .dataframe thead tr:last-of-type th {\n",
              "        text-align: right;\n",
              "    }\n",
              "</style>\n",
              "<table border=\"1\" class=\"dataframe\">\n",
              "  <thead>\n",
              "    <tr>\n",
              "      <th></th>\n",
              "      <th colspan=\"2\" halign=\"left\">name</th>\n",
              "    </tr>\n",
              "    <tr>\n",
              "      <th>book_table</th>\n",
              "      <th>No</th>\n",
              "      <th>Yes</th>\n",
              "    </tr>\n",
              "    <tr>\n",
              "      <th>location</th>\n",
              "      <th></th>\n",
              "      <th></th>\n",
              "    </tr>\n",
              "  </thead>\n",
              "  <tbody>\n",
              "    <tr>\n",
              "      <th>BTM</th>\n",
              "      <td>4889</td>\n",
              "      <td>167</td>\n",
              "    </tr>\n",
              "    <tr>\n",
              "      <th>Banashankari</th>\n",
              "      <td>839</td>\n",
              "      <td>63</td>\n",
              "    </tr>\n",
              "    <tr>\n",
              "      <th>Banaswadi</th>\n",
              "      <td>632</td>\n",
              "      <td>8</td>\n",
              "    </tr>\n",
              "    <tr>\n",
              "      <th>Bannerghatta Road</th>\n",
              "      <td>1510</td>\n",
              "      <td>99</td>\n",
              "    </tr>\n",
              "    <tr>\n",
              "      <th>Basavanagudi</th>\n",
              "      <td>668</td>\n",
              "      <td>16</td>\n",
              "    </tr>\n",
              "    <tr>\n",
              "      <th>Bellandur</th>\n",
              "      <td>1170</td>\n",
              "      <td>98</td>\n",
              "    </tr>\n",
              "    <tr>\n",
              "      <th>Brigade Road</th>\n",
              "      <td>1034</td>\n",
              "      <td>176</td>\n",
              "    </tr>\n",
              "    <tr>\n",
              "      <th>Brookefield</th>\n",
              "      <td>582</td>\n",
              "      <td>74</td>\n",
              "    </tr>\n",
              "    <tr>\n",
              "      <th>Church Street</th>\n",
              "      <td>385</td>\n",
              "      <td>181</td>\n",
              "    </tr>\n",
              "    <tr>\n",
              "      <th>Commercial Street</th>\n",
              "      <td>370</td>\n",
              "      <td>0</td>\n",
              "    </tr>\n",
              "    <tr>\n",
              "      <th>Cunningham Road</th>\n",
              "      <td>315</td>\n",
              "      <td>175</td>\n",
              "    </tr>\n",
              "    <tr>\n",
              "      <th>Domlur</th>\n",
              "      <td>427</td>\n",
              "      <td>55</td>\n",
              "    </tr>\n",
              "    <tr>\n",
              "      <th>Ejipura</th>\n",
              "      <td>433</td>\n",
              "      <td>0</td>\n",
              "    </tr>\n",
              "    <tr>\n",
              "      <th>Electronic City</th>\n",
              "      <td>1148</td>\n",
              "      <td>98</td>\n",
              "    </tr>\n",
              "    <tr>\n",
              "      <th>Frazer Town</th>\n",
              "      <td>706</td>\n",
              "      <td>8</td>\n",
              "    </tr>\n",
              "    <tr>\n",
              "      <th>HSR</th>\n",
              "      <td>2277</td>\n",
              "      <td>217</td>\n",
              "    </tr>\n",
              "    <tr>\n",
              "      <th>Indiranagar</th>\n",
              "      <td>1578</td>\n",
              "      <td>448</td>\n",
              "    </tr>\n",
              "    <tr>\n",
              "      <th>JP Nagar</th>\n",
              "      <td>1903</td>\n",
              "      <td>315</td>\n",
              "    </tr>\n",
              "    <tr>\n",
              "      <th>Jayanagar</th>\n",
              "      <td>1637</td>\n",
              "      <td>279</td>\n",
              "    </tr>\n",
              "    <tr>\n",
              "      <th>Kalyan Nagar</th>\n",
              "      <td>692</td>\n",
              "      <td>149</td>\n",
              "    </tr>\n",
              "    <tr>\n",
              "      <th>Kammanahalli</th>\n",
              "      <td>590</td>\n",
              "      <td>49</td>\n",
              "    </tr>\n",
              "    <tr>\n",
              "      <th>Koramangala 1st Block</th>\n",
              "      <td>1186</td>\n",
              "      <td>50</td>\n",
              "    </tr>\n",
              "    <tr>\n",
              "      <th>Koramangala 4th Block</th>\n",
              "      <td>695</td>\n",
              "      <td>322</td>\n",
              "    </tr>\n",
              "    <tr>\n",
              "      <th>Koramangala 5th Block</th>\n",
              "      <td>1787</td>\n",
              "      <td>692</td>\n",
              "    </tr>\n",
              "    <tr>\n",
              "      <th>Koramangala 6th Block</th>\n",
              "      <td>1015</td>\n",
              "      <td>112</td>\n",
              "    </tr>\n",
              "    <tr>\n",
              "      <th>Koramangala 7th Block</th>\n",
              "      <td>1012</td>\n",
              "      <td>162</td>\n",
              "    </tr>\n",
              "    <tr>\n",
              "      <th>Lavelle Road</th>\n",
              "      <td>290</td>\n",
              "      <td>228</td>\n",
              "    </tr>\n",
              "    <tr>\n",
              "      <th>MG Road</th>\n",
              "      <td>546</td>\n",
              "      <td>347</td>\n",
              "    </tr>\n",
              "    <tr>\n",
              "      <th>Malleshwaram</th>\n",
              "      <td>632</td>\n",
              "      <td>89</td>\n",
              "    </tr>\n",
              "    <tr>\n",
              "      <th>Marathahalli</th>\n",
              "      <td>1642</td>\n",
              "      <td>163</td>\n",
              "    </tr>\n",
              "    <tr>\n",
              "      <th>New BEL Road</th>\n",
              "      <td>588</td>\n",
              "      <td>56</td>\n",
              "    </tr>\n",
              "    <tr>\n",
              "      <th>Old Airport Road</th>\n",
              "      <td>378</td>\n",
              "      <td>59</td>\n",
              "    </tr>\n",
              "    <tr>\n",
              "      <th>Rajajinagar</th>\n",
              "      <td>550</td>\n",
              "      <td>41</td>\n",
              "    </tr>\n",
              "    <tr>\n",
              "      <th>Residency Road</th>\n",
              "      <td>522</td>\n",
              "      <td>149</td>\n",
              "    </tr>\n",
              "    <tr>\n",
              "      <th>Richmond Road</th>\n",
              "      <td>687</td>\n",
              "      <td>116</td>\n",
              "    </tr>\n",
              "    <tr>\n",
              "      <th>Sarjapur Road</th>\n",
              "      <td>893</td>\n",
              "      <td>154</td>\n",
              "    </tr>\n",
              "    <tr>\n",
              "      <th>Shanti Nagar</th>\n",
              "      <td>451</td>\n",
              "      <td>57</td>\n",
              "    </tr>\n",
              "    <tr>\n",
              "      <th>Shivajinagar</th>\n",
              "      <td>475</td>\n",
              "      <td>23</td>\n",
              "    </tr>\n",
              "    <tr>\n",
              "      <th>St. Marks Road</th>\n",
              "      <td>219</td>\n",
              "      <td>124</td>\n",
              "    </tr>\n",
              "    <tr>\n",
              "      <th>Ulsoor</th>\n",
              "      <td>834</td>\n",
              "      <td>177</td>\n",
              "    </tr>\n",
              "    <tr>\n",
              "      <th>Whitefield</th>\n",
              "      <td>1852</td>\n",
              "      <td>253</td>\n",
              "    </tr>\n",
              "    <tr>\n",
              "      <th>others</th>\n",
              "      <td>4587</td>\n",
              "      <td>367</td>\n",
              "    </tr>\n",
              "  </tbody>\n",
              "</table>\n",
              "</div>\n",
              "      <button class=\"colab-df-convert\" onclick=\"convertToInteractive('df-49731307-a935-4644-9fbb-0b5eb16ff3fc')\"\n",
              "              title=\"Convert this dataframe to an interactive table.\"\n",
              "              style=\"display:none;\">\n",
              "        \n",
              "  <svg xmlns=\"http://www.w3.org/2000/svg\" height=\"24px\"viewBox=\"0 0 24 24\"\n",
              "       width=\"24px\">\n",
              "    <path d=\"M0 0h24v24H0V0z\" fill=\"none\"/>\n",
              "    <path d=\"M18.56 5.44l.94 2.06.94-2.06 2.06-.94-2.06-.94-.94-2.06-.94 2.06-2.06.94zm-11 1L8.5 8.5l.94-2.06 2.06-.94-2.06-.94L8.5 2.5l-.94 2.06-2.06.94zm10 10l.94 2.06.94-2.06 2.06-.94-2.06-.94-.94-2.06-.94 2.06-2.06.94z\"/><path d=\"M17.41 7.96l-1.37-1.37c-.4-.4-.92-.59-1.43-.59-.52 0-1.04.2-1.43.59L10.3 9.45l-7.72 7.72c-.78.78-.78 2.05 0 2.83L4 21.41c.39.39.9.59 1.41.59.51 0 1.02-.2 1.41-.59l7.78-7.78 2.81-2.81c.8-.78.8-2.07 0-2.86zM5.41 20L4 18.59l7.72-7.72 1.47 1.35L5.41 20z\"/>\n",
              "  </svg>\n",
              "      </button>\n",
              "      \n",
              "  <style>\n",
              "    .colab-df-container {\n",
              "      display:flex;\n",
              "      flex-wrap:wrap;\n",
              "      gap: 12px;\n",
              "    }\n",
              "\n",
              "    .colab-df-convert {\n",
              "      background-color: #E8F0FE;\n",
              "      border: none;\n",
              "      border-radius: 50%;\n",
              "      cursor: pointer;\n",
              "      display: none;\n",
              "      fill: #1967D2;\n",
              "      height: 32px;\n",
              "      padding: 0 0 0 0;\n",
              "      width: 32px;\n",
              "    }\n",
              "\n",
              "    .colab-df-convert:hover {\n",
              "      background-color: #E2EBFA;\n",
              "      box-shadow: 0px 1px 2px rgba(60, 64, 67, 0.3), 0px 1px 3px 1px rgba(60, 64, 67, 0.15);\n",
              "      fill: #174EA6;\n",
              "    }\n",
              "\n",
              "    [theme=dark] .colab-df-convert {\n",
              "      background-color: #3B4455;\n",
              "      fill: #D2E3FC;\n",
              "    }\n",
              "\n",
              "    [theme=dark] .colab-df-convert:hover {\n",
              "      background-color: #434B5C;\n",
              "      box-shadow: 0px 1px 3px 1px rgba(0, 0, 0, 0.15);\n",
              "      filter: drop-shadow(0px 1px 2px rgba(0, 0, 0, 0.3));\n",
              "      fill: #FFFFFF;\n",
              "    }\n",
              "  </style>\n",
              "\n",
              "      <script>\n",
              "        const buttonEl =\n",
              "          document.querySelector('#df-49731307-a935-4644-9fbb-0b5eb16ff3fc button.colab-df-convert');\n",
              "        buttonEl.style.display =\n",
              "          google.colab.kernel.accessAllowed ? 'block' : 'none';\n",
              "\n",
              "        async function convertToInteractive(key) {\n",
              "          const element = document.querySelector('#df-49731307-a935-4644-9fbb-0b5eb16ff3fc');\n",
              "          const dataTable =\n",
              "            await google.colab.kernel.invokeFunction('convertToInteractive',\n",
              "                                                     [key], {});\n",
              "          if (!dataTable) return;\n",
              "\n",
              "          const docLinkHtml = 'Like what you see? Visit the ' +\n",
              "            '<a target=\"_blank\" href=https://colab.research.google.com/notebooks/data_table.ipynb>data table notebook</a>'\n",
              "            + ' to learn more about interactive tables.';\n",
              "          element.innerHTML = '';\n",
              "          dataTable['output_type'] = 'display_data';\n",
              "          await google.colab.output.renderOutput(dataTable, element);\n",
              "          const docLink = document.createElement('div');\n",
              "          docLink.innerHTML = docLinkHtml;\n",
              "          element.appendChild(docLink);\n",
              "        }\n",
              "      </script>\n",
              "    </div>\n",
              "  </div>\n",
              "  "
            ]
          },
          "metadata": {},
          "execution_count": 321
        }
      ]
    },
    {
      "cell_type": "code",
      "source": [
        "d2.plot(kind='bar', figsize=(20,8))"
      ],
      "metadata": {
        "colab": {
          "base_uri": "https://localhost:8080/",
          "height": 620
        },
        "id": "ZO9yI-TokRFC",
        "outputId": "beaeed1e-a02f-4284-c4fd-1389fc7f4a68"
      },
      "execution_count": 322,
      "outputs": [
        {
          "output_type": "execute_result",
          "data": {
            "text/plain": [
              "<matplotlib.axes._subplots.AxesSubplot at 0x7fa432fd6d10>"
            ]
          },
          "metadata": {},
          "execution_count": 322
        },
        {
          "output_type": "display_data",
          "data": {
            "text/plain": [
              "<Figure size 1440x576 with 1 Axes>"
            ],
            "image/png": "[encoded data removed]"
          },
          "metadata": {}
        }
      ]
    },
    {
      "cell_type": "markdown",
      "source": [
        "## **Visualizing Types of Restaurents VS Rate**"
      ],
      "metadata": {
        "id": "EvX9P3srmG5J"
      }
    },
    {
      "cell_type": "code",
      "source": [
        "d3 = zomato.groupby(['type'])['rate'].mean()\n",
        "d3"
      ],
      "metadata": {
        "colab": {
          "base_uri": "https://localhost:8080/"
        },
        "id": "onU9zCmFmGl0",
        "outputId": "7d069681-df7a-4f7f-b71a-15f07fdc34cd"
      },
      "execution_count": 323,
      "outputs": [
        {
          "output_type": "execute_result",
          "data": {
            "text/plain": [
              "type\n",
              "Buffet                3.973537\n",
              "Cafes                 3.852746\n",
              "Delivery              3.664034\n",
              "Desserts              3.760219\n",
              "Dine-out              3.685901\n",
              "Drinks & nightlife    4.000467\n",
              "Pubs and bars         3.995055\n",
              "Name: rate, dtype: float64"
            ]
          },
          "metadata": {},
          "execution_count": 323
        }
      ]
    },
    {
      "cell_type": "code",
      "source": [
        "d3.plot(kind='bar')"
      ],
      "metadata": {
        "colab": {
          "base_uri": "https://localhost:8080/",
          "height": 374
        },
        "id": "m0aB524tmegR",
        "outputId": "e9f564df-f0dd-4798-d284-77794b8fb152"
      },
      "execution_count": 324,
      "outputs": [
        {
          "output_type": "execute_result",
          "data": {
            "text/plain": [
              "<matplotlib.axes._subplots.AxesSubplot at 0x7fa432e1f5d0>"
            ]
          },
          "metadata": {},
          "execution_count": 324
        },
        {
          "output_type": "display_data",
          "data": {
            "text/plain": [
              "<Figure size 432x288 with 1 Axes>"
            ],
            "image/png": "[encoded data removed]"
          },
          "metadata": {}
        }
      ]
    },
    {
      "cell_type": "code",
      "source": [
        "plt.figure(figsize=(14,8))\n",
        "sns.boxplot(x = 'type', y = 'rate', data = zomato, palette='inferno')"
      ],
      "metadata": {
        "colab": {
          "base_uri": "https://localhost:8080/",
          "height": 514
        },
        "id": "K1iHVJf_m5ld",
        "outputId": "a850e965-6411-47c2-8332-6d7bf3f4c48c"
      },
      "execution_count": 325,
      "outputs": [
        {
          "output_type": "execute_result",
          "data": {
            "text/plain": [
              "<matplotlib.axes._subplots.AxesSubplot at 0x7fa432da7410>"
            ]
          },
          "metadata": {},
          "execution_count": 325
        },
        {
          "output_type": "display_data",
          "data": {
            "text/plain": [
              "<Figure size 1008x576 with 1 Axes>"
            ],
            "image/png": "[encoded data removed]"
          },
          "metadata": {}
        }
      ]
    },
    {
      "cell_type": "markdown",
      "source": [
        "## **Grouping Type of Restaurents Location Wise**"
      ],
      "metadata": {
        "id": "cMdxKbpeoXQ_"
      }
    },
    {
      "cell_type": "code",
      "source": [
        "d3 = zomato.groupby(['location','type'])['name'].count()\n",
        "d3.to_csv('location_type.csv')\n",
        "d3 = pd.read_csv('location_type.csv')\n",
        "d3 = pd.pivot_table(d3, values = None, index = ['location'], columns = ['type'], fill_value = 0, aggfunc = np.sum)\n",
        "d3"
      ],
      "metadata": {
        "colab": {
          "base_uri": "https://localhost:8080/",
          "height": 1000
        },
        "id": "Lnbp8g8xnS0Q",
        "outputId": "afe3a97d-e1d9-4c9f-c080-131739f35fda"
      },
      "execution_count": 326,
      "outputs": [
        {
          "output_type": "execute_result",
          "data": {
            "text/plain": [
              "                        name                                   \\\n",
              "type                  Buffet Cafes Delivery Desserts Dine-out   \n",
              "location                                                        \n",
              "BTM                       21    83     3053      198     1660   \n",
              "Banashankari               7    36      418       71      356   \n",
              "Banaswadi                  0    24      310       37      262   \n",
              "Bannerghatta Road          9    46      828      137      578   \n",
              "Basavanagudi               7    11      344       66      251   \n",
              "Bellandur                 28    36      617       75      479   \n",
              "Brigade Road              25    46      497      108      455   \n",
              "Brookefield                6    17      339       45      245   \n",
              "Church Street             19    51      193       29      215   \n",
              "Commercial Street          0    13      121       77      159   \n",
              "Cunningham Road           29    34      194       26      184   \n",
              "Domlur                    15    13      261       35      135   \n",
              "Ejipura                    0     0      245       16      172   \n",
              "Electronic City           23    24      570       71      516   \n",
              "Frazer Town                1    11      470       56      172   \n",
              "HSR                       19    49     1694      120      580   \n",
              "Indiranagar               38    97     1091      140      529   \n",
              "JP Nagar                  45    76     1151      166      722   \n",
              "Jayanagar                 27    77     1043      182      575   \n",
              "Kalyan Nagar               9    45      366       88      315   \n",
              "Kammanahalli               2    27      329       35      240   \n",
              "Koramangala 1st Block      3    26      716       70      398   \n",
              "Koramangala 4th Block     21    53      464       81      302   \n",
              "Koramangala 5th Block     65   146     1075      209      842   \n",
              "Koramangala 6th Block     18    43      511       70      411   \n",
              "Koramangala 7th Block     25    52      503      127      417   \n",
              "Lavelle Road              30    27      127       50      191   \n",
              "MG Road                   51    76      266       68      343   \n",
              "Malleshwaram              11    31      269       85      291   \n",
              "Marathahalli              34    32      980      105      630   \n",
              "New BEL Road               4    29      338       33      224   \n",
              "Old Airport Road          12     5      200       35      164   \n",
              "Rajajinagar               10     4      258       55      251   \n",
              "Residency Road            20    31      187       63      289   \n",
              "Richmond Road             63    21      257       78      356   \n",
              "Sarjapur Road             25    22      558       82      319   \n",
              "Shanti Nagar               9    22      198       39      229   \n",
              "Shivajinagar               6    17      143       37      280   \n",
              "St. Marks Road             5    10      111       10      145   \n",
              "Ulsoor                    16    56      456       71      359   \n",
              "Whitefield                28    51     1041      137      768   \n",
              "others                    83   133     2787      276     1553   \n",
              "\n",
              "                                                        \n",
              "type                  Drinks & nightlife Pubs and bars  \n",
              "location                                                \n",
              "BTM                                   22            19  \n",
              "Banashankari                          14             0  \n",
              "Banaswadi                              6             1  \n",
              "Bannerghatta Road                      9             2  \n",
              "Basavanagudi                           5             0  \n",
              "Bellandur                             17            16  \n",
              "Brigade Road                          57            22  \n",
              "Brookefield                            4             0  \n",
              "Church Street                         36            23  \n",
              "Commercial Street                      0             0  \n",
              "Cunningham Road                       16             7  \n",
              "Domlur                                12            11  \n",
              "Ejipura                                0             0  \n",
              "Electronic City                       21            21  \n",
              "Frazer Town                            2             2  \n",
              "HSR                                   14            18  \n",
              "Indiranagar                           65            66  \n",
              "JP Nagar                              51             7  \n",
              "Jayanagar                             12             0  \n",
              "Kalyan Nagar                          18             0  \n",
              "Kammanahalli                           6             0  \n",
              "Koramangala 1st Block                  7            16  \n",
              "Koramangala 4th Block                 62            34  \n",
              "Koramangala 5th Block                 84            58  \n",
              "Koramangala 6th Block                 51            23  \n",
              "Koramangala 7th Block                 25            25  \n",
              "Lavelle Road                          59            34  \n",
              "MG Road                               53            36  \n",
              "Malleshwaram                          20            14  \n",
              "Marathahalli                          22             2  \n",
              "New BEL Road                           8             8  \n",
              "Old Airport Road                      12             9  \n",
              "Rajajinagar                            3            10  \n",
              "Residency Road                        55            26  \n",
              "Richmond Road                         16            12  \n",
              "Sarjapur Road                         19            22  \n",
              "Shanti Nagar                           9             2  \n",
              "Shivajinagar                           7             8  \n",
              "St. Marks Road                        40            22  \n",
              "Ulsoor                                23            30  \n",
              "Whitefield                            47            33  \n",
              "others                                75            47  "
            ],
            "text/html": [
              "\n",
              "  <div id=\"df-2398b551-55f7-4903-b1f4-8584e7836a6b\">\n",
              "    <div class=\"colab-df-container\">\n",
              "      <div>\n",
              "<style scoped>\n",
              "    .dataframe tbody tr th:only-of-type {\n",
              "        vertical-align: middle;\n",
              "    }\n",
              "\n",
              "    .dataframe tbody tr th {\n",
              "        vertical-align: top;\n",
              "    }\n",
              "\n",
              "    .dataframe thead tr th {\n",
              "        text-align: left;\n",
              "    }\n",
              "\n",
              "    .dataframe thead tr:last-of-type th {\n",
              "        text-align: right;\n",
              "    }\n",
              "</style>\n",
              "<table border=\"1\" class=\"dataframe\">\n",
              "  <thead>\n",
              "    <tr>\n",
              "      <th></th>\n",
              "      <th colspan=\"7\" halign=\"left\">name</th>\n",
              "    </tr>\n",
              "    <tr>\n",
              "      <th>type</th>\n",
              "      <th>Buffet</th>\n",
              "      <th>Cafes</th>\n",
              "      <th>Delivery</th>\n",
              "      <th>Desserts</th>\n",
              "      <th>Dine-out</th>\n",
              "      <th>Drinks &amp; nightlife</th>\n",
              "      <th>Pubs and bars</th>\n",
              "    </tr>\n",
              "    <tr>\n",
              "      <th>location</th>\n",
              "      <th></th>\n",
              "      <th></th>\n",
              "      <th></th>\n",
              "      <th></th>\n",
              "      <th></th>\n",
              "      <th></th>\n",
              "      <th></th>\n",
              "    </tr>\n",
              "  </thead>\n",
              "  <tbody>\n",
              "    <tr>\n",
              "      <th>BTM</th>\n",
              "      <td>21</td>\n",
              "      <td>83</td>\n",
              "      <td>3053</td>\n",
              "      <td>198</td>\n",
              "      <td>1660</td>\n",
              "      <td>22</td>\n",
              "      <td>19</td>\n",
              "    </tr>\n",
              "    <tr>\n",
              "      <th>Banashankari</th>\n",
              "      <td>7</td>\n",
              "      <td>36</td>\n",
              "      <td>418</td>\n",
              "      <td>71</td>\n",
              "      <td>356</td>\n",
              "      <td>14</td>\n",
              "      <td>0</td>\n",
              "    </tr>\n",
              "    <tr>\n",
              "      <th>Banaswadi</th>\n",
              "      <td>0</td>\n",
              "      <td>24</td>\n",
              "      <td>310</td>\n",
              "      <td>37</td>\n",
              "      <td>262</td>\n",
              "      <td>6</td>\n",
              "      <td>1</td>\n",
              "    </tr>\n",
              "    <tr>\n",
              "      <th>Bannerghatta Road</th>\n",
              "      <td>9</td>\n",
              "      <td>46</td>\n",
              "      <td>828</td>\n",
              "      <td>137</td>\n",
              "      <td>578</td>\n",
              "      <td>9</td>\n",
              "      <td>2</td>\n",
              "    </tr>\n",
              "    <tr>\n",
              "      <th>Basavanagudi</th>\n",
              "      <td>7</td>\n",
              "      <td>11</td>\n",
              "      <td>344</td>\n",
              "      <td>66</td>\n",
              "      <td>251</td>\n",
              "      <td>5</td>\n",
              "      <td>0</td>\n",
              "    </tr>\n",
              "    <tr>\n",
              "      <th>Bellandur</th>\n",
              "      <td>28</td>\n",
              "      <td>36</td>\n",
              "      <td>617</td>\n",
              "      <td>75</td>\n",
              "      <td>479</td>\n",
              "      <td>17</td>\n",
              "      <td>16</td>\n",
              "    </tr>\n",
              "    <tr>\n",
              "      <th>Brigade Road</th>\n",
              "      <td>25</td>\n",
              "      <td>46</td>\n",
              "      <td>497</td>\n",
              "      <td>108</td>\n",
              "      <td>455</td>\n",
              "      <td>57</td>\n",
              "      <td>22</td>\n",
              "    </tr>\n",
              "    <tr>\n",
              "      <th>Brookefield</th>\n",
              "      <td>6</td>\n",
              "      <td>17</td>\n",
              "      <td>339</td>\n",
              "      <td>45</td>\n",
              "      <td>245</td>\n",
              "      <td>4</td>\n",
              "      <td>0</td>\n",
              "    </tr>\n",
              "    <tr>\n",
              "      <th>Church Street</th>\n",
              "      <td>19</td>\n",
              "      <td>51</td>\n",
              "      <td>193</td>\n",
              "      <td>29</td>\n",
              "      <td>215</td>\n",
              "      <td>36</td>\n",
              "      <td>23</td>\n",
              "    </tr>\n",
              "    <tr>\n",
              "      <th>Commercial Street</th>\n",
              "      <td>0</td>\n",
              "      <td>13</td>\n",
              "      <td>121</td>\n",
              "      <td>77</td>\n",
              "      <td>159</td>\n",
              "      <td>0</td>\n",
              "      <td>0</td>\n",
              "    </tr>\n",
              "    <tr>\n",
              "      <th>Cunningham Road</th>\n",
              "      <td>29</td>\n",
              "      <td>34</td>\n",
              "      <td>194</td>\n",
              "      <td>26</td>\n",
              "      <td>184</td>\n",
              "      <td>16</td>\n",
              "      <td>7</td>\n",
              "    </tr>\n",
              "    <tr>\n",
              "      <th>Domlur</th>\n",
              "      <td>15</td>\n",
              "      <td>13</td>\n",
              "      <td>261</td>\n",
              "      <td>35</td>\n",
              "      <td>135</td>\n",
              "      <td>12</td>\n",
              "      <td>11</td>\n",
              "    </tr>\n",
              "    <tr>\n",
              "      <th>Ejipura</th>\n",
              "      <td>0</td>\n",
              "      <td>0</td>\n",
              "      <td>245</td>\n",
              "      <td>16</td>\n",
              "      <td>172</td>\n",
              "      <td>0</td>\n",
              "      <td>0</td>\n",
              "    </tr>\n",
              "    <tr>\n",
              "      <th>Electronic City</th>\n",
              "      <td>23</td>\n",
              "      <td>24</td>\n",
              "      <td>570</td>\n",
              "      <td>71</td>\n",
              "      <td>516</td>\n",
              "      <td>21</td>\n",
              "      <td>21</td>\n",
              "    </tr>\n",
              "    <tr>\n",
              "      <th>Frazer Town</th>\n",
              "      <td>1</td>\n",
              "      <td>11</td>\n",
              "      <td>470</td>\n",
              "      <td>56</td>\n",
              "      <td>172</td>\n",
              "      <td>2</td>\n",
              "      <td>2</td>\n",
              "    </tr>\n",
              "    <tr>\n",
              "      <th>HSR</th>\n",
              "      <td>19</td>\n",
              "      <td>49</td>\n",
              "      <td>1694</td>\n",
              "      <td>120</td>\n",
              "      <td>580</td>\n",
              "      <td>14</td>\n",
              "      <td>18</td>\n",
              "    </tr>\n",
              "    <tr>\n",
              "      <th>Indiranagar</th>\n",
              "      <td>38</td>\n",
              "      <td>97</td>\n",
              "      <td>1091</td>\n",
              "      <td>140</td>\n",
              "      <td>529</td>\n",
              "      <td>65</td>\n",
              "      <td>66</td>\n",
              "    </tr>\n",
              "    <tr>\n",
              "      <th>JP Nagar</th>\n",
              "      <td>45</td>\n",
              "      <td>76</td>\n",
              "      <td>1151</td>\n",
              "      <td>166</td>\n",
              "      <td>722</td>\n",
              "      <td>51</td>\n",
              "      <td>7</td>\n",
              "    </tr>\n",
              "    <tr>\n",
              "      <th>Jayanagar</th>\n",
              "      <td>27</td>\n",
              "      <td>77</td>\n",
              "      <td>1043</td>\n",
              "      <td>182</td>\n",
              "      <td>575</td>\n",
              "      <td>12</td>\n",
              "      <td>0</td>\n",
              "    </tr>\n",
              "    <tr>\n",
              "      <th>Kalyan Nagar</th>\n",
              "      <td>9</td>\n",
              "      <td>45</td>\n",
              "      <td>366</td>\n",
              "      <td>88</td>\n",
              "      <td>315</td>\n",
              "      <td>18</td>\n",
              "      <td>0</td>\n",
              "    </tr>\n",
              "    <tr>\n",
              "      <th>Kammanahalli</th>\n",
              "      <td>2</td>\n",
              "      <td>27</td>\n",
              "      <td>329</td>\n",
              "      <td>35</td>\n",
              "      <td>240</td>\n",
              "      <td>6</td>\n",
              "      <td>0</td>\n",
              "    </tr>\n",
              "    <tr>\n",
              "      <th>Koramangala 1st Block</th>\n",
              "      <td>3</td>\n",
              "      <td>26</td>\n",
              "      <td>716</td>\n",
              "      <td>70</td>\n",
              "      <td>398</td>\n",
              "      <td>7</td>\n",
              "      <td>16</td>\n",
              "    </tr>\n",
              "    <tr>\n",
              "      <th>Koramangala 4th Block</th>\n",
              "      <td>21</td>\n",
              "      <td>53</td>\n",
              "      <td>464</td>\n",
              "      <td>81</td>\n",
              "      <td>302</td>\n",
              "      <td>62</td>\n",
              "      <td>34</td>\n",
              "    </tr>\n",
              "    <tr>\n",
              "      <th>Koramangala 5th Block</th>\n",
              "      <td>65</td>\n",
              "      <td>146</td>\n",
              "      <td>1075</td>\n",
              "      <td>209</td>\n",
              "      <td>842</td>\n",
              "      <td>84</td>\n",
              "      <td>58</td>\n",
              "    </tr>\n",
              "    <tr>\n",
              "      <th>Koramangala 6th Block</th>\n",
              "      <td>18</td>\n",
              "      <td>43</td>\n",
              "      <td>511</td>\n",
              "      <td>70</td>\n",
              "      <td>411</td>\n",
              "      <td>51</td>\n",
              "      <td>23</td>\n",
              "    </tr>\n",
              "    <tr>\n",
              "      <th>Koramangala 7th Block</th>\n",
              "      <td>25</td>\n",
              "      <td>52</td>\n",
              "      <td>503</td>\n",
              "      <td>127</td>\n",
              "      <td>417</td>\n",
              "      <td>25</td>\n",
              "      <td>25</td>\n",
              "    </tr>\n",
              "    <tr>\n",
              "      <th>Lavelle Road</th>\n",
              "      <td>30</td>\n",
              "      <td>27</td>\n",
              "      <td>127</td>\n",
              "      <td>50</td>\n",
              "      <td>191</td>\n",
              "      <td>59</td>\n",
              "      <td>34</td>\n",
              "    </tr>\n",
              "    <tr>\n",
              "      <th>MG Road</th>\n",
              "      <td>51</td>\n",
              "      <td>76</td>\n",
              "      <td>266</td>\n",
              "      <td>68</td>\n",
              "      <td>343</td>\n",
              "      <td>53</td>\n",
              "      <td>36</td>\n",
              "    </tr>\n",
              "    <tr>\n",
              "      <th>Malleshwaram</th>\n",
              "      <td>11</td>\n",
              "      <td>31</td>\n",
              "      <td>269</td>\n",
              "      <td>85</td>\n",
              "      <td>291</td>\n",
              "      <td>20</td>\n",
              "      <td>14</td>\n",
              "    </tr>\n",
              "    <tr>\n",
              "      <th>Marathahalli</th>\n",
              "      <td>34</td>\n",
              "      <td>32</td>\n",
              "      <td>980</td>\n",
              "      <td>105</td>\n",
              "      <td>630</td>\n",
              "      <td>22</td>\n",
              "      <td>2</td>\n",
              "    </tr>\n",
              "    <tr>\n",
              "      <th>New BEL Road</th>\n",
              "      <td>4</td>\n",
              "      <td>29</td>\n",
              "      <td>338</td>\n",
              "      <td>33</td>\n",
              "      <td>224</td>\n",
              "      <td>8</td>\n",
              "      <td>8</td>\n",
              "    </tr>\n",
              "    <tr>\n",
              "      <th>Old Airport Road</th>\n",
              "      <td>12</td>\n",
              "      <td>5</td>\n",
              "      <td>200</td>\n",
              "      <td>35</td>\n",
              "      <td>164</td>\n",
              "      <td>12</td>\n",
              "      <td>9</td>\n",
              "    </tr>\n",
              "    <tr>\n",
              "      <th>Rajajinagar</th>\n",
              "      <td>10</td>\n",
              "      <td>4</td>\n",
              "      <td>258</td>\n",
              "      <td>55</td>\n",
              "      <td>251</td>\n",
              "      <td>3</td>\n",
              "      <td>10</td>\n",
              "    </tr>\n",
              "    <tr>\n",
              "      <th>Residency Road</th>\n",
              "      <td>20</td>\n",
              "      <td>31</td>\n",
              "      <td>187</td>\n",
              "      <td>63</td>\n",
              "      <td>289</td>\n",
              "      <td>55</td>\n",
              "      <td>26</td>\n",
              "    </tr>\n",
              "    <tr>\n",
              "      <th>Richmond Road</th>\n",
              "      <td>63</td>\n",
              "      <td>21</td>\n",
              "      <td>257</td>\n",
              "      <td>78</td>\n",
              "      <td>356</td>\n",
              "      <td>16</td>\n",
              "      <td>12</td>\n",
              "    </tr>\n",
              "    <tr>\n",
              "      <th>Sarjapur Road</th>\n",
              "      <td>25</td>\n",
              "      <td>22</td>\n",
              "      <td>558</td>\n",
              "      <td>82</td>\n",
              "      <td>319</td>\n",
              "      <td>19</td>\n",
              "      <td>22</td>\n",
              "    </tr>\n",
              "    <tr>\n",
              "      <th>Shanti Nagar</th>\n",
              "      <td>9</td>\n",
              "      <td>22</td>\n",
              "      <td>198</td>\n",
              "      <td>39</td>\n",
              "      <td>229</td>\n",
              "      <td>9</td>\n",
              "      <td>2</td>\n",
              "    </tr>\n",
              "    <tr>\n",
              "      <th>Shivajinagar</th>\n",
              "      <td>6</td>\n",
              "      <td>17</td>\n",
              "      <td>143</td>\n",
              "      <td>37</td>\n",
              "      <td>280</td>\n",
              "      <td>7</td>\n",
              "      <td>8</td>\n",
              "    </tr>\n",
              "    <tr>\n",
              "      <th>St. Marks Road</th>\n",
              "      <td>5</td>\n",
              "      <td>10</td>\n",
              "      <td>111</td>\n",
              "      <td>10</td>\n",
              "      <td>145</td>\n",
              "      <td>40</td>\n",
              "      <td>22</td>\n",
              "    </tr>\n",
              "    <tr>\n",
              "      <th>Ulsoor</th>\n",
              "      <td>16</td>\n",
              "      <td>56</td>\n",
              "      <td>456</td>\n",
              "      <td>71</td>\n",
              "      <td>359</td>\n",
              "      <td>23</td>\n",
              "      <td>30</td>\n",
              "    </tr>\n",
              "    <tr>\n",
              "      <th>Whitefield</th>\n",
              "      <td>28</td>\n",
              "      <td>51</td>\n",
              "      <td>1041</td>\n",
              "      <td>137</td>\n",
              "      <td>768</td>\n",
              "      <td>47</td>\n",
              "      <td>33</td>\n",
              "    </tr>\n",
              "    <tr>\n",
              "      <th>others</th>\n",
              "      <td>83</td>\n",
              "      <td>133</td>\n",
              "      <td>2787</td>\n",
              "      <td>276</td>\n",
              "      <td>1553</td>\n",
              "      <td>75</td>\n",
              "      <td>47</td>\n",
              "    </tr>\n",
              "  </tbody>\n",
              "</table>\n",
              "</div>\n",
              "      <button class=\"colab-df-convert\" onclick=\"convertToInteractive('df-2398b551-55f7-4903-b1f4-8584e7836a6b')\"\n",
              "              title=\"Convert this dataframe to an interactive table.\"\n",
              "              style=\"display:none;\">\n",
              "        \n",
              "  <svg xmlns=\"http://www.w3.org/2000/svg\" height=\"24px\"viewBox=\"0 0 24 24\"\n",
              "       width=\"24px\">\n",
              "    <path d=\"M0 0h24v24H0V0z\" fill=\"none\"/>\n",
              "    <path d=\"M18.56 5.44l.94 2.06.94-2.06 2.06-.94-2.06-.94-.94-2.06-.94 2.06-2.06.94zm-11 1L8.5 8.5l.94-2.06 2.06-.94-2.06-.94L8.5 2.5l-.94 2.06-2.06.94zm10 10l.94 2.06.94-2.06 2.06-.94-2.06-.94-.94-2.06-.94 2.06-2.06.94z\"/><path d=\"M17.41 7.96l-1.37-1.37c-.4-.4-.92-.59-1.43-.59-.52 0-1.04.2-1.43.59L10.3 9.45l-7.72 7.72c-.78.78-.78 2.05 0 2.83L4 21.41c.39.39.9.59 1.41.59.51 0 1.02-.2 1.41-.59l7.78-7.78 2.81-2.81c.8-.78.8-2.07 0-2.86zM5.41 20L4 18.59l7.72-7.72 1.47 1.35L5.41 20z\"/>\n",
              "  </svg>\n",
              "      </button>\n",
              "      \n",
              "  <style>\n",
              "    .colab-df-container {\n",
              "      display:flex;\n",
              "      flex-wrap:wrap;\n",
              "      gap: 12px;\n",
              "    }\n",
              "\n",
              "    .colab-df-convert {\n",
              "      background-color: #E8F0FE;\n",
              "      border: none;\n",
              "      border-radius: 50%;\n",
              "      cursor: pointer;\n",
              "      display: none;\n",
              "      fill: #1967D2;\n",
              "      height: 32px;\n",
              "      padding: 0 0 0 0;\n",
              "      width: 32px;\n",
              "    }\n",
              "\n",
              "    .colab-df-convert:hover {\n",
              "      background-color: #E2EBFA;\n",
              "      box-shadow: 0px 1px 2px rgba(60, 64, 67, 0.3), 0px 1px 3px 1px rgba(60, 64, 67, 0.15);\n",
              "      fill: #174EA6;\n",
              "    }\n",
              "\n",
              "    [theme=dark] .colab-df-convert {\n",
              "      background-color: #3B4455;\n",
              "      fill: #D2E3FC;\n",
              "    }\n",
              "\n",
              "    [theme=dark] .colab-df-convert:hover {\n",
              "      background-color: #434B5C;\n",
              "      box-shadow: 0px 1px 3px 1px rgba(0, 0, 0, 0.15);\n",
              "      filter: drop-shadow(0px 1px 2px rgba(0, 0, 0, 0.3));\n",
              "      fill: #FFFFFF;\n",
              "    }\n",
              "  </style>\n",
              "\n",
              "      <script>\n",
              "        const buttonEl =\n",
              "          document.querySelector('#df-2398b551-55f7-4903-b1f4-8584e7836a6b button.colab-df-convert');\n",
              "        buttonEl.style.display =\n",
              "          google.colab.kernel.accessAllowed ? 'block' : 'none';\n",
              "\n",
              "        async function convertToInteractive(key) {\n",
              "          const element = document.querySelector('#df-2398b551-55f7-4903-b1f4-8584e7836a6b');\n",
              "          const dataTable =\n",
              "            await google.colab.kernel.invokeFunction('convertToInteractive',\n",
              "                                                     [key], {});\n",
              "          if (!dataTable) return;\n",
              "\n",
              "          const docLinkHtml = 'Like what you see? Visit the ' +\n",
              "            '<a target=\"_blank\" href=https://colab.research.google.com/notebooks/data_table.ipynb>data table notebook</a>'\n",
              "            + ' to learn more about interactive tables.';\n",
              "          element.innerHTML = '';\n",
              "          dataTable['output_type'] = 'display_data';\n",
              "          await google.colab.output.renderOutput(dataTable, element);\n",
              "          const docLink = document.createElement('div');\n",
              "          docLink.innerHTML = docLinkHtml;\n",
              "          element.appendChild(docLink);\n",
              "        }\n",
              "      </script>\n",
              "    </div>\n",
              "  </div>\n",
              "  "
            ]
          },
          "metadata": {},
          "execution_count": 326
        }
      ]
    },
    {
      "cell_type": "code",
      "source": [
        "d3.plot(kind='bar', figsize=(36,8))"
      ],
      "metadata": {
        "colab": {
          "base_uri": "https://localhost:8080/",
          "height": 389
        },
        "id": "NCLXRqOmpRuQ",
        "outputId": "1cfe4a7e-3ac3-46a5-a9db-35d22f220af5"
      },
      "execution_count": 327,
      "outputs": [
        {
          "output_type": "execute_result",
          "data": {
            "text/plain": [
              "<matplotlib.axes._subplots.AxesSubplot at 0x7fa432c5e3d0>"
            ]
          },
          "metadata": {},
          "execution_count": 327
        },
        {
          "output_type": "display_data",
          "data": {
            "text/plain": [
              "<Figure size 2592x576 with 1 Axes>"
            ],
            "image/png": "[encoded data removed]"
          },
          "metadata": {}
        }
      ]
    },
    {
      "cell_type": "markdown",
      "source": [
        "## **Number of Votes VS Location Wise**"
      ],
      "metadata": {
        "id": "EjFhSt4RpxJY"
      }
    },
    {
      "cell_type": "code",
      "source": [
        "d4 = zomato[['location', 'votes']]\n",
        "d4.drop_duplicates()\n",
        "d5 = d4.groupby(['location'])['votes'].sum()\n",
        "d5 = d5.to_frame()\n",
        "d5 = d5.sort_values('votes', ascending = False)\n",
        "d5.head()"
      ],
      "metadata": {
        "colab": {
          "base_uri": "https://localhost:8080/",
          "height": 238
        },
        "id": "AsMXboaxpcK1",
        "outputId": "97dabc1b-1416-47a7-82b4-6ca5f91f313b"
      },
      "execution_count": 328,
      "outputs": [
        {
          "output_type": "execute_result",
          "data": {
            "text/plain": [
              "                         votes\n",
              "location                      \n",
              "Koramangala 5th Block  2214083\n",
              "Indiranagar            1165909\n",
              "Koramangala 4th Block   685156\n",
              "Church Street           590306\n",
              "JP Nagar                586522"
            ],
            "text/html": [
              "\n",
              "  <div id=\"df-2cc0ee59-f6b9-402a-9872-250bee65002a\">\n",
              "    <div class=\"colab-df-container\">\n",
              "      <div>\n",
              "<style scoped>\n",
              "    .dataframe tbody tr th:only-of-type {\n",
              "        vertical-align: middle;\n",
              "    }\n",
              "\n",
              "    .dataframe tbody tr th {\n",
              "        vertical-align: top;\n",
              "    }\n",
              "\n",
              "    .dataframe thead th {\n",
              "        text-align: right;\n",
              "    }\n",
              "</style>\n",
              "<table border=\"1\" class=\"dataframe\">\n",
              "  <thead>\n",
              "    <tr style=\"text-align: right;\">\n",
              "      <th></th>\n",
              "      <th>votes</th>\n",
              "    </tr>\n",
              "    <tr>\n",
              "      <th>location</th>\n",
              "      <th></th>\n",
              "    </tr>\n",
              "  </thead>\n",
              "  <tbody>\n",
              "    <tr>\n",
              "      <th>Koramangala 5th Block</th>\n",
              "      <td>2214083</td>\n",
              "    </tr>\n",
              "    <tr>\n",
              "      <th>Indiranagar</th>\n",
              "      <td>1165909</td>\n",
              "    </tr>\n",
              "    <tr>\n",
              "      <th>Koramangala 4th Block</th>\n",
              "      <td>685156</td>\n",
              "    </tr>\n",
              "    <tr>\n",
              "      <th>Church Street</th>\n",
              "      <td>590306</td>\n",
              "    </tr>\n",
              "    <tr>\n",
              "      <th>JP Nagar</th>\n",
              "      <td>586522</td>\n",
              "    </tr>\n",
              "  </tbody>\n",
              "</table>\n",
              "</div>\n",
              "      <button class=\"colab-df-convert\" onclick=\"convertToInteractive('df-2cc0ee59-f6b9-402a-9872-250bee65002a')\"\n",
              "              title=\"Convert this dataframe to an interactive table.\"\n",
              "              style=\"display:none;\">\n",
              "        \n",
              "  <svg xmlns=\"http://www.w3.org/2000/svg\" height=\"24px\"viewBox=\"0 0 24 24\"\n",
              "       width=\"24px\">\n",
              "    <path d=\"M0 0h24v24H0V0z\" fill=\"none\"/>\n",
              "    <path d=\"M18.56 5.44l.94 2.06.94-2.06 2.06-.94-2.06-.94-.94-2.06-.94 2.06-2.06.94zm-11 1L8.5 8.5l.94-2.06 2.06-.94-2.06-.94L8.5 2.5l-.94 2.06-2.06.94zm10 10l.94 2.06.94-2.06 2.06-.94-2.06-.94-.94-2.06-.94 2.06-2.06.94z\"/><path d=\"M17.41 7.96l-1.37-1.37c-.4-.4-.92-.59-1.43-.59-.52 0-1.04.2-1.43.59L10.3 9.45l-7.72 7.72c-.78.78-.78 2.05 0 2.83L4 21.41c.39.39.9.59 1.41.59.51 0 1.02-.2 1.41-.59l7.78-7.78 2.81-2.81c.8-.78.8-2.07 0-2.86zM5.41 20L4 18.59l7.72-7.72 1.47 1.35L5.41 20z\"/>\n",
              "  </svg>\n",
              "      </button>\n",
              "      \n",
              "  <style>\n",
              "    .colab-df-container {\n",
              "      display:flex;\n",
              "      flex-wrap:wrap;\n",
              "      gap: 12px;\n",
              "    }\n",
              "\n",
              "    .colab-df-convert {\n",
              "      background-color: #E8F0FE;\n",
              "      border: none;\n",
              "      border-radius: 50%;\n",
              "      cursor: pointer;\n",
              "      display: none;\n",
              "      fill: #1967D2;\n",
              "      height: 32px;\n",
              "      padding: 0 0 0 0;\n",
              "      width: 32px;\n",
              "    }\n",
              "\n",
              "    .colab-df-convert:hover {\n",
              "      background-color: #E2EBFA;\n",
              "      box-shadow: 0px 1px 2px rgba(60, 64, 67, 0.3), 0px 1px 3px 1px rgba(60, 64, 67, 0.15);\n",
              "      fill: #174EA6;\n",
              "    }\n",
              "\n",
              "    [theme=dark] .colab-df-convert {\n",
              "      background-color: #3B4455;\n",
              "      fill: #D2E3FC;\n",
              "    }\n",
              "\n",
              "    [theme=dark] .colab-df-convert:hover {\n",
              "      background-color: #434B5C;\n",
              "      box-shadow: 0px 1px 3px 1px rgba(0, 0, 0, 0.15);\n",
              "      filter: drop-shadow(0px 1px 2px rgba(0, 0, 0, 0.3));\n",
              "      fill: #FFFFFF;\n",
              "    }\n",
              "  </style>\n",
              "\n",
              "      <script>\n",
              "        const buttonEl =\n",
              "          document.querySelector('#df-2cc0ee59-f6b9-402a-9872-250bee65002a button.colab-df-convert');\n",
              "        buttonEl.style.display =\n",
              "          google.colab.kernel.accessAllowed ? 'block' : 'none';\n",
              "\n",
              "        async function convertToInteractive(key) {\n",
              "          const element = document.querySelector('#df-2cc0ee59-f6b9-402a-9872-250bee65002a');\n",
              "          const dataTable =\n",
              "            await google.colab.kernel.invokeFunction('convertToInteractive',\n",
              "                                                     [key], {});\n",
              "          if (!dataTable) return;\n",
              "\n",
              "          const docLinkHtml = 'Like what you see? Visit the ' +\n",
              "            '<a target=\"_blank\" href=https://colab.research.google.com/notebooks/data_table.ipynb>data table notebook</a>'\n",
              "            + ' to learn more about interactive tables.';\n",
              "          element.innerHTML = '';\n",
              "          dataTable['output_type'] = 'display_data';\n",
              "          await google.colab.output.renderOutput(dataTable, element);\n",
              "          const docLink = document.createElement('div');\n",
              "          docLink.innerHTML = docLinkHtml;\n",
              "          element.appendChild(docLink);\n",
              "        }\n",
              "      </script>\n",
              "    </div>\n",
              "  </div>\n",
              "  "
            ]
          },
          "metadata": {},
          "execution_count": 328
        }
      ]
    },
    {
      "cell_type": "code",
      "source": [
        "plt.figure(figsize=(15,8))\n",
        "sns.barplot(d5.index, d5['votes'])\n",
        "plt.xticks(rotation = 90)"
      ],
      "metadata": {
        "colab": {
          "base_uri": "https://localhost:8080/",
          "height": 738
        },
        "id": "HjwvUjEMqF6Y",
        "outputId": "d5e7cf45-aafc-436a-9c11-23e5a94958f4"
      },
      "execution_count": 329,
      "outputs": [
        {
          "output_type": "stream",
          "name": "stderr",
          "text": [
            "/usr/local/lib/python3.7/dist-packages/seaborn/_decorators.py:43: FutureWarning: Pass the following variables as keyword args: x, y. From version 0.12, the only valid positional argument will be `data`, and passing other arguments without an explicit keyword will result in an error or misinterpretation.\n",
            "  FutureWarning\n"
          ]
        },
        {
          "output_type": "execute_result",
          "data": {
            "text/plain": [
              "(array([ 0,  1,  2,  3,  4,  5,  6,  7,  8,  9, 10, 11, 12, 13, 14, 15, 16,\n",
              "        17, 18, 19, 20, 21, 22, 23, 24, 25, 26, 27, 28, 29, 30, 31, 32, 33,\n",
              "        34, 35, 36, 37, 38, 39, 40, 41]),\n",
              " <a list of 42 Text major ticklabel objects>)"
            ]
          },
          "metadata": {},
          "execution_count": 329
        },
        {
          "output_type": "display_data",
          "data": {
            "text/plain": [
              "<Figure size 1080x576 with 1 Axes>"
            ],
            "image/png": "[encoded data removed]"
          },
          "metadata": {}
        }
      ]
    },
    {
      "cell_type": "markdown",
      "source": [
        "## **Visualizing Top Cuisines**"
      ],
      "metadata": {
        "id": "sGUeefCardkx"
      }
    },
    {
      "cell_type": "code",
      "source": [
        "d6 = zomato[['cuisines', 'votes']]\n",
        "d6.drop_duplicates\n",
        "d7 = d6.groupby(['cuisines'])['votes'].sum()\n",
        "d7 = d7.to_frame()\n",
        "d7 = d7.sort_values('votes', ascending = False)\n",
        "d7.head()"
      ],
      "metadata": {
        "colab": {
          "base_uri": "https://localhost:8080/",
          "height": 238
        },
        "id": "bVY6s7ZLrKw2",
        "outputId": "0e9d3201-4b04-48fd-b77f-6f6e4f1cb711"
      },
      "execution_count": 332,
      "outputs": [
        {
          "output_type": "execute_result",
          "data": {
            "text/plain": [
              "                          votes\n",
              "cuisines                       \n",
              "others                 11542182\n",
              "North Indian             516310\n",
              "North Indian, Chinese    258225\n",
              "South Indian             161975\n",
              "North Indian, Mughlai    103706"
            ],
            "text/html": [
              "\n",
              "  <div id=\"df-001b3316-e1e0-4bca-a77e-41b9aa83149f\">\n",
              "    <div class=\"colab-df-container\">\n",
              "      <div>\n",
              "<style scoped>\n",
              "    .dataframe tbody tr th:only-of-type {\n",
              "        vertical-align: middle;\n",
              "    }\n",
              "\n",
              "    .dataframe tbody tr th {\n",
              "        vertical-align: top;\n",
              "    }\n",
              "\n",
              "    .dataframe thead th {\n",
              "        text-align: right;\n",
              "    }\n",
              "</style>\n",
              "<table border=\"1\" class=\"dataframe\">\n",
              "  <thead>\n",
              "    <tr style=\"text-align: right;\">\n",
              "      <th></th>\n",
              "      <th>votes</th>\n",
              "    </tr>\n",
              "    <tr>\n",
              "      <th>cuisines</th>\n",
              "      <th></th>\n",
              "    </tr>\n",
              "  </thead>\n",
              "  <tbody>\n",
              "    <tr>\n",
              "      <th>others</th>\n",
              "      <td>11542182</td>\n",
              "    </tr>\n",
              "    <tr>\n",
              "      <th>North Indian</th>\n",
              "      <td>516310</td>\n",
              "    </tr>\n",
              "    <tr>\n",
              "      <th>North Indian, Chinese</th>\n",
              "      <td>258225</td>\n",
              "    </tr>\n",
              "    <tr>\n",
              "      <th>South Indian</th>\n",
              "      <td>161975</td>\n",
              "    </tr>\n",
              "    <tr>\n",
              "      <th>North Indian, Mughlai</th>\n",
              "      <td>103706</td>\n",
              "    </tr>\n",
              "  </tbody>\n",
              "</table>\n",
              "</div>\n",
              "      <button class=\"colab-df-convert\" onclick=\"convertToInteractive('df-001b3316-e1e0-4bca-a77e-41b9aa83149f')\"\n",
              "              title=\"Convert this dataframe to an interactive table.\"\n",
              "              style=\"display:none;\">\n",
              "        \n",
              "  <svg xmlns=\"http://www.w3.org/2000/svg\" height=\"24px\"viewBox=\"0 0 24 24\"\n",
              "       width=\"24px\">\n",
              "    <path d=\"M0 0h24v24H0V0z\" fill=\"none\"/>\n",
              "    <path d=\"M18.56 5.44l.94 2.06.94-2.06 2.06-.94-2.06-.94-.94-2.06-.94 2.06-2.06.94zm-11 1L8.5 8.5l.94-2.06 2.06-.94-2.06-.94L8.5 2.5l-.94 2.06-2.06.94zm10 10l.94 2.06.94-2.06 2.06-.94-2.06-.94-.94-2.06-.94 2.06-2.06.94z\"/><path d=\"M17.41 7.96l-1.37-1.37c-.4-.4-.92-.59-1.43-.59-.52 0-1.04.2-1.43.59L10.3 9.45l-7.72 7.72c-.78.78-.78 2.05 0 2.83L4 21.41c.39.39.9.59 1.41.59.51 0 1.02-.2 1.41-.59l7.78-7.78 2.81-2.81c.8-.78.8-2.07 0-2.86zM5.41 20L4 18.59l7.72-7.72 1.47 1.35L5.41 20z\"/>\n",
              "  </svg>\n",
              "      </button>\n",
              "      \n",
              "  <style>\n",
              "    .colab-df-container {\n",
              "      display:flex;\n",
              "      flex-wrap:wrap;\n",
              "      gap: 12px;\n",
              "    }\n",
              "\n",
              "    .colab-df-convert {\n",
              "      background-color: #E8F0FE;\n",
              "      border: none;\n",
              "      border-radius: 50%;\n",
              "      cursor: pointer;\n",
              "      display: none;\n",
              "      fill: #1967D2;\n",
              "      height: 32px;\n",
              "      padding: 0 0 0 0;\n",
              "      width: 32px;\n",
              "    }\n",
              "\n",
              "    .colab-df-convert:hover {\n",
              "      background-color: #E2EBFA;\n",
              "      box-shadow: 0px 1px 2px rgba(60, 64, 67, 0.3), 0px 1px 3px 1px rgba(60, 64, 67, 0.15);\n",
              "      fill: #174EA6;\n",
              "    }\n",
              "\n",
              "    [theme=dark] .colab-df-convert {\n",
              "      background-color: #3B4455;\n",
              "      fill: #D2E3FC;\n",
              "    }\n",
              "\n",
              "    [theme=dark] .colab-df-convert:hover {\n",
              "      background-color: #434B5C;\n",
              "      box-shadow: 0px 1px 3px 1px rgba(0, 0, 0, 0.15);\n",
              "      filter: drop-shadow(0px 1px 2px rgba(0, 0, 0, 0.3));\n",
              "      fill: #FFFFFF;\n",
              "    }\n",
              "  </style>\n",
              "\n",
              "      <script>\n",
              "        const buttonEl =\n",
              "          document.querySelector('#df-001b3316-e1e0-4bca-a77e-41b9aa83149f button.colab-df-convert');\n",
              "        buttonEl.style.display =\n",
              "          google.colab.kernel.accessAllowed ? 'block' : 'none';\n",
              "\n",
              "        async function convertToInteractive(key) {\n",
              "          const element = document.querySelector('#df-001b3316-e1e0-4bca-a77e-41b9aa83149f');\n",
              "          const dataTable =\n",
              "            await google.colab.kernel.invokeFunction('convertToInteractive',\n",
              "                                                     [key], {});\n",
              "          if (!dataTable) return;\n",
              "\n",
              "          const docLinkHtml = 'Like what you see? Visit the ' +\n",
              "            '<a target=\"_blank\" href=https://colab.research.google.com/notebooks/data_table.ipynb>data table notebook</a>'\n",
              "            + ' to learn more about interactive tables.';\n",
              "          element.innerHTML = '';\n",
              "          dataTable['output_type'] = 'display_data';\n",
              "          await google.colab.output.renderOutput(dataTable, element);\n",
              "          const docLink = document.createElement('div');\n",
              "          docLink.innerHTML = docLinkHtml;\n",
              "          element.appendChild(docLink);\n",
              "        }\n",
              "      </script>\n",
              "    </div>\n",
              "  </div>\n",
              "  "
            ]
          },
          "metadata": {},
          "execution_count": 332
        }
      ]
    },
    {
      "cell_type": "code",
      "source": [
        "plt.figure(figsize=(15,8))\n",
        "sns.barplot(d7.index, d7['votes'])\n",
        "plt.xticks(rotation = 90)"
      ],
      "metadata": {
        "colab": {
          "base_uri": "https://localhost:8080/",
          "height": 881
        },
        "id": "bY-Uuw5csL0i",
        "outputId": "9d678e14-e30c-4c8c-ebdb-afea2e063fe8"
      },
      "execution_count": 333,
      "outputs": [
        {
          "output_type": "stream",
          "name": "stderr",
          "text": [
            "/usr/local/lib/python3.7/dist-packages/seaborn/_decorators.py:43: FutureWarning: Pass the following variables as keyword args: x, y. From version 0.12, the only valid positional argument will be `data`, and passing other arguments without an explicit keyword will result in an error or misinterpretation.\n",
            "  FutureWarning\n"
          ]
        },
        {
          "output_type": "execute_result",
          "data": {
            "text/plain": [
              "(array([ 0,  1,  2,  3,  4,  5,  6,  7,  8,  9, 10, 11, 12, 13, 14, 15, 16,\n",
              "        17, 18, 19, 20, 21, 22, 23, 24, 25, 26, 27, 28, 29, 30, 31, 32, 33,\n",
              "        34, 35, 36, 37, 38, 39, 40, 41, 42, 43, 44, 45, 46, 47, 48, 49, 50,\n",
              "        51, 52, 53, 54, 55, 56, 57, 58, 59, 60, 61, 62, 63, 64, 65, 66, 67,\n",
              "        68, 69]), <a list of 70 Text major ticklabel objects>)"
            ]
          },
          "metadata": {},
          "execution_count": 333
        },
        {
          "output_type": "display_data",
          "data": {
            "text/plain": [
              "<Figure size 1080x576 with 1 Axes>"
            ],
            "image/png": "[encoded data removed]"
          },
          "metadata": {}
        }
      ]
    },
    {
      "cell_type": "code",
      "source": [
        "# Removing Other row\n",
        "d8 = d7.iloc[1: , :]\n",
        "d8.head()"
      ],
      "metadata": {
        "colab": {
          "base_uri": "https://localhost:8080/",
          "height": 238
        },
        "id": "FDmIiohCsvk_",
        "outputId": "06fffee4-7ab5-4dd1-ce12-e7aab0281aec"
      },
      "execution_count": 336,
      "outputs": [
        {
          "output_type": "execute_result",
          "data": {
            "text/plain": [
              "                        votes\n",
              "cuisines                     \n",
              "North Indian           516310\n",
              "North Indian, Chinese  258225\n",
              "South Indian           161975\n",
              "North Indian, Mughlai  103706\n",
              "Chinese                101728"
            ],
            "text/html": [
              "\n",
              "  <div id=\"df-881a9b01-b829-4d0b-971b-9447790b0eac\">\n",
              "    <div class=\"colab-df-container\">\n",
              "      <div>\n",
              "<style scoped>\n",
              "    .dataframe tbody tr th:only-of-type {\n",
              "        vertical-align: middle;\n",
              "    }\n",
              "\n",
              "    .dataframe tbody tr th {\n",
              "        vertical-align: top;\n",
              "    }\n",
              "\n",
              "    .dataframe thead th {\n",
              "        text-align: right;\n",
              "    }\n",
              "</style>\n",
              "<table border=\"1\" class=\"dataframe\">\n",
              "  <thead>\n",
              "    <tr style=\"text-align: right;\">\n",
              "      <th></th>\n",
              "      <th>votes</th>\n",
              "    </tr>\n",
              "    <tr>\n",
              "      <th>cuisines</th>\n",
              "      <th></th>\n",
              "    </tr>\n",
              "  </thead>\n",
              "  <tbody>\n",
              "    <tr>\n",
              "      <th>North Indian</th>\n",
              "      <td>516310</td>\n",
              "    </tr>\n",
              "    <tr>\n",
              "      <th>North Indian, Chinese</th>\n",
              "      <td>258225</td>\n",
              "    </tr>\n",
              "    <tr>\n",
              "      <th>South Indian</th>\n",
              "      <td>161975</td>\n",
              "    </tr>\n",
              "    <tr>\n",
              "      <th>North Indian, Mughlai</th>\n",
              "      <td>103706</td>\n",
              "    </tr>\n",
              "    <tr>\n",
              "      <th>Chinese</th>\n",
              "      <td>101728</td>\n",
              "    </tr>\n",
              "  </tbody>\n",
              "</table>\n",
              "</div>\n",
              "      <button class=\"colab-df-convert\" onclick=\"convertToInteractive('df-881a9b01-b829-4d0b-971b-9447790b0eac')\"\n",
              "              title=\"Convert this dataframe to an interactive table.\"\n",
              "              style=\"display:none;\">\n",
              "        \n",
              "  <svg xmlns=\"http://www.w3.org/2000/svg\" height=\"24px\"viewBox=\"0 0 24 24\"\n",
              "       width=\"24px\">\n",
              "    <path d=\"M0 0h24v24H0V0z\" fill=\"none\"/>\n",
              "    <path d=\"M18.56 5.44l.94 2.06.94-2.06 2.06-.94-2.06-.94-.94-2.06-.94 2.06-2.06.94zm-11 1L8.5 8.5l.94-2.06 2.06-.94-2.06-.94L8.5 2.5l-.94 2.06-2.06.94zm10 10l.94 2.06.94-2.06 2.06-.94-2.06-.94-.94-2.06-.94 2.06-2.06.94z\"/><path d=\"M17.41 7.96l-1.37-1.37c-.4-.4-.92-.59-1.43-.59-.52 0-1.04.2-1.43.59L10.3 9.45l-7.72 7.72c-.78.78-.78 2.05 0 2.83L4 21.41c.39.39.9.59 1.41.59.51 0 1.02-.2 1.41-.59l7.78-7.78 2.81-2.81c.8-.78.8-2.07 0-2.86zM5.41 20L4 18.59l7.72-7.72 1.47 1.35L5.41 20z\"/>\n",
              "  </svg>\n",
              "      </button>\n",
              "      \n",
              "  <style>\n",
              "    .colab-df-container {\n",
              "      display:flex;\n",
              "      flex-wrap:wrap;\n",
              "      gap: 12px;\n",
              "    }\n",
              "\n",
              "    .colab-df-convert {\n",
              "      background-color: #E8F0FE;\n",
              "      border: none;\n",
              "      border-radius: 50%;\n",
              "      cursor: pointer;\n",
              "      display: none;\n",
              "      fill: #1967D2;\n",
              "      height: 32px;\n",
              "      padding: 0 0 0 0;\n",
              "      width: 32px;\n",
              "    }\n",
              "\n",
              "    .colab-df-convert:hover {\n",
              "      background-color: #E2EBFA;\n",
              "      box-shadow: 0px 1px 2px rgba(60, 64, 67, 0.3), 0px 1px 3px 1px rgba(60, 64, 67, 0.15);\n",
              "      fill: #174EA6;\n",
              "    }\n",
              "\n",
              "    [theme=dark] .colab-df-convert {\n",
              "      background-color: #3B4455;\n",
              "      fill: #D2E3FC;\n",
              "    }\n",
              "\n",
              "    [theme=dark] .colab-df-convert:hover {\n",
              "      background-color: #434B5C;\n",
              "      box-shadow: 0px 1px 3px 1px rgba(0, 0, 0, 0.15);\n",
              "      filter: drop-shadow(0px 1px 2px rgba(0, 0, 0, 0.3));\n",
              "      fill: #FFFFFF;\n",
              "    }\n",
              "  </style>\n",
              "\n",
              "      <script>\n",
              "        const buttonEl =\n",
              "          document.querySelector('#df-881a9b01-b829-4d0b-971b-9447790b0eac button.colab-df-convert');\n",
              "        buttonEl.style.display =\n",
              "          google.colab.kernel.accessAllowed ? 'block' : 'none';\n",
              "\n",
              "        async function convertToInteractive(key) {\n",
              "          const element = document.querySelector('#df-881a9b01-b829-4d0b-971b-9447790b0eac');\n",
              "          const dataTable =\n",
              "            await google.colab.kernel.invokeFunction('convertToInteractive',\n",
              "                                                     [key], {});\n",
              "          if (!dataTable) return;\n",
              "\n",
              "          const docLinkHtml = 'Like what you see? Visit the ' +\n",
              "            '<a target=\"_blank\" href=https://colab.research.google.com/notebooks/data_table.ipynb>data table notebook</a>'\n",
              "            + ' to learn more about interactive tables.';\n",
              "          element.innerHTML = '';\n",
              "          dataTable['output_type'] = 'display_data';\n",
              "          await google.colab.output.renderOutput(dataTable, element);\n",
              "          const docLink = document.createElement('div');\n",
              "          docLink.innerHTML = docLinkHtml;\n",
              "          element.appendChild(docLink);\n",
              "        }\n",
              "      </script>\n",
              "    </div>\n",
              "  </div>\n",
              "  "
            ]
          },
          "metadata": {},
          "execution_count": 336
        }
      ]
    },
    {
      "cell_type": "code",
      "source": [
        "plt.figure(figsize=(15,8))\n",
        "sns.barplot(d8.index, d8['votes'])\n",
        "plt.xticks(rotation = 90)"
      ],
      "metadata": {
        "colab": {
          "base_uri": "https://localhost:8080/",
          "height": 870
        },
        "id": "Vf4z01x7tchj",
        "outputId": "beb46416-d7d3-4459-a0c5-f3955a4a1bce"
      },
      "execution_count": 337,
      "outputs": [
        {
          "output_type": "stream",
          "name": "stderr",
          "text": [
            "/usr/local/lib/python3.7/dist-packages/seaborn/_decorators.py:43: FutureWarning: Pass the following variables as keyword args: x, y. From version 0.12, the only valid positional argument will be `data`, and passing other arguments without an explicit keyword will result in an error or misinterpretation.\n",
            "  FutureWarning\n"
          ]
        },
        {
          "output_type": "execute_result",
          "data": {
            "text/plain": [
              "(array([ 0,  1,  2,  3,  4,  5,  6,  7,  8,  9, 10, 11, 12, 13, 14, 15, 16,\n",
              "        17, 18, 19, 20, 21, 22, 23, 24, 25, 26, 27, 28, 29, 30, 31, 32, 33,\n",
              "        34, 35, 36, 37, 38, 39, 40, 41, 42, 43, 44, 45, 46, 47, 48, 49, 50,\n",
              "        51, 52, 53, 54, 55, 56, 57, 58, 59, 60, 61, 62, 63, 64, 65, 66, 67,\n",
              "        68]), <a list of 69 Text major ticklabel objects>)"
            ]
          },
          "metadata": {},
          "execution_count": 337
        },
        {
          "output_type": "display_data",
          "data": {
            "text/plain": [
              "<Figure size 1080x576 with 1 Axes>"
            ],
            "image/png": "[encoded data removed]"
          },
          "metadata": {}
        }
      ]
    },
    {
      "cell_type": "code",
      "source": [
        ""
      ],
      "metadata": {
        "id": "BnE6ttr3tj69"
      },
      "execution_count": null,
      "outputs": []
    }
  ]
}